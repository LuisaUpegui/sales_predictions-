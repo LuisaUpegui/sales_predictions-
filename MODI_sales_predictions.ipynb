{
  "nbformat": 4,
  "nbformat_minor": 0,
  "metadata": {
    "colab": {
      "provenance": [],
      "mount_file_id": "1yECNHmDhDYYPN1aiPra0X875vPdaUE1u",
      "authorship_tag": "ABX9TyPZMNr9DDeyYIcnNGoIfKEa",
      "include_colab_link": true
    },
    "kernelspec": {
      "name": "python3",
      "display_name": "Python 3"
    },
    "language_info": {
      "name": "python"
    }
  },
  "cells": [
    {
      "cell_type": "markdown",
      "metadata": {
        "id": "view-in-github",
        "colab_type": "text"
      },
      "source": [
        "<a href=\"https://colab.research.google.com/github/LuisaUpegui/sales_predictions-/blob/main/MODI_sales_predictions.ipynb\" target=\"_parent\"><img src=\"https://colab.research.google.com/assets/colab-badge.svg\" alt=\"Open In Colab\"/></a>"
      ]
    },
    {
      "cell_type": "markdown",
      "source": [
        "# Sales prediction \n",
        "\n",
        "Este proyecto tiene como objetivo realizar un modelo que prediga las ventas. "
      ],
      "metadata": {
        "id": "Y7jjXSqjmxSk"
      }
    },
    {
      "cell_type": "markdown",
      "source": [
        "# Exploración de datos.\n",
        "\n",
        "Conocer el set de datos, ver que tipo de variables se tienen, si hay o no valores nulos, si los hay que hacer con ellos. Limpiar nuestro set y mirar que podria contestarse con este."
      ],
      "metadata": {
        "id": "2_sMfDTZm3iw"
      }
    },
    {
      "cell_type": "code",
      "source": [
        "from google.colab import drive #Dar acceso al drive \n",
        "drive.mount('/content/drive')"
      ],
      "metadata": {
        "id": "kq-x_PSuCGkf",
        "colab": {
          "base_uri": "https://localhost:8080/"
        },
        "outputId": "c738a983-fc48-47a3-f938-e6c233b8aad8"
      },
      "execution_count": null,
      "outputs": [
        {
          "output_type": "stream",
          "name": "stdout",
          "text": [
            "Drive already mounted at /content/drive; to attempt to forcibly remount, call drive.mount(\"/content/drive\", force_remount=True).\n"
          ]
        }
      ]
    },
    {
      "cell_type": "code",
      "source": [
        "import seaborn as sns\n",
        "import numpy as np\n",
        "import matplotlib.pyplot as plt\n",
        "\n"
      ],
      "metadata": {
        "id": "m0Pt5xkFpIYx"
      },
      "execution_count": null,
      "outputs": []
    },
    {
      "cell_type": "code",
      "execution_count": null,
      "metadata": {
        "id": "hs88GYafCUDF"
      },
      "outputs": [],
      "source": [
        "import pandas as pd \n",
        "filename=\"/content/drive/MyDrive/Colab Notebooks/Coding dojo/sales-predictions/sales_predictions.csv\""
      ]
    },
    {
      "cell_type": "code",
      "source": [
        "df=pd.read_csv(filename)"
      ],
      "metadata": {
        "id": "y6cTFIF3iI_4"
      },
      "execution_count": null,
      "outputs": []
    },
    {
      "cell_type": "code",
      "source": [
        " #¿Cuántas filas y columnas?  Hay 8523 filas y 12 columnas \n",
        "df.info()"
      ],
      "metadata": {
        "id": "7CNySgak94Xp",
        "colab": {
          "base_uri": "https://localhost:8080/"
        },
        "outputId": "58f1ad40-b055-41a0-ece8-830e710f2eba"
      },
      "execution_count": null,
      "outputs": [
        {
          "output_type": "stream",
          "name": "stdout",
          "text": [
            "<class 'pandas.core.frame.DataFrame'>\n",
            "RangeIndex: 8523 entries, 0 to 8522\n",
            "Data columns (total 12 columns):\n",
            " #   Column                     Non-Null Count  Dtype  \n",
            "---  ------                     --------------  -----  \n",
            " 0   Item_Identifier            8523 non-null   object \n",
            " 1   Item_Weight                7060 non-null   float64\n",
            " 2   Item_Fat_Content           8523 non-null   object \n",
            " 3   Item_Visibility            8523 non-null   float64\n",
            " 4   Item_Type                  8523 non-null   object \n",
            " 5   Item_MRP                   8523 non-null   float64\n",
            " 6   Outlet_Identifier          8523 non-null   object \n",
            " 7   Outlet_Establishment_Year  8523 non-null   int64  \n",
            " 8   Outlet_Size                6113 non-null   object \n",
            " 9   Outlet_Location_Type       8523 non-null   object \n",
            " 10  Outlet_Type                8523 non-null   object \n",
            " 11  Item_Outlet_Sales          8523 non-null   float64\n",
            "dtypes: float64(4), int64(1), object(7)\n",
            "memory usage: 799.2+ KB\n"
          ]
        }
      ]
    },
    {
      "cell_type": "code",
      "source": [
        "#¿Cuáles son los tipos de datos en cada variable?\n",
        "# Hay 4 columnas de tipo flotante, 1 columna con tipo de variable entero, y  7 columnas con tipo de variable categorica (object)"
      ],
      "metadata": {
        "id": "_chWouM7-2ha"
      },
      "execution_count": null,
      "outputs": []
    },
    {
      "cell_type": "code",
      "source": [
        "#3) ¿Hay duplicados? Si es el caso, eliminen algunos duplicados. No hay valores duplicados \n",
        "df.duplicated().sum"
      ],
      "metadata": {
        "id": "QprZEB52AgdH",
        "colab": {
          "base_uri": "https://localhost:8080/"
        },
        "outputId": "2174627d-ea94-4ddc-aeab-879c7a4107eb"
      },
      "execution_count": null,
      "outputs": [
        {
          "output_type": "execute_result",
          "data": {
            "text/plain": [
              "<bound method NDFrame._add_numeric_operations.<locals>.sum of 0       False\n",
              "1       False\n",
              "2       False\n",
              "3       False\n",
              "4       False\n",
              "        ...  \n",
              "8518    False\n",
              "8519    False\n",
              "8520    False\n",
              "8521    False\n",
              "8522    False\n",
              "Length: 8523, dtype: bool>"
            ]
          },
          "metadata": {},
          "execution_count": 84
        }
      ]
    },
    {
      "cell_type": "code",
      "source": [
        "#4) Identifiquen los valores faltantes. Hay dos columnas con valores faltantes, la columna item_weight \n",
        "# y la columna outlet_size \n",
        "df.isna().sum()"
      ],
      "metadata": {
        "id": "r2aQ4UvTBDCD",
        "colab": {
          "base_uri": "https://localhost:8080/"
        },
        "outputId": "15584b45-fb3c-400b-df8c-24964cd1a9d5"
      },
      "execution_count": null,
      "outputs": [
        {
          "output_type": "execute_result",
          "data": {
            "text/plain": [
              "Item_Identifier                 0\n",
              "Item_Weight                  1463\n",
              "Item_Fat_Content                0\n",
              "Item_Visibility                 0\n",
              "Item_Type                       0\n",
              "Item_MRP                        0\n",
              "Outlet_Identifier               0\n",
              "Outlet_Establishment_Year       0\n",
              "Outlet_Size                  2410\n",
              "Outlet_Location_Type            0\n",
              "Outlet_Type                     0\n",
              "Item_Outlet_Sales               0\n",
              "dtype: int64"
            ]
          },
          "metadata": {},
          "execution_count": 85
        }
      ]
    },
    {
      "cell_type": "code",
      "source": [
        "#5) Decidan cómo abordar los valores faltantes y cómo hacerlo. (Esto requiere sus criterios,así que expliquen su elección)."
      ],
      "metadata": {
        "id": "VsXmrYD-fCtN"
      },
      "execution_count": null,
      "outputs": []
    },
    {
      "cell_type": "code",
      "source": [
        "df[df[\"Item_Identifier\"]== \"FDP10\"]\n",
        "\n"
      ],
      "metadata": {
        "id": "2mgKZQDMoMM6",
        "colab": {
          "base_uri": "https://localhost:8080/"
        },
        "outputId": "9f7759c2-5ff7-4ae8-bf2e-135b63308039"
      },
      "execution_count": null,
      "outputs": [
        {
          "output_type": "execute_result",
          "data": {
            "text/plain": [
              "     Item_Identifier  Item_Weight Item_Fat_Content  Item_Visibility  \\\n",
              "7              FDP10          NaN          Low Fat         0.127470   \n",
              "585            FDP10         19.0          Low Fat         0.128066   \n",
              "2623           FDP10         19.0          Low Fat         0.128815   \n",
              "3382           FDP10         19.0          Low Fat         0.128289   \n",
              "4585           FDP10         19.0          Low Fat         0.128090   \n",
              "6087           FDP10         19.0          Low Fat         0.128350   \n",
              "7883           FDP10         19.0          Low Fat         0.127984   \n",
              "\n",
              "        Item_Type  Item_MRP Outlet_Identifier  Outlet_Establishment_Year  \\\n",
              "7     Snack Foods  107.7622            OUT027                       1985   \n",
              "585   Snack Foods  104.3622            OUT035                       2004   \n",
              "2623  Snack Foods  107.6622            OUT017                       2007   \n",
              "3382  Snack Foods  104.9622            OUT049                       1999   \n",
              "4585  Snack Foods  107.0622            OUT046                       1997   \n",
              "6087  Snack Foods  106.5622            OUT045                       2002   \n",
              "7883  Snack Foods  107.6622            OUT013                       1987   \n",
              "\n",
              "     Outlet_Size Outlet_Location_Type        Outlet_Type  Item_Outlet_Sales  \n",
              "7         Medium               Tier 3  Supermarket Type3          4022.7636  \n",
              "585        Small               Tier 2  Supermarket Type1          1905.5196  \n",
              "2623         NaN               Tier 2  Supermarket Type1          1164.4842  \n",
              "3382      Medium               Tier 1  Supermarket Type1          1164.4842  \n",
              "4585       Small               Tier 1  Supermarket Type1          1376.2086  \n",
              "6087         NaN               Tier 2  Supermarket Type1          1482.0708  \n",
              "7883        High               Tier 3  Supermarket Type1          1270.3464  "
            ],
            "text/html": [
              "\n",
              "  <div id=\"df-33955a91-08d3-40ae-a0f8-9334e2060d08\">\n",
              "    <div class=\"colab-df-container\">\n",
              "      <div>\n",
              "<style scoped>\n",
              "    .dataframe tbody tr th:only-of-type {\n",
              "        vertical-align: middle;\n",
              "    }\n",
              "\n",
              "    .dataframe tbody tr th {\n",
              "        vertical-align: top;\n",
              "    }\n",
              "\n",
              "    .dataframe thead th {\n",
              "        text-align: right;\n",
              "    }\n",
              "</style>\n",
              "<table border=\"1\" class=\"dataframe\">\n",
              "  <thead>\n",
              "    <tr style=\"text-align: right;\">\n",
              "      <th></th>\n",
              "      <th>Item_Identifier</th>\n",
              "      <th>Item_Weight</th>\n",
              "      <th>Item_Fat_Content</th>\n",
              "      <th>Item_Visibility</th>\n",
              "      <th>Item_Type</th>\n",
              "      <th>Item_MRP</th>\n",
              "      <th>Outlet_Identifier</th>\n",
              "      <th>Outlet_Establishment_Year</th>\n",
              "      <th>Outlet_Size</th>\n",
              "      <th>Outlet_Location_Type</th>\n",
              "      <th>Outlet_Type</th>\n",
              "      <th>Item_Outlet_Sales</th>\n",
              "    </tr>\n",
              "  </thead>\n",
              "  <tbody>\n",
              "    <tr>\n",
              "      <th>7</th>\n",
              "      <td>FDP10</td>\n",
              "      <td>NaN</td>\n",
              "      <td>Low Fat</td>\n",
              "      <td>0.127470</td>\n",
              "      <td>Snack Foods</td>\n",
              "      <td>107.7622</td>\n",
              "      <td>OUT027</td>\n",
              "      <td>1985</td>\n",
              "      <td>Medium</td>\n",
              "      <td>Tier 3</td>\n",
              "      <td>Supermarket Type3</td>\n",
              "      <td>4022.7636</td>\n",
              "    </tr>\n",
              "    <tr>\n",
              "      <th>585</th>\n",
              "      <td>FDP10</td>\n",
              "      <td>19.0</td>\n",
              "      <td>Low Fat</td>\n",
              "      <td>0.128066</td>\n",
              "      <td>Snack Foods</td>\n",
              "      <td>104.3622</td>\n",
              "      <td>OUT035</td>\n",
              "      <td>2004</td>\n",
              "      <td>Small</td>\n",
              "      <td>Tier 2</td>\n",
              "      <td>Supermarket Type1</td>\n",
              "      <td>1905.5196</td>\n",
              "    </tr>\n",
              "    <tr>\n",
              "      <th>2623</th>\n",
              "      <td>FDP10</td>\n",
              "      <td>19.0</td>\n",
              "      <td>Low Fat</td>\n",
              "      <td>0.128815</td>\n",
              "      <td>Snack Foods</td>\n",
              "      <td>107.6622</td>\n",
              "      <td>OUT017</td>\n",
              "      <td>2007</td>\n",
              "      <td>NaN</td>\n",
              "      <td>Tier 2</td>\n",
              "      <td>Supermarket Type1</td>\n",
              "      <td>1164.4842</td>\n",
              "    </tr>\n",
              "    <tr>\n",
              "      <th>3382</th>\n",
              "      <td>FDP10</td>\n",
              "      <td>19.0</td>\n",
              "      <td>Low Fat</td>\n",
              "      <td>0.128289</td>\n",
              "      <td>Snack Foods</td>\n",
              "      <td>104.9622</td>\n",
              "      <td>OUT049</td>\n",
              "      <td>1999</td>\n",
              "      <td>Medium</td>\n",
              "      <td>Tier 1</td>\n",
              "      <td>Supermarket Type1</td>\n",
              "      <td>1164.4842</td>\n",
              "    </tr>\n",
              "    <tr>\n",
              "      <th>4585</th>\n",
              "      <td>FDP10</td>\n",
              "      <td>19.0</td>\n",
              "      <td>Low Fat</td>\n",
              "      <td>0.128090</td>\n",
              "      <td>Snack Foods</td>\n",
              "      <td>107.0622</td>\n",
              "      <td>OUT046</td>\n",
              "      <td>1997</td>\n",
              "      <td>Small</td>\n",
              "      <td>Tier 1</td>\n",
              "      <td>Supermarket Type1</td>\n",
              "      <td>1376.2086</td>\n",
              "    </tr>\n",
              "    <tr>\n",
              "      <th>6087</th>\n",
              "      <td>FDP10</td>\n",
              "      <td>19.0</td>\n",
              "      <td>Low Fat</td>\n",
              "      <td>0.128350</td>\n",
              "      <td>Snack Foods</td>\n",
              "      <td>106.5622</td>\n",
              "      <td>OUT045</td>\n",
              "      <td>2002</td>\n",
              "      <td>NaN</td>\n",
              "      <td>Tier 2</td>\n",
              "      <td>Supermarket Type1</td>\n",
              "      <td>1482.0708</td>\n",
              "    </tr>\n",
              "    <tr>\n",
              "      <th>7883</th>\n",
              "      <td>FDP10</td>\n",
              "      <td>19.0</td>\n",
              "      <td>Low Fat</td>\n",
              "      <td>0.127984</td>\n",
              "      <td>Snack Foods</td>\n",
              "      <td>107.6622</td>\n",
              "      <td>OUT013</td>\n",
              "      <td>1987</td>\n",
              "      <td>High</td>\n",
              "      <td>Tier 3</td>\n",
              "      <td>Supermarket Type1</td>\n",
              "      <td>1270.3464</td>\n",
              "    </tr>\n",
              "  </tbody>\n",
              "</table>\n",
              "</div>\n",
              "      <button class=\"colab-df-convert\" onclick=\"convertToInteractive('df-33955a91-08d3-40ae-a0f8-9334e2060d08')\"\n",
              "              title=\"Convert this dataframe to an interactive table.\"\n",
              "              style=\"display:none;\">\n",
              "        \n",
              "  <svg xmlns=\"http://www.w3.org/2000/svg\" height=\"24px\"viewBox=\"0 0 24 24\"\n",
              "       width=\"24px\">\n",
              "    <path d=\"M0 0h24v24H0V0z\" fill=\"none\"/>\n",
              "    <path d=\"M18.56 5.44l.94 2.06.94-2.06 2.06-.94-2.06-.94-.94-2.06-.94 2.06-2.06.94zm-11 1L8.5 8.5l.94-2.06 2.06-.94-2.06-.94L8.5 2.5l-.94 2.06-2.06.94zm10 10l.94 2.06.94-2.06 2.06-.94-2.06-.94-.94-2.06-.94 2.06-2.06.94z\"/><path d=\"M17.41 7.96l-1.37-1.37c-.4-.4-.92-.59-1.43-.59-.52 0-1.04.2-1.43.59L10.3 9.45l-7.72 7.72c-.78.78-.78 2.05 0 2.83L4 21.41c.39.39.9.59 1.41.59.51 0 1.02-.2 1.41-.59l7.78-7.78 2.81-2.81c.8-.78.8-2.07 0-2.86zM5.41 20L4 18.59l7.72-7.72 1.47 1.35L5.41 20z\"/>\n",
              "  </svg>\n",
              "      </button>\n",
              "      \n",
              "  <style>\n",
              "    .colab-df-container {\n",
              "      display:flex;\n",
              "      flex-wrap:wrap;\n",
              "      gap: 12px;\n",
              "    }\n",
              "\n",
              "    .colab-df-convert {\n",
              "      background-color: #E8F0FE;\n",
              "      border: none;\n",
              "      border-radius: 50%;\n",
              "      cursor: pointer;\n",
              "      display: none;\n",
              "      fill: #1967D2;\n",
              "      height: 32px;\n",
              "      padding: 0 0 0 0;\n",
              "      width: 32px;\n",
              "    }\n",
              "\n",
              "    .colab-df-convert:hover {\n",
              "      background-color: #E2EBFA;\n",
              "      box-shadow: 0px 1px 2px rgba(60, 64, 67, 0.3), 0px 1px 3px 1px rgba(60, 64, 67, 0.15);\n",
              "      fill: #174EA6;\n",
              "    }\n",
              "\n",
              "    [theme=dark] .colab-df-convert {\n",
              "      background-color: #3B4455;\n",
              "      fill: #D2E3FC;\n",
              "    }\n",
              "\n",
              "    [theme=dark] .colab-df-convert:hover {\n",
              "      background-color: #434B5C;\n",
              "      box-shadow: 0px 1px 3px 1px rgba(0, 0, 0, 0.15);\n",
              "      filter: drop-shadow(0px 1px 2px rgba(0, 0, 0, 0.3));\n",
              "      fill: #FFFFFF;\n",
              "    }\n",
              "  </style>\n",
              "\n",
              "      <script>\n",
              "        const buttonEl =\n",
              "          document.querySelector('#df-33955a91-08d3-40ae-a0f8-9334e2060d08 button.colab-df-convert');\n",
              "        buttonEl.style.display =\n",
              "          google.colab.kernel.accessAllowed ? 'block' : 'none';\n",
              "\n",
              "        async function convertToInteractive(key) {\n",
              "          const element = document.querySelector('#df-33955a91-08d3-40ae-a0f8-9334e2060d08');\n",
              "          const dataTable =\n",
              "            await google.colab.kernel.invokeFunction('convertToInteractive',\n",
              "                                                     [key], {});\n",
              "          if (!dataTable) return;\n",
              "\n",
              "          const docLinkHtml = 'Like what you see? Visit the ' +\n",
              "            '<a target=\"_blank\" href=https://colab.research.google.com/notebooks/data_table.ipynb>data table notebook</a>'\n",
              "            + ' to learn more about interactive tables.';\n",
              "          element.innerHTML = '';\n",
              "          dataTable['output_type'] = 'display_data';\n",
              "          await google.colab.output.renderOutput(dataTable, element);\n",
              "          const docLink = document.createElement('div');\n",
              "          docLink.innerHTML = docLinkHtml;\n",
              "          element.appendChild(docLink);\n",
              "        }\n",
              "      </script>\n",
              "    </div>\n",
              "  </div>\n",
              "  "
            ]
          },
          "metadata": {},
          "execution_count": 87
        }
      ]
    },
    {
      "cell_type": "code",
      "source": [
        "#La columna \"Item_Weighth\" esta asociado con la columna \"Item_Identifier\", despues de hacer una busqueda se pudo encontrar\n",
        "# que el item con  identificador FDP10 era el que presentaba valores faltantes pero algunas de sus filas estaban\n",
        "#completamente llenas es por eso que para rellenar \"Item_Weighth\" se va a usar el valor puesto en el resto de filas el cual es \n",
        "# 19.0\n",
        "\n",
        "df['Item_Weight'].fillna(19.0, inplace=True)\n",
        "\n"
      ],
      "metadata": {
        "id": "d9yhSNL2bl2d"
      },
      "execution_count": null,
      "outputs": []
    },
    {
      "cell_type": "code",
      "source": [
        "#Para la columna \"Outlet_Size\" pasa algo similar al punto anterior pero esta vez hay una asociación entre la columna\n",
        "# \"Outlet_Size\" y \"Outlet_Type\"== grosery store-->  según los datos puede inferirse que los datos faltantes \n",
        "# tienen valor a  'Small' ya que en esta solo hay estos dos valores (nan, 'Small')"
      ],
      "metadata": {
        "id": "bQtU5GXt-Sen"
      },
      "execution_count": null,
      "outputs": []
    },
    {
      "cell_type": "code",
      "source": [
        "grosery = df[\"Outlet_Type\"]=='Grocery Store'\n",
        "df1 = df.loc[grosery, :]"
      ],
      "metadata": {
        "id": "13wDtZyO8NMl"
      },
      "execution_count": null,
      "outputs": []
    },
    {
      "cell_type": "code",
      "source": [
        "#Valores que toma 'Outlet_Size' filtrada por 'Grocery Store\n",
        "df1['Outlet_Size'].unique()"
      ],
      "metadata": {
        "id": "ElHuYohn8Yz3",
        "colab": {
          "base_uri": "https://localhost:8080/"
        },
        "outputId": "ca86847c-5ec3-4366-8aae-4bd96f1bcad6"
      },
      "execution_count": null,
      "outputs": [
        {
          "output_type": "execute_result",
          "data": {
            "text/plain": [
              "array([nan, 'Small'], dtype=object)"
            ]
          },
          "metadata": {},
          "execution_count": 91
        }
      ]
    },
    {
      "cell_type": "code",
      "source": [
        "#Reemplazar los NA por \"Small\"\n",
        "df['Outlet_Size'].fillna('Small', inplace=True)\n"
      ],
      "metadata": {
        "id": "rZFEKoNf-yRt"
      },
      "execution_count": null,
      "outputs": []
    },
    {
      "cell_type": "code",
      "source": [
        "#6. Confirmar que no hay valores faltantes después de abordarlos\n",
        "df.isna().sum()"
      ],
      "metadata": {
        "id": "bPgibpNFeopP",
        "colab": {
          "base_uri": "https://localhost:8080/"
        },
        "outputId": "bd830a53-d294-4314-b639-6399d8e09353"
      },
      "execution_count": null,
      "outputs": [
        {
          "output_type": "execute_result",
          "data": {
            "text/plain": [
              "Item_Identifier              0\n",
              "Item_Weight                  0\n",
              "Item_Fat_Content             0\n",
              "Item_Visibility              0\n",
              "Item_Type                    0\n",
              "Item_MRP                     0\n",
              "Outlet_Identifier            0\n",
              "Outlet_Establishment_Year    0\n",
              "Outlet_Size                  0\n",
              "Outlet_Location_Type         0\n",
              "Outlet_Type                  0\n",
              "Item_Outlet_Sales            0\n",
              "dtype: int64"
            ]
          },
          "metadata": {},
          "execution_count": 93
        }
      ]
    },
    {
      "cell_type": "code",
      "source": [
        "#7. Encuentren y arreglen alguna categoría inconsistente de datos \n",
        "#La columna llamada Item_Fat_Content tiene LF, Low Fat y low fat (estandarizar por Low Fat) y \n",
        "#lo mismo para el valor Regular y reg\n",
        "df['Item_Fat_Content'].unique()"
      ],
      "metadata": {
        "id": "aaXYMB9Ah5qz",
        "colab": {
          "base_uri": "https://localhost:8080/"
        },
        "outputId": "71292f58-b1ba-40a4-e865-5e0d21a6221d"
      },
      "execution_count": null,
      "outputs": [
        {
          "output_type": "execute_result",
          "data": {
            "text/plain": [
              "array(['Low Fat', 'Regular', 'low fat', 'LF', 'reg'], dtype=object)"
            ]
          },
          "metadata": {},
          "execution_count": 94
        }
      ]
    },
    {
      "cell_type": "code",
      "source": [
        "change={'low fat': 'Low Fat','Low Fat':'Low Fat', 'LF':'Low Fat',\"reg\":'Regular','Regular':'Regular' }"
      ],
      "metadata": {
        "id": "obai1wxEA6Ot"
      },
      "execution_count": null,
      "outputs": []
    },
    {
      "cell_type": "code",
      "source": [
        "df['Item_Fat_Content']= df['Item_Fat_Content'].map(change)"
      ],
      "metadata": {
        "id": "HW79CcfLBab4"
      },
      "execution_count": null,
      "outputs": []
    },
    {
      "cell_type": "code",
      "source": [
        "df['Item_Fat_Content'].unique()"
      ],
      "metadata": {
        "id": "kjb--dOmBkR5",
        "colab": {
          "base_uri": "https://localhost:8080/"
        },
        "outputId": "76b52002-2dd7-408b-95ba-74e8d870e0b1"
      },
      "execution_count": null,
      "outputs": [
        {
          "output_type": "execute_result",
          "data": {
            "text/plain": [
              "array(['Low Fat', 'Regular'], dtype=object)"
            ]
          },
          "metadata": {},
          "execution_count": 97
        }
      ]
    },
    {
      "cell_type": "code",
      "source": [
        " #8. Para cualquier columna numérica, obtengan las estadísticas resumidas para cada uno (mínimo, máximo y media)"
      ],
      "metadata": {
        "id": "17b67X_eiGOI"
      },
      "execution_count": null,
      "outputs": []
    },
    {
      "cell_type": "code",
      "source": [
        "df.info()"
      ],
      "metadata": {
        "id": "s_pbxlzfinT0",
        "colab": {
          "base_uri": "https://localhost:8080/"
        },
        "outputId": "8db78372-73dd-4e3a-9c03-1145a4de9148"
      },
      "execution_count": null,
      "outputs": [
        {
          "output_type": "stream",
          "name": "stdout",
          "text": [
            "<class 'pandas.core.frame.DataFrame'>\n",
            "RangeIndex: 8523 entries, 0 to 8522\n",
            "Data columns (total 12 columns):\n",
            " #   Column                     Non-Null Count  Dtype  \n",
            "---  ------                     --------------  -----  \n",
            " 0   Item_Identifier            8523 non-null   object \n",
            " 1   Item_Weight                8523 non-null   float64\n",
            " 2   Item_Fat_Content           8523 non-null   object \n",
            " 3   Item_Visibility            8523 non-null   float64\n",
            " 4   Item_Type                  8523 non-null   object \n",
            " 5   Item_MRP                   8523 non-null   float64\n",
            " 6   Outlet_Identifier          8523 non-null   object \n",
            " 7   Outlet_Establishment_Year  8523 non-null   int64  \n",
            " 8   Outlet_Size                8523 non-null   object \n",
            " 9   Outlet_Location_Type       8523 non-null   object \n",
            " 10  Outlet_Type                8523 non-null   object \n",
            " 11  Item_Outlet_Sales          8523 non-null   float64\n",
            "dtypes: float64(4), int64(1), object(7)\n",
            "memory usage: 799.2+ KB\n"
          ]
        }
      ]
    },
    {
      "cell_type": "code",
      "source": [
        "df['Item_Weight'].describe()\n"
      ],
      "metadata": {
        "id": "KTQQMjigijZo",
        "colab": {
          "base_uri": "https://localhost:8080/"
        },
        "outputId": "a8c37ac8-86d5-4e12-e687-1d5ef3086a3a"
      },
      "execution_count": null,
      "outputs": [
        {
          "output_type": "execute_result",
          "data": {
            "text/plain": [
              "count    8523.000000\n",
              "mean       13.912000\n",
              "std         4.819264\n",
              "min         4.555000\n",
              "25%         9.310000\n",
              "50%        14.500000\n",
              "75%        19.000000\n",
              "max        21.350000\n",
              "Name: Item_Weight, dtype: float64"
            ]
          },
          "metadata": {},
          "execution_count": 100
        }
      ]
    },
    {
      "cell_type": "code",
      "source": [
        "df['Item_Visibility'].describe()\n"
      ],
      "metadata": {
        "id": "WAVQamVJjx7A",
        "colab": {
          "base_uri": "https://localhost:8080/"
        },
        "outputId": "4e419b94-5348-4625-db9f-985c3f3f42e6"
      },
      "execution_count": null,
      "outputs": [
        {
          "output_type": "execute_result",
          "data": {
            "text/plain": [
              "count    8523.000000\n",
              "mean        0.066132\n",
              "std         0.051598\n",
              "min         0.000000\n",
              "25%         0.026989\n",
              "50%         0.053931\n",
              "75%         0.094585\n",
              "max         0.328391\n",
              "Name: Item_Visibility, dtype: float64"
            ]
          },
          "metadata": {},
          "execution_count": 101
        }
      ]
    },
    {
      "cell_type": "code",
      "source": [
        "df['Item_MRP'].describe()\n"
      ],
      "metadata": {
        "id": "NGYoGSDQj0P0",
        "colab": {
          "base_uri": "https://localhost:8080/"
        },
        "outputId": "1908407e-1f17-4f27-d3b9-73e820c8b642"
      },
      "execution_count": null,
      "outputs": [
        {
          "output_type": "execute_result",
          "data": {
            "text/plain": [
              "count    8523.000000\n",
              "mean      140.992782\n",
              "std        62.275067\n",
              "min        31.290000\n",
              "25%        93.826500\n",
              "50%       143.012800\n",
              "75%       185.643700\n",
              "max       266.888400\n",
              "Name: Item_MRP, dtype: float64"
            ]
          },
          "metadata": {},
          "execution_count": 102
        }
      ]
    },
    {
      "cell_type": "code",
      "source": [
        "df['Item_Outlet_Sales'].describe()\n"
      ],
      "metadata": {
        "id": "Mfht6aPej1uY",
        "colab": {
          "base_uri": "https://localhost:8080/"
        },
        "outputId": "23eaaf72-d9ff-43cb-b72b-ccdcb7cf8b0b"
      },
      "execution_count": null,
      "outputs": [
        {
          "output_type": "execute_result",
          "data": {
            "text/plain": [
              "count     8523.000000\n",
              "mean      2181.288914\n",
              "std       1706.499616\n",
              "min         33.290000\n",
              "25%        834.247400\n",
              "50%       1794.331000\n",
              "75%       3101.296400\n",
              "max      13086.964800\n",
              "Name: Item_Outlet_Sales, dtype: float64"
            ]
          },
          "metadata": {},
          "execution_count": 103
        }
      ]
    },
    {
      "cell_type": "markdown",
      "source": [
        "# Análisis exploratorio de los datos "
      ],
      "metadata": {
        "id": "JFqeA5JWm-CL"
      }
    },
    {
      "cell_type": "markdown",
      "source": [
        "Hacer un analisis de nuestro set de datos mediante visualizaciones. "
      ],
      "metadata": {
        "id": "vAA7tNI0naxx"
      }
    },
    {
      "cell_type": "code",
      "source": [
        "df.head()"
      ],
      "metadata": {
        "id": "i997gtRDnhMH",
        "colab": {
          "base_uri": "https://localhost:8080/"
        },
        "outputId": "bf7034a0-7dc7-4591-f400-d93efaa0a5a3"
      },
      "execution_count": null,
      "outputs": [
        {
          "output_type": "execute_result",
          "data": {
            "text/plain": [
              "  Item_Identifier  Item_Weight Item_Fat_Content  Item_Visibility  \\\n",
              "0           FDA15         9.30          Low Fat         0.016047   \n",
              "1           DRC01         5.92          Regular         0.019278   \n",
              "2           FDN15        17.50          Low Fat         0.016760   \n",
              "3           FDX07        19.20          Regular         0.000000   \n",
              "4           NCD19         8.93          Low Fat         0.000000   \n",
              "\n",
              "               Item_Type  Item_MRP Outlet_Identifier  \\\n",
              "0                  Dairy  249.8092            OUT049   \n",
              "1            Soft Drinks   48.2692            OUT018   \n",
              "2                   Meat  141.6180            OUT049   \n",
              "3  Fruits and Vegetables  182.0950            OUT010   \n",
              "4              Household   53.8614            OUT013   \n",
              "\n",
              "   Outlet_Establishment_Year Outlet_Size Outlet_Location_Type  \\\n",
              "0                       1999      Medium               Tier 1   \n",
              "1                       2009      Medium               Tier 3   \n",
              "2                       1999      Medium               Tier 1   \n",
              "3                       1998       Small               Tier 3   \n",
              "4                       1987        High               Tier 3   \n",
              "\n",
              "         Outlet_Type  Item_Outlet_Sales  \n",
              "0  Supermarket Type1          3735.1380  \n",
              "1  Supermarket Type2           443.4228  \n",
              "2  Supermarket Type1          2097.2700  \n",
              "3      Grocery Store           732.3800  \n",
              "4  Supermarket Type1           994.7052  "
            ],
            "text/html": [
              "\n",
              "  <div id=\"df-8b8ceb4f-1d83-4fa3-85aa-318cda595f68\">\n",
              "    <div class=\"colab-df-container\">\n",
              "      <div>\n",
              "<style scoped>\n",
              "    .dataframe tbody tr th:only-of-type {\n",
              "        vertical-align: middle;\n",
              "    }\n",
              "\n",
              "    .dataframe tbody tr th {\n",
              "        vertical-align: top;\n",
              "    }\n",
              "\n",
              "    .dataframe thead th {\n",
              "        text-align: right;\n",
              "    }\n",
              "</style>\n",
              "<table border=\"1\" class=\"dataframe\">\n",
              "  <thead>\n",
              "    <tr style=\"text-align: right;\">\n",
              "      <th></th>\n",
              "      <th>Item_Identifier</th>\n",
              "      <th>Item_Weight</th>\n",
              "      <th>Item_Fat_Content</th>\n",
              "      <th>Item_Visibility</th>\n",
              "      <th>Item_Type</th>\n",
              "      <th>Item_MRP</th>\n",
              "      <th>Outlet_Identifier</th>\n",
              "      <th>Outlet_Establishment_Year</th>\n",
              "      <th>Outlet_Size</th>\n",
              "      <th>Outlet_Location_Type</th>\n",
              "      <th>Outlet_Type</th>\n",
              "      <th>Item_Outlet_Sales</th>\n",
              "    </tr>\n",
              "  </thead>\n",
              "  <tbody>\n",
              "    <tr>\n",
              "      <th>0</th>\n",
              "      <td>FDA15</td>\n",
              "      <td>9.30</td>\n",
              "      <td>Low Fat</td>\n",
              "      <td>0.016047</td>\n",
              "      <td>Dairy</td>\n",
              "      <td>249.8092</td>\n",
              "      <td>OUT049</td>\n",
              "      <td>1999</td>\n",
              "      <td>Medium</td>\n",
              "      <td>Tier 1</td>\n",
              "      <td>Supermarket Type1</td>\n",
              "      <td>3735.1380</td>\n",
              "    </tr>\n",
              "    <tr>\n",
              "      <th>1</th>\n",
              "      <td>DRC01</td>\n",
              "      <td>5.92</td>\n",
              "      <td>Regular</td>\n",
              "      <td>0.019278</td>\n",
              "      <td>Soft Drinks</td>\n",
              "      <td>48.2692</td>\n",
              "      <td>OUT018</td>\n",
              "      <td>2009</td>\n",
              "      <td>Medium</td>\n",
              "      <td>Tier 3</td>\n",
              "      <td>Supermarket Type2</td>\n",
              "      <td>443.4228</td>\n",
              "    </tr>\n",
              "    <tr>\n",
              "      <th>2</th>\n",
              "      <td>FDN15</td>\n",
              "      <td>17.50</td>\n",
              "      <td>Low Fat</td>\n",
              "      <td>0.016760</td>\n",
              "      <td>Meat</td>\n",
              "      <td>141.6180</td>\n",
              "      <td>OUT049</td>\n",
              "      <td>1999</td>\n",
              "      <td>Medium</td>\n",
              "      <td>Tier 1</td>\n",
              "      <td>Supermarket Type1</td>\n",
              "      <td>2097.2700</td>\n",
              "    </tr>\n",
              "    <tr>\n",
              "      <th>3</th>\n",
              "      <td>FDX07</td>\n",
              "      <td>19.20</td>\n",
              "      <td>Regular</td>\n",
              "      <td>0.000000</td>\n",
              "      <td>Fruits and Vegetables</td>\n",
              "      <td>182.0950</td>\n",
              "      <td>OUT010</td>\n",
              "      <td>1998</td>\n",
              "      <td>Small</td>\n",
              "      <td>Tier 3</td>\n",
              "      <td>Grocery Store</td>\n",
              "      <td>732.3800</td>\n",
              "    </tr>\n",
              "    <tr>\n",
              "      <th>4</th>\n",
              "      <td>NCD19</td>\n",
              "      <td>8.93</td>\n",
              "      <td>Low Fat</td>\n",
              "      <td>0.000000</td>\n",
              "      <td>Household</td>\n",
              "      <td>53.8614</td>\n",
              "      <td>OUT013</td>\n",
              "      <td>1987</td>\n",
              "      <td>High</td>\n",
              "      <td>Tier 3</td>\n",
              "      <td>Supermarket Type1</td>\n",
              "      <td>994.7052</td>\n",
              "    </tr>\n",
              "  </tbody>\n",
              "</table>\n",
              "</div>\n",
              "      <button class=\"colab-df-convert\" onclick=\"convertToInteractive('df-8b8ceb4f-1d83-4fa3-85aa-318cda595f68')\"\n",
              "              title=\"Convert this dataframe to an interactive table.\"\n",
              "              style=\"display:none;\">\n",
              "        \n",
              "  <svg xmlns=\"http://www.w3.org/2000/svg\" height=\"24px\"viewBox=\"0 0 24 24\"\n",
              "       width=\"24px\">\n",
              "    <path d=\"M0 0h24v24H0V0z\" fill=\"none\"/>\n",
              "    <path d=\"M18.56 5.44l.94 2.06.94-2.06 2.06-.94-2.06-.94-.94-2.06-.94 2.06-2.06.94zm-11 1L8.5 8.5l.94-2.06 2.06-.94-2.06-.94L8.5 2.5l-.94 2.06-2.06.94zm10 10l.94 2.06.94-2.06 2.06-.94-2.06-.94-.94-2.06-.94 2.06-2.06.94z\"/><path d=\"M17.41 7.96l-1.37-1.37c-.4-.4-.92-.59-1.43-.59-.52 0-1.04.2-1.43.59L10.3 9.45l-7.72 7.72c-.78.78-.78 2.05 0 2.83L4 21.41c.39.39.9.59 1.41.59.51 0 1.02-.2 1.41-.59l7.78-7.78 2.81-2.81c.8-.78.8-2.07 0-2.86zM5.41 20L4 18.59l7.72-7.72 1.47 1.35L5.41 20z\"/>\n",
              "  </svg>\n",
              "      </button>\n",
              "      \n",
              "  <style>\n",
              "    .colab-df-container {\n",
              "      display:flex;\n",
              "      flex-wrap:wrap;\n",
              "      gap: 12px;\n",
              "    }\n",
              "\n",
              "    .colab-df-convert {\n",
              "      background-color: #E8F0FE;\n",
              "      border: none;\n",
              "      border-radius: 50%;\n",
              "      cursor: pointer;\n",
              "      display: none;\n",
              "      fill: #1967D2;\n",
              "      height: 32px;\n",
              "      padding: 0 0 0 0;\n",
              "      width: 32px;\n",
              "    }\n",
              "\n",
              "    .colab-df-convert:hover {\n",
              "      background-color: #E2EBFA;\n",
              "      box-shadow: 0px 1px 2px rgba(60, 64, 67, 0.3), 0px 1px 3px 1px rgba(60, 64, 67, 0.15);\n",
              "      fill: #174EA6;\n",
              "    }\n",
              "\n",
              "    [theme=dark] .colab-df-convert {\n",
              "      background-color: #3B4455;\n",
              "      fill: #D2E3FC;\n",
              "    }\n",
              "\n",
              "    [theme=dark] .colab-df-convert:hover {\n",
              "      background-color: #434B5C;\n",
              "      box-shadow: 0px 1px 3px 1px rgba(0, 0, 0, 0.15);\n",
              "      filter: drop-shadow(0px 1px 2px rgba(0, 0, 0, 0.3));\n",
              "      fill: #FFFFFF;\n",
              "    }\n",
              "  </style>\n",
              "\n",
              "      <script>\n",
              "        const buttonEl =\n",
              "          document.querySelector('#df-8b8ceb4f-1d83-4fa3-85aa-318cda595f68 button.colab-df-convert');\n",
              "        buttonEl.style.display =\n",
              "          google.colab.kernel.accessAllowed ? 'block' : 'none';\n",
              "\n",
              "        async function convertToInteractive(key) {\n",
              "          const element = document.querySelector('#df-8b8ceb4f-1d83-4fa3-85aa-318cda595f68');\n",
              "          const dataTable =\n",
              "            await google.colab.kernel.invokeFunction('convertToInteractive',\n",
              "                                                     [key], {});\n",
              "          if (!dataTable) return;\n",
              "\n",
              "          const docLinkHtml = 'Like what you see? Visit the ' +\n",
              "            '<a target=\"_blank\" href=https://colab.research.google.com/notebooks/data_table.ipynb>data table notebook</a>'\n",
              "            + ' to learn more about interactive tables.';\n",
              "          element.innerHTML = '';\n",
              "          dataTable['output_type'] = 'display_data';\n",
              "          await google.colab.output.renderOutput(dataTable, element);\n",
              "          const docLink = document.createElement('div');\n",
              "          docLink.innerHTML = docLinkHtml;\n",
              "          element.appendChild(docLink);\n",
              "        }\n",
              "      </script>\n",
              "    </div>\n",
              "  </div>\n",
              "  "
            ]
          },
          "metadata": {},
          "execution_count": 104
        }
      ]
    },
    {
      "cell_type": "code",
      "source": [
        "import plotly.express as px\n",
        "\n"
      ],
      "metadata": {
        "id": "cqmLBInOmMiU"
      },
      "execution_count": null,
      "outputs": []
    },
    {
      "cell_type": "code",
      "source": [
        "#Vamos a evaluar la variable que queremos predecir, en este caso Item_Outlet_Sales\n",
        "\n",
        "sns.set_theme(style=\"ticks\", palette=\"pastel\")\n",
        "\n",
        "f, ax = plt.subplots(figsize=(18, 8))\n",
        "sns.despine(f)\n",
        "\n",
        "sns.histplot(\n",
        "    df,\n",
        "    x=\"Item_Outlet_Sales\", \n",
        "    linewidth=.5,\n",
        ")\n"
      ],
      "metadata": {
        "id": "YM--UYAfDHsv",
        "colab": {
          "base_uri": "https://localhost:8080/"
        },
        "outputId": "f4a48972-710b-4744-e750-4880f61b7925"
      },
      "execution_count": null,
      "outputs": [
        {
          "output_type": "execute_result",
          "data": {
            "text/plain": [
              "<matplotlib.axes._subplots.AxesSubplot at 0x7f81e2f765d0>"
            ]
          },
          "metadata": {},
          "execution_count": 106
        },
        {
          "output_type": "display_data",
          "data": {
            "text/plain": [
              "<Figure size 1296x576 with 1 Axes>"
            ],
            "image/png": "[encoded data removed]"
          },
          "metadata": {}
        }
      ]
    },
    {
      "cell_type": "code",
      "source": [
        "# Vamos a evaluar oblicuidad y kurtosis\n",
        "# Oblicuidad/Skewness >0 nos indica que esta esta sesgada a la izquierda, como lo podemos ver en la gráfica \n",
        "# Kurtosis: tiene un valor de 1.6 nos indica que es una grafica platicurtica (achatada)\n",
        "print('Skewness: %f'% df.Item_Outlet_Sales.skew())\n",
        "print('Kurtosis: %f'% df.Item_Outlet_Sales.kurt())"
      ],
      "metadata": {
        "id": "vmMzoq1Vs8rY",
        "colab": {
          "base_uri": "https://localhost:8080/"
        },
        "outputId": "125e10cc-bb9a-49e5-e8a0-855e9e81433e"
      },
      "execution_count": null,
      "outputs": [
        {
          "output_type": "stream",
          "name": "stdout",
          "text": [
            "Skewness: 1.177531\n",
            "Kurtosis: 1.615877\n"
          ]
        }
      ]
    },
    {
      "cell_type": "code",
      "source": [
        "# Promedio de ventas dado el tipo de locación \n",
        "# Este gráfico muestra como el tipo de locacion Tier dos vende en promedio más \n",
        "# que los otros dos, siendo Tier 1 el que vende menos.\n",
        "# \n",
        "sns.set_theme(style=\"ticks\", palette=\"pastel\")\n",
        "\n",
        "sns.barplot(data=df, x='Outlet_Location_Type', y=\"Item_Outlet_Sales\", palette=[\"m\", \"g\",'b'], ci=95,\n",
        "        )\n",
        "plt.show()\n"
      ],
      "metadata": {
        "id": "nVEiNEOsFNp_",
        "colab": {
          "base_uri": "https://localhost:8080/"
        },
        "outputId": "715b16e6-8bac-494b-8d90-affa6e0bdb97"
      },
      "execution_count": null,
      "outputs": [
        {
          "output_type": "display_data",
          "data": {
            "text/plain": [
              "<Figure size 432x288 with 1 Axes>"
            ],
            "image/png": "[encoded data removed]"
          },
          "metadata": {}
        }
      ]
    },
    {
      "cell_type": "code",
      "source": [
        "# Promedio de ventas dado el tamaño de la tienda \n",
        "# En este podemos ver que el número de ventas promedio en la tienda de tamaño medio\n",
        "# es mayor con respecto a los otros dos siendo Small el tamaño de tienda \n",
        "# el cual tiene el promedio de ventas más bajo\n",
        "sns.set_theme(style=\"ticks\", palette=\"pastel\")\n",
        "\n",
        "sns.barplot(data=df, x='Outlet_Size', y=\"Item_Outlet_Sales\",palette=[\"m\", \"g\",'b'] )\n"
      ],
      "metadata": {
        "id": "Tonarwu0Jb1v",
        "colab": {
          "base_uri": "https://localhost:8080/"
        },
        "outputId": "47925d5c-fd56-4f63-cffa-f52d9c2813c5"
      },
      "execution_count": null,
      "outputs": [
        {
          "output_type": "execute_result",
          "data": {
            "text/plain": [
              "<matplotlib.axes._subplots.AxesSubplot at 0x7f81e2f89b90>"
            ]
          },
          "metadata": {},
          "execution_count": 109
        },
        {
          "output_type": "display_data",
          "data": {
            "text/plain": [
              "<Figure size 432x288 with 1 Axes>"
            ],
            "image/png": "[encoded data removed]"
          },
          "metadata": {}
        }
      ]
    },
    {
      "cell_type": "code",
      "source": [
        "## La variable Item_MRP parece tener relacion con la variable a predecir, lo que sugiere que puede ser de gran importancia \n",
        "# en la clasificación. Sin embargo la relacion no es del todo lineal y esto se debe a que hay presencia de outliers  \n",
        "sns.set_theme(style=\"ticks\", palette=\"pastel\")\n",
        "\n",
        "sns.scatterplot(data=df, x=\"Item_MRP\", y=\"Item_Outlet_Sales\")"
      ],
      "metadata": {
        "id": "V9fLshoMLgPI",
        "colab": {
          "base_uri": "https://localhost:8080/"
        },
        "outputId": "a666b694-821a-4d1a-bce6-d2dd2d48547c"
      },
      "execution_count": null,
      "outputs": [
        {
          "output_type": "execute_result",
          "data": {
            "text/plain": [
              "<matplotlib.axes._subplots.AxesSubplot at 0x7f81e3dcb3d0>"
            ]
          },
          "metadata": {},
          "execution_count": 110
        },
        {
          "output_type": "display_data",
          "data": {
            "text/plain": [
              "<Figure size 432x288 with 1 Axes>"
            ],
            "image/png": "[encoded data removed]"
          },
          "metadata": {}
        }
      ]
    },
    {
      "cell_type": "code",
      "source": [
        "## Este gráfico de box plot nos permite observar el a mayor tipo de area  las ventas de los productos\n",
        "# toman valores mayores, ademas la distribucion de los valores en el tier 3 es mayor que en los otros tier \n",
        "# otra de las cosas que se puede observar es que para las tres categorias de tier hay outliers.\n",
        "\n",
        "sns.set_theme(style=\"ticks\", palette=\"pastel\")\n",
        "\n",
        "sns.boxplot(x=\"Outlet_Location_Type\", y=\"Item_Outlet_Sales\",\n",
        "           palette=[\"m\", \"g\",'b'],\n",
        "            data=df)\n",
        "sns.despine(offset=1, trim= False)\n"
      ],
      "metadata": {
        "id": "8bS7uAVTOrc0",
        "colab": {
          "base_uri": "https://localhost:8080/"
        },
        "outputId": "b54abde2-cdf2-4ff4-88b9-91f1f3f39758"
      },
      "execution_count": null,
      "outputs": [
        {
          "output_type": "display_data",
          "data": {
            "text/plain": [
              "<Figure size 432x288 with 1 Axes>"
            ],
            "image/png": "[encoded data removed]"
          },
          "metadata": {}
        }
      ]
    },
    {
      "cell_type": "code",
      "source": [
        "temp = df.reset_index().groupby(['Item_Type', 'Outlet_Size'])['Item_Outlet_Sales'].mean()\n"
      ],
      "metadata": {
        "id": "6O0378OwtynH"
      },
      "execution_count": null,
      "outputs": []
    },
    {
      "cell_type": "code",
      "source": [
        "temp = temp.reset_index()"
      ],
      "metadata": {
        "id": "8wGP_7lx8PVt"
      },
      "execution_count": null,
      "outputs": []
    },
    {
      "cell_type": "code",
      "source": [
        "Filter=(temp[(temp.Item_Type=='Household') | (temp.Item_Type=='Dairy')])"
      ],
      "metadata": {
        "id": "LdrE0RPxtx7o"
      },
      "execution_count": null,
      "outputs": []
    },
    {
      "cell_type": "code",
      "source": [
        "# Barplot anidado:  Ventas de Dairy y House hold dado el tamaño de la tienda\n",
        "# Este gráfico muestra como las ventas de ambos productos son mayores en las tiendas con tamaño medio\n",
        "# y como en las tiendas de tamaño pequeño la venta de los productos disminuye. \n",
        "sns.set_theme(style=\"ticks\", palette=\"pastel\")\n",
        "\n",
        "g = sns.catplot(\n",
        "    data= Filter , kind=\"bar\",\n",
        "    x=\"Outlet_Size\", y=\"Item_Outlet_Sales\", hue=\"Item_Type\", palette=[\"m\", \"g\"]\n",
        ")\n",
        "g.despine(left=True)\n",
        "g.set_axis_labels(\"Outlet Size\", \"Item Outlet Sales\")\n",
        "g.legend.set_title(\"Item Type\")\n"
      ],
      "metadata": {
        "id": "TO4A--HW0jx4",
        "colab": {
          "base_uri": "https://localhost:8080/"
        },
        "outputId": "15610be7-93d9-4ef1-cff3-2c43f63cf67e"
      },
      "execution_count": null,
      "outputs": [
        {
          "output_type": "display_data",
          "data": {
            "text/plain": [
              "<Figure size 458.1x360 with 1 Axes>"
            ],
            "image/png": "[encoded data removed]"
          },
          "metadata": {}
        }
      ]
    },
    {
      "cell_type": "code",
      "source": [
        "#¿Que tan correlacionados estan los datos ?"
      ],
      "metadata": {
        "id": "c-yAqqfQqEGj"
      },
      "execution_count": null,
      "outputs": []
    },
    {
      "cell_type": "code",
      "source": [
        "# En esta matriz de correlación podemos ver que la unica variable numerica que tiene correlación con la variable a predecir\n",
        "# es Item MRP esta correlación es positiva y de casi 0.6\n",
        "\n",
        "corr = df.corr() \n",
        "k = 5 #number of variables for heatmap\n",
        "plt.subplots(figsize=(7,5))\n",
        "cols = corr.nlargest(k, 'Item_Outlet_Sales')['Item_Outlet_Sales'].index\n",
        "cm = np.corrcoef(df[cols].values.T)\n",
        "sns.set(font_scale=1.25)\n",
        "hm = sns.heatmap(cm, cbar=True, annot=True, square=True, fmt='.2f', annot_kws={'size': 10}, yticklabels=cols.values, xticklabels=cols.values)\n",
        "plt.show()"
      ],
      "metadata": {
        "id": "BtDE674uek24",
        "colab": {
          "base_uri": "https://localhost:8080/"
        },
        "outputId": "aa6fa1cc-d858-44b7-8788-544afe670a19"
      },
      "execution_count": null,
      "outputs": [
        {
          "output_type": "display_data",
          "data": {
            "text/plain": [
              "<Figure size 504x360 with 2 Axes>"
            ],
            "image/png": "[encoded data removed]"
          },
          "metadata": {}
        }
      ]
    },
    {
      "cell_type": "code",
      "source": [
        "# Gráfico de distribución para cada variable numérica\n",
        "# ==============================================================================\n",
        "# Ajustar número de subplots en función del número de columnas\n",
        "fig, axes = plt.subplots(nrows=5, ncols=1, figsize=(9, 10))\n",
        "axes = axes.flat\n",
        "columnas_numeric = df.select_dtypes(include=['float64', 'int']).columns\n",
        "\n",
        "for i, colum in enumerate(columnas_numeric):\n",
        "    sns.histplot(\n",
        "        data    = df,\n",
        "        x       = colum,\n",
        "        stat    = \"count\",\n",
        "        kde     = True,\n",
        "        color   = (list(plt.rcParams['axes.prop_cycle'])*2)[i][\"color\"],\n",
        "        line_kws= {'linewidth': 2},\n",
        "        alpha   = 0.3,\n",
        "        ax      = axes[i]\n",
        "    )\n",
        "    axes[i].set_title(colum, fontsize = 10, fontweight = \"bold\")\n",
        "    axes[i].tick_params(labelsize = 8)\n",
        "    axes[i].set_xlabel(\"\")\n",
        "\n",
        "\n",
        "    \n",
        "fig.tight_layout()\n",
        "plt.subplots_adjust(top = 0.9)\n",
        "fig.suptitle('Distribución variables numéricas', fontsize = 10, fontweight = \"bold\");"
      ],
      "metadata": {
        "id": "5QVFO7Icrs1B",
        "colab": {
          "base_uri": "https://localhost:8080/"
        },
        "outputId": "c2288e70-ac2a-474c-e3bf-f0e39f4eedf6"
      },
      "execution_count": null,
      "outputs": [
        {
          "output_type": "display_data",
          "data": {
            "text/plain": [
              "<Figure size 648x720 with 5 Axes>"
            ],
            "image/png": "[encoded data removed]"
          },
          "metadata": {}
        }
      ]
    },
    {
      "cell_type": "markdown",
      "source": [
        "# Preprosesamiento"
      ],
      "metadata": {
        "id": "zsgfd2c5g4SJ"
      }
    },
    {
      "cell_type": "code",
      "source": [
        "import numpy as np\n",
        "from sklearn.pipeline import make_pipeline\n",
        "from sklearn.preprocessing import StandardScaler, OneHotEncoder, MinMaxScaler,OrdinalEncoder\n",
        "\n",
        "from sklearn.model_selection import train_test_split\n",
        "from sklearn import set_config\n",
        "set_config(display='diagram')\n",
        "from sklearn.compose import make_column_selector, make_column_transformer"
      ],
      "metadata": {
        "id": "H1DBP32-LWCz"
      },
      "execution_count": null,
      "outputs": []
    },
    {
      "cell_type": "code",
      "source": [
        "#Eliminar Item Outlet sales de la variable X, y aquellos que no son caracteristicas \n",
        "X = df.drop(columns=['Item_Outlet_Sales','Item_Identifier','Outlet_Identifier'])\n",
        "#Definir y como mi varible objeto, la que quiero predecir\n",
        "y = df['Item_Outlet_Sales']"
      ],
      "metadata": {
        "id": "hTkizLp9i-ns"
      },
      "execution_count": null,
      "outputs": []
    },
    {
      "cell_type": "code",
      "source": [
        "y.describe()"
      ],
      "metadata": {
        "id": "MdPsaSXwqdk-",
        "colab": {
          "base_uri": "https://localhost:8080/"
        },
        "outputId": "b4bd8a46-68e1-4a76-99fa-d98436fdca4e"
      },
      "execution_count": null,
      "outputs": [
        {
          "output_type": "execute_result",
          "data": {
            "text/plain": [
              "count     8523.000000\n",
              "mean      2181.288914\n",
              "std       1706.499616\n",
              "min         33.290000\n",
              "25%        834.247400\n",
              "50%       1794.331000\n",
              "75%       3101.296400\n",
              "max      13086.964800\n",
              "Name: Item_Outlet_Sales, dtype: float64"
            ]
          },
          "metadata": {},
          "execution_count": 121
        }
      ]
    },
    {
      "cell_type": "code",
      "source": [
        "#Realicen un train test split\n",
        "X_train, X_test, y_train, y_test = train_test_split(X, y, test_size=0.1, random_state = 42)"
      ],
      "metadata": {
        "id": "QcCaPr9DjEax"
      },
      "execution_count": null,
      "outputs": []
    },
    {
      "cell_type": "code",
      "source": [
        "#Inicializar transformadores\n",
        "ordinal_encoder = OrdinalEncoder()\n",
        "scaler = StandardScaler()\n",
        "ohe = OneHotEncoder(handle_unknown=\"ignore\", sparse=False)"
      ],
      "metadata": {
        "id": "YYb61olQgeNn"
      },
      "execution_count": null,
      "outputs": []
    },
    {
      "cell_type": "code",
      "source": [
        "#Inicializar pipelines \n",
        "num_pipe = make_pipeline(scaler)\n",
        "ord_cat_pipe = make_pipeline(ordinal_encoder)\n",
        "nom_cat_pipe = make_pipeline(ohe)"
      ],
      "metadata": {
        "id": "LeggF8nlgZNY"
      },
      "execution_count": null,
      "outputs": []
    },
    {
      "cell_type": "code",
      "source": [
        "num_tuple = (num_pipe, ['Item_Visibility', 'Item_MRP'])\n",
        "ord_tuple = (ord_cat_pipe, [\"Item_Fat_Content\", \"Outlet_Size\"])\n",
        "nom_tuple = (nom_cat_pipe, [\"Item_Type\",\"Outlet_Location_Type\", \"Outlet_Type\"])"
      ],
      "metadata": {
        "id": "7iHti0nUhNMc"
      },
      "execution_count": null,
      "outputs": []
    },
    {
      "cell_type": "code",
      "source": [
        "#Inicializar las columnas transformer\n",
        "preprocessor = make_column_transformer(num_tuple, ord_tuple, nom_tuple)\n",
        "preprocessor"
      ],
      "metadata": {
        "id": "GoQz3PXPhV6g",
        "colab": {
          "base_uri": "https://localhost:8080/",
          "height": 118
        },
        "outputId": "c2206b90-00c4-48b4-b94e-029ab7a508b4"
      },
      "execution_count": null,
      "outputs": [
        {
          "output_type": "execute_result",
          "data": {
            "text/plain": [
              "ColumnTransformer(transformers=[('pipeline-1',\n",
              "                                 Pipeline(steps=[('standardscaler',\n",
              "                                                  StandardScaler())]),\n",
              "                                 ['Item_Visibility', 'Item_MRP']),\n",
              "                                ('pipeline-2',\n",
              "                                 Pipeline(steps=[('ordinalencoder',\n",
              "                                                  OrdinalEncoder())]),\n",
              "                                 ['Item_Fat_Content', 'Outlet_Size']),\n",
              "                                ('pipeline-3',\n",
              "                                 Pipeline(steps=[('onehotencoder',\n",
              "                                                  OneHotEncoder(handle_unknown='ignore',\n",
              "                                                                sparse=False))]),\n",
              "                                 ['Item_Type', 'Outlet_Location_Type',\n",
              "                                  'Outlet_Type'])])"
            ],
            "text/html": [
              "<style>#sk-498f1e90-654f-41ca-a200-88f3d259496b {color: black;background-color: white;}#sk-498f1e90-654f-41ca-a200-88f3d259496b pre{padding: 0;}#sk-498f1e90-654f-41ca-a200-88f3d259496b div.sk-toggleable {background-color: white;}#sk-498f1e90-654f-41ca-a200-88f3d259496b label.sk-toggleable__label {cursor: pointer;display: block;width: 100%;margin-bottom: 0;padding: 0.3em;box-sizing: border-box;text-align: center;}#sk-498f1e90-654f-41ca-a200-88f3d259496b label.sk-toggleable__label-arrow:before {content: \"▸\";float: left;margin-right: 0.25em;color: #696969;}#sk-498f1e90-654f-41ca-a200-88f3d259496b label.sk-toggleable__label-arrow:hover:before {color: black;}#sk-498f1e90-654f-41ca-a200-88f3d259496b div.sk-estimator:hover label.sk-toggleable__label-arrow:before {color: black;}#sk-498f1e90-654f-41ca-a200-88f3d259496b div.sk-toggleable__content {max-height: 0;max-width: 0;overflow: hidden;text-align: left;background-color: #f0f8ff;}#sk-498f1e90-654f-41ca-a200-88f3d259496b div.sk-toggleable__content pre {margin: 0.2em;color: black;border-radius: 0.25em;background-color: #f0f8ff;}#sk-498f1e90-654f-41ca-a200-88f3d259496b input.sk-toggleable__control:checked~div.sk-toggleable__content {max-height: 200px;max-width: 100%;overflow: auto;}#sk-498f1e90-654f-41ca-a200-88f3d259496b input.sk-toggleable__control:checked~label.sk-toggleable__label-arrow:before {content: \"▾\";}#sk-498f1e90-654f-41ca-a200-88f3d259496b div.sk-estimator input.sk-toggleable__control:checked~label.sk-toggleable__label {background-color: #d4ebff;}#sk-498f1e90-654f-41ca-a200-88f3d259496b div.sk-label input.sk-toggleable__control:checked~label.sk-toggleable__label {background-color: #d4ebff;}#sk-498f1e90-654f-41ca-a200-88f3d259496b input.sk-hidden--visually {border: 0;clip: rect(1px 1px 1px 1px);clip: rect(1px, 1px, 1px, 1px);height: 1px;margin: -1px;overflow: hidden;padding: 0;position: absolute;width: 1px;}#sk-498f1e90-654f-41ca-a200-88f3d259496b div.sk-estimator {font-family: monospace;background-color: #f0f8ff;border: 1px dotted black;border-radius: 0.25em;box-sizing: border-box;margin-bottom: 0.5em;}#sk-498f1e90-654f-41ca-a200-88f3d259496b div.sk-estimator:hover {background-color: #d4ebff;}#sk-498f1e90-654f-41ca-a200-88f3d259496b div.sk-parallel-item::after {content: \"\";width: 100%;border-bottom: 1px solid gray;flex-grow: 1;}#sk-498f1e90-654f-41ca-a200-88f3d259496b div.sk-label:hover label.sk-toggleable__label {background-color: #d4ebff;}#sk-498f1e90-654f-41ca-a200-88f3d259496b div.sk-serial::before {content: \"\";position: absolute;border-left: 1px solid gray;box-sizing: border-box;top: 2em;bottom: 0;left: 50%;}#sk-498f1e90-654f-41ca-a200-88f3d259496b div.sk-serial {display: flex;flex-direction: column;align-items: center;background-color: white;padding-right: 0.2em;padding-left: 0.2em;}#sk-498f1e90-654f-41ca-a200-88f3d259496b div.sk-item {z-index: 1;}#sk-498f1e90-654f-41ca-a200-88f3d259496b div.sk-parallel {display: flex;align-items: stretch;justify-content: center;background-color: white;}#sk-498f1e90-654f-41ca-a200-88f3d259496b div.sk-parallel::before {content: \"\";position: absolute;border-left: 1px solid gray;box-sizing: border-box;top: 2em;bottom: 0;left: 50%;}#sk-498f1e90-654f-41ca-a200-88f3d259496b div.sk-parallel-item {display: flex;flex-direction: column;position: relative;background-color: white;}#sk-498f1e90-654f-41ca-a200-88f3d259496b div.sk-parallel-item:first-child::after {align-self: flex-end;width: 50%;}#sk-498f1e90-654f-41ca-a200-88f3d259496b div.sk-parallel-item:last-child::after {align-self: flex-start;width: 50%;}#sk-498f1e90-654f-41ca-a200-88f3d259496b div.sk-parallel-item:only-child::after {width: 0;}#sk-498f1e90-654f-41ca-a200-88f3d259496b div.sk-dashed-wrapped {border: 1px dashed gray;margin: 0 0.4em 0.5em 0.4em;box-sizing: border-box;padding-bottom: 0.4em;background-color: white;position: relative;}#sk-498f1e90-654f-41ca-a200-88f3d259496b div.sk-label label {font-family: monospace;font-weight: bold;background-color: white;display: inline-block;line-height: 1.2em;}#sk-498f1e90-654f-41ca-a200-88f3d259496b div.sk-label-container {position: relative;z-index: 2;text-align: center;}#sk-498f1e90-654f-41ca-a200-88f3d259496b div.sk-container {/* jupyter's `normalize.less` sets `[hidden] { display: none; }` but bootstrap.min.css set `[hidden] { display: none !important; }` so we also need the `!important` here to be able to override the default hidden behavior on the sphinx rendered scikit-learn.org. See: https://github.com/scikit-learn/scikit-learn/issues/21755 */display: inline-block !important;position: relative;}#sk-498f1e90-654f-41ca-a200-88f3d259496b div.sk-text-repr-fallback {display: none;}</style><div id=\"sk-498f1e90-654f-41ca-a200-88f3d259496b\" class=\"sk-top-container\"><div class=\"sk-text-repr-fallback\"><pre>ColumnTransformer(transformers=[(&#x27;pipeline-1&#x27;,\n",
              "                                 Pipeline(steps=[(&#x27;standardscaler&#x27;,\n",
              "                                                  StandardScaler())]),\n",
              "                                 [&#x27;Item_Visibility&#x27;, &#x27;Item_MRP&#x27;]),\n",
              "                                (&#x27;pipeline-2&#x27;,\n",
              "                                 Pipeline(steps=[(&#x27;ordinalencoder&#x27;,\n",
              "                                                  OrdinalEncoder())]),\n",
              "                                 [&#x27;Item_Fat_Content&#x27;, &#x27;Outlet_Size&#x27;]),\n",
              "                                (&#x27;pipeline-3&#x27;,\n",
              "                                 Pipeline(steps=[(&#x27;onehotencoder&#x27;,\n",
              "                                                  OneHotEncoder(handle_unknown=&#x27;ignore&#x27;,\n",
              "                                                                sparse=False))]),\n",
              "                                 [&#x27;Item_Type&#x27;, &#x27;Outlet_Location_Type&#x27;,\n",
              "                                  &#x27;Outlet_Type&#x27;])])</pre><b>Please rerun this cell to show the HTML repr or trust the notebook.</b></div><div class=\"sk-container\" hidden><div class=\"sk-item sk-dashed-wrapped\"><div class=\"sk-label-container\"><div class=\"sk-label sk-toggleable\"><input class=\"sk-toggleable__control sk-hidden--visually\" id=\"df8b76b8-cd56-4543-9256-34b479761c54\" type=\"checkbox\" ><label for=\"df8b76b8-cd56-4543-9256-34b479761c54\" class=\"sk-toggleable__label sk-toggleable__label-arrow\">ColumnTransformer</label><div class=\"sk-toggleable__content\"><pre>ColumnTransformer(transformers=[(&#x27;pipeline-1&#x27;,\n",
              "                                 Pipeline(steps=[(&#x27;standardscaler&#x27;,\n",
              "                                                  StandardScaler())]),\n",
              "                                 [&#x27;Item_Visibility&#x27;, &#x27;Item_MRP&#x27;]),\n",
              "                                (&#x27;pipeline-2&#x27;,\n",
              "                                 Pipeline(steps=[(&#x27;ordinalencoder&#x27;,\n",
              "                                                  OrdinalEncoder())]),\n",
              "                                 [&#x27;Item_Fat_Content&#x27;, &#x27;Outlet_Size&#x27;]),\n",
              "                                (&#x27;pipeline-3&#x27;,\n",
              "                                 Pipeline(steps=[(&#x27;onehotencoder&#x27;,\n",
              "                                                  OneHotEncoder(handle_unknown=&#x27;ignore&#x27;,\n",
              "                                                                sparse=False))]),\n",
              "                                 [&#x27;Item_Type&#x27;, &#x27;Outlet_Location_Type&#x27;,\n",
              "                                  &#x27;Outlet_Type&#x27;])])</pre></div></div></div><div class=\"sk-parallel\"><div class=\"sk-parallel-item\"><div class=\"sk-item\"><div class=\"sk-label-container\"><div class=\"sk-label sk-toggleable\"><input class=\"sk-toggleable__control sk-hidden--visually\" id=\"d2c222f5-abd4-4375-a2a4-8e04e33b6b8e\" type=\"checkbox\" ><label for=\"d2c222f5-abd4-4375-a2a4-8e04e33b6b8e\" class=\"sk-toggleable__label sk-toggleable__label-arrow\">pipeline-1</label><div class=\"sk-toggleable__content\"><pre>[&#x27;Item_Visibility&#x27;, &#x27;Item_MRP&#x27;]</pre></div></div></div><div class=\"sk-serial\"><div class=\"sk-item\"><div class=\"sk-serial\"><div class=\"sk-item\"><div class=\"sk-estimator sk-toggleable\"><input class=\"sk-toggleable__control sk-hidden--visually\" id=\"86de4138-75ed-4f61-b30d-879bbfd6eaf9\" type=\"checkbox\" ><label for=\"86de4138-75ed-4f61-b30d-879bbfd6eaf9\" class=\"sk-toggleable__label sk-toggleable__label-arrow\">StandardScaler</label><div class=\"sk-toggleable__content\"><pre>StandardScaler()</pre></div></div></div></div></div></div></div></div><div class=\"sk-parallel-item\"><div class=\"sk-item\"><div class=\"sk-label-container\"><div class=\"sk-label sk-toggleable\"><input class=\"sk-toggleable__control sk-hidden--visually\" id=\"fb5eba7c-9988-427b-94d8-6a63d69c3d43\" type=\"checkbox\" ><label for=\"fb5eba7c-9988-427b-94d8-6a63d69c3d43\" class=\"sk-toggleable__label sk-toggleable__label-arrow\">pipeline-2</label><div class=\"sk-toggleable__content\"><pre>[&#x27;Item_Fat_Content&#x27;, &#x27;Outlet_Size&#x27;]</pre></div></div></div><div class=\"sk-serial\"><div class=\"sk-item\"><div class=\"sk-serial\"><div class=\"sk-item\"><div class=\"sk-estimator sk-toggleable\"><input class=\"sk-toggleable__control sk-hidden--visually\" id=\"924865f5-c77e-4ee3-b818-2de5ef7fb41b\" type=\"checkbox\" ><label for=\"924865f5-c77e-4ee3-b818-2de5ef7fb41b\" class=\"sk-toggleable__label sk-toggleable__label-arrow\">OrdinalEncoder</label><div class=\"sk-toggleable__content\"><pre>OrdinalEncoder()</pre></div></div></div></div></div></div></div></div><div class=\"sk-parallel-item\"><div class=\"sk-item\"><div class=\"sk-label-container\"><div class=\"sk-label sk-toggleable\"><input class=\"sk-toggleable__control sk-hidden--visually\" id=\"c65cd143-3bbd-407b-bcad-9d11f53a8a11\" type=\"checkbox\" ><label for=\"c65cd143-3bbd-407b-bcad-9d11f53a8a11\" class=\"sk-toggleable__label sk-toggleable__label-arrow\">pipeline-3</label><div class=\"sk-toggleable__content\"><pre>[&#x27;Item_Type&#x27;, &#x27;Outlet_Location_Type&#x27;, &#x27;Outlet_Type&#x27;]</pre></div></div></div><div class=\"sk-serial\"><div class=\"sk-item\"><div class=\"sk-serial\"><div class=\"sk-item\"><div class=\"sk-estimator sk-toggleable\"><input class=\"sk-toggleable__control sk-hidden--visually\" id=\"d392643a-c3f8-4118-9f51-b872d12e9041\" type=\"checkbox\" ><label for=\"d392643a-c3f8-4118-9f51-b872d12e9041\" class=\"sk-toggleable__label sk-toggleable__label-arrow\">OneHotEncoder</label><div class=\"sk-toggleable__content\"><pre>OneHotEncoder(handle_unknown=&#x27;ignore&#x27;, sparse=False)</pre></div></div></div></div></div></div></div></div></div></div></div></div>"
            ]
          },
          "metadata": {},
          "execution_count": 126
        }
      ]
    },
    {
      "cell_type": "code",
      "source": [
        "#Eliminar Item Outlet sales de la variable X, y aquellos que no son caracteristicas \n",
        "#X = df.drop(columns=['Item_Outlet_Sales','Item_Identifier','Outlet_Identifier'])\n",
        "#Definir y como mi varible objeto, la que quiero predecir\n",
        "#y = df['Item_Outlet_Sales']\n"
      ],
      "metadata": {
        "id": "QCc3-wN2hqRk"
      },
      "execution_count": null,
      "outputs": []
    },
    {
      "cell_type": "code",
      "source": [
        "preprocessor.fit(X_train)"
      ],
      "metadata": {
        "id": "jAtoLPf3ihSz",
        "colab": {
          "base_uri": "https://localhost:8080/",
          "height": 118
        },
        "outputId": "9f18d8b2-fc69-49a6-c769-a888c1aa10ef"
      },
      "execution_count": null,
      "outputs": [
        {
          "output_type": "execute_result",
          "data": {
            "text/plain": [
              "ColumnTransformer(transformers=[('pipeline-1',\n",
              "                                 Pipeline(steps=[('standardscaler',\n",
              "                                                  StandardScaler())]),\n",
              "                                 ['Item_Visibility', 'Item_MRP']),\n",
              "                                ('pipeline-2',\n",
              "                                 Pipeline(steps=[('ordinalencoder',\n",
              "                                                  OrdinalEncoder())]),\n",
              "                                 ['Item_Fat_Content', 'Outlet_Size']),\n",
              "                                ('pipeline-3',\n",
              "                                 Pipeline(steps=[('onehotencoder',\n",
              "                                                  OneHotEncoder(handle_unknown='ignore',\n",
              "                                                                sparse=False))]),\n",
              "                                 ['Item_Type', 'Outlet_Location_Type',\n",
              "                                  'Outlet_Type'])])"
            ],
            "text/html": [
              "<style>#sk-cd4e8070-4cef-42ab-9acf-fe738bb9a23d {color: black;background-color: white;}#sk-cd4e8070-4cef-42ab-9acf-fe738bb9a23d pre{padding: 0;}#sk-cd4e8070-4cef-42ab-9acf-fe738bb9a23d div.sk-toggleable {background-color: white;}#sk-cd4e8070-4cef-42ab-9acf-fe738bb9a23d label.sk-toggleable__label {cursor: pointer;display: block;width: 100%;margin-bottom: 0;padding: 0.3em;box-sizing: border-box;text-align: center;}#sk-cd4e8070-4cef-42ab-9acf-fe738bb9a23d label.sk-toggleable__label-arrow:before {content: \"▸\";float: left;margin-right: 0.25em;color: #696969;}#sk-cd4e8070-4cef-42ab-9acf-fe738bb9a23d label.sk-toggleable__label-arrow:hover:before {color: black;}#sk-cd4e8070-4cef-42ab-9acf-fe738bb9a23d div.sk-estimator:hover label.sk-toggleable__label-arrow:before {color: black;}#sk-cd4e8070-4cef-42ab-9acf-fe738bb9a23d div.sk-toggleable__content {max-height: 0;max-width: 0;overflow: hidden;text-align: left;background-color: #f0f8ff;}#sk-cd4e8070-4cef-42ab-9acf-fe738bb9a23d div.sk-toggleable__content pre {margin: 0.2em;color: black;border-radius: 0.25em;background-color: #f0f8ff;}#sk-cd4e8070-4cef-42ab-9acf-fe738bb9a23d input.sk-toggleable__control:checked~div.sk-toggleable__content {max-height: 200px;max-width: 100%;overflow: auto;}#sk-cd4e8070-4cef-42ab-9acf-fe738bb9a23d input.sk-toggleable__control:checked~label.sk-toggleable__label-arrow:before {content: \"▾\";}#sk-cd4e8070-4cef-42ab-9acf-fe738bb9a23d div.sk-estimator input.sk-toggleable__control:checked~label.sk-toggleable__label {background-color: #d4ebff;}#sk-cd4e8070-4cef-42ab-9acf-fe738bb9a23d div.sk-label input.sk-toggleable__control:checked~label.sk-toggleable__label {background-color: #d4ebff;}#sk-cd4e8070-4cef-42ab-9acf-fe738bb9a23d input.sk-hidden--visually {border: 0;clip: rect(1px 1px 1px 1px);clip: rect(1px, 1px, 1px, 1px);height: 1px;margin: -1px;overflow: hidden;padding: 0;position: absolute;width: 1px;}#sk-cd4e8070-4cef-42ab-9acf-fe738bb9a23d div.sk-estimator {font-family: monospace;background-color: #f0f8ff;border: 1px dotted black;border-radius: 0.25em;box-sizing: border-box;margin-bottom: 0.5em;}#sk-cd4e8070-4cef-42ab-9acf-fe738bb9a23d div.sk-estimator:hover {background-color: #d4ebff;}#sk-cd4e8070-4cef-42ab-9acf-fe738bb9a23d div.sk-parallel-item::after {content: \"\";width: 100%;border-bottom: 1px solid gray;flex-grow: 1;}#sk-cd4e8070-4cef-42ab-9acf-fe738bb9a23d div.sk-label:hover label.sk-toggleable__label {background-color: #d4ebff;}#sk-cd4e8070-4cef-42ab-9acf-fe738bb9a23d div.sk-serial::before {content: \"\";position: absolute;border-left: 1px solid gray;box-sizing: border-box;top: 2em;bottom: 0;left: 50%;}#sk-cd4e8070-4cef-42ab-9acf-fe738bb9a23d div.sk-serial {display: flex;flex-direction: column;align-items: center;background-color: white;padding-right: 0.2em;padding-left: 0.2em;}#sk-cd4e8070-4cef-42ab-9acf-fe738bb9a23d div.sk-item {z-index: 1;}#sk-cd4e8070-4cef-42ab-9acf-fe738bb9a23d div.sk-parallel {display: flex;align-items: stretch;justify-content: center;background-color: white;}#sk-cd4e8070-4cef-42ab-9acf-fe738bb9a23d div.sk-parallel::before {content: \"\";position: absolute;border-left: 1px solid gray;box-sizing: border-box;top: 2em;bottom: 0;left: 50%;}#sk-cd4e8070-4cef-42ab-9acf-fe738bb9a23d div.sk-parallel-item {display: flex;flex-direction: column;position: relative;background-color: white;}#sk-cd4e8070-4cef-42ab-9acf-fe738bb9a23d div.sk-parallel-item:first-child::after {align-self: flex-end;width: 50%;}#sk-cd4e8070-4cef-42ab-9acf-fe738bb9a23d div.sk-parallel-item:last-child::after {align-self: flex-start;width: 50%;}#sk-cd4e8070-4cef-42ab-9acf-fe738bb9a23d div.sk-parallel-item:only-child::after {width: 0;}#sk-cd4e8070-4cef-42ab-9acf-fe738bb9a23d div.sk-dashed-wrapped {border: 1px dashed gray;margin: 0 0.4em 0.5em 0.4em;box-sizing: border-box;padding-bottom: 0.4em;background-color: white;position: relative;}#sk-cd4e8070-4cef-42ab-9acf-fe738bb9a23d div.sk-label label {font-family: monospace;font-weight: bold;background-color: white;display: inline-block;line-height: 1.2em;}#sk-cd4e8070-4cef-42ab-9acf-fe738bb9a23d div.sk-label-container {position: relative;z-index: 2;text-align: center;}#sk-cd4e8070-4cef-42ab-9acf-fe738bb9a23d div.sk-container {/* jupyter's `normalize.less` sets `[hidden] { display: none; }` but bootstrap.min.css set `[hidden] { display: none !important; }` so we also need the `!important` here to be able to override the default hidden behavior on the sphinx rendered scikit-learn.org. See: https://github.com/scikit-learn/scikit-learn/issues/21755 */display: inline-block !important;position: relative;}#sk-cd4e8070-4cef-42ab-9acf-fe738bb9a23d div.sk-text-repr-fallback {display: none;}</style><div id=\"sk-cd4e8070-4cef-42ab-9acf-fe738bb9a23d\" class=\"sk-top-container\"><div class=\"sk-text-repr-fallback\"><pre>ColumnTransformer(transformers=[(&#x27;pipeline-1&#x27;,\n",
              "                                 Pipeline(steps=[(&#x27;standardscaler&#x27;,\n",
              "                                                  StandardScaler())]),\n",
              "                                 [&#x27;Item_Visibility&#x27;, &#x27;Item_MRP&#x27;]),\n",
              "                                (&#x27;pipeline-2&#x27;,\n",
              "                                 Pipeline(steps=[(&#x27;ordinalencoder&#x27;,\n",
              "                                                  OrdinalEncoder())]),\n",
              "                                 [&#x27;Item_Fat_Content&#x27;, &#x27;Outlet_Size&#x27;]),\n",
              "                                (&#x27;pipeline-3&#x27;,\n",
              "                                 Pipeline(steps=[(&#x27;onehotencoder&#x27;,\n",
              "                                                  OneHotEncoder(handle_unknown=&#x27;ignore&#x27;,\n",
              "                                                                sparse=False))]),\n",
              "                                 [&#x27;Item_Type&#x27;, &#x27;Outlet_Location_Type&#x27;,\n",
              "                                  &#x27;Outlet_Type&#x27;])])</pre><b>Please rerun this cell to show the HTML repr or trust the notebook.</b></div><div class=\"sk-container\" hidden><div class=\"sk-item sk-dashed-wrapped\"><div class=\"sk-label-container\"><div class=\"sk-label sk-toggleable\"><input class=\"sk-toggleable__control sk-hidden--visually\" id=\"63501c3a-1c46-43ac-acb8-eecb0408bf96\" type=\"checkbox\" ><label for=\"63501c3a-1c46-43ac-acb8-eecb0408bf96\" class=\"sk-toggleable__label sk-toggleable__label-arrow\">ColumnTransformer</label><div class=\"sk-toggleable__content\"><pre>ColumnTransformer(transformers=[(&#x27;pipeline-1&#x27;,\n",
              "                                 Pipeline(steps=[(&#x27;standardscaler&#x27;,\n",
              "                                                  StandardScaler())]),\n",
              "                                 [&#x27;Item_Visibility&#x27;, &#x27;Item_MRP&#x27;]),\n",
              "                                (&#x27;pipeline-2&#x27;,\n",
              "                                 Pipeline(steps=[(&#x27;ordinalencoder&#x27;,\n",
              "                                                  OrdinalEncoder())]),\n",
              "                                 [&#x27;Item_Fat_Content&#x27;, &#x27;Outlet_Size&#x27;]),\n",
              "                                (&#x27;pipeline-3&#x27;,\n",
              "                                 Pipeline(steps=[(&#x27;onehotencoder&#x27;,\n",
              "                                                  OneHotEncoder(handle_unknown=&#x27;ignore&#x27;,\n",
              "                                                                sparse=False))]),\n",
              "                                 [&#x27;Item_Type&#x27;, &#x27;Outlet_Location_Type&#x27;,\n",
              "                                  &#x27;Outlet_Type&#x27;])])</pre></div></div></div><div class=\"sk-parallel\"><div class=\"sk-parallel-item\"><div class=\"sk-item\"><div class=\"sk-label-container\"><div class=\"sk-label sk-toggleable\"><input class=\"sk-toggleable__control sk-hidden--visually\" id=\"bd2d7ae4-df4b-42e7-96c8-6e16e98b1403\" type=\"checkbox\" ><label for=\"bd2d7ae4-df4b-42e7-96c8-6e16e98b1403\" class=\"sk-toggleable__label sk-toggleable__label-arrow\">pipeline-1</label><div class=\"sk-toggleable__content\"><pre>[&#x27;Item_Visibility&#x27;, &#x27;Item_MRP&#x27;]</pre></div></div></div><div class=\"sk-serial\"><div class=\"sk-item\"><div class=\"sk-serial\"><div class=\"sk-item\"><div class=\"sk-estimator sk-toggleable\"><input class=\"sk-toggleable__control sk-hidden--visually\" id=\"88caad53-61a6-489f-9c2e-94777b9d06ea\" type=\"checkbox\" ><label for=\"88caad53-61a6-489f-9c2e-94777b9d06ea\" class=\"sk-toggleable__label sk-toggleable__label-arrow\">StandardScaler</label><div class=\"sk-toggleable__content\"><pre>StandardScaler()</pre></div></div></div></div></div></div></div></div><div class=\"sk-parallel-item\"><div class=\"sk-item\"><div class=\"sk-label-container\"><div class=\"sk-label sk-toggleable\"><input class=\"sk-toggleable__control sk-hidden--visually\" id=\"9c2ba0cb-cf11-424e-8c73-7cb8292813b5\" type=\"checkbox\" ><label for=\"9c2ba0cb-cf11-424e-8c73-7cb8292813b5\" class=\"sk-toggleable__label sk-toggleable__label-arrow\">pipeline-2</label><div class=\"sk-toggleable__content\"><pre>[&#x27;Item_Fat_Content&#x27;, &#x27;Outlet_Size&#x27;]</pre></div></div></div><div class=\"sk-serial\"><div class=\"sk-item\"><div class=\"sk-serial\"><div class=\"sk-item\"><div class=\"sk-estimator sk-toggleable\"><input class=\"sk-toggleable__control sk-hidden--visually\" id=\"f2c981ff-d312-4052-a5c5-9c8f34b2c12d\" type=\"checkbox\" ><label for=\"f2c981ff-d312-4052-a5c5-9c8f34b2c12d\" class=\"sk-toggleable__label sk-toggleable__label-arrow\">OrdinalEncoder</label><div class=\"sk-toggleable__content\"><pre>OrdinalEncoder()</pre></div></div></div></div></div></div></div></div><div class=\"sk-parallel-item\"><div class=\"sk-item\"><div class=\"sk-label-container\"><div class=\"sk-label sk-toggleable\"><input class=\"sk-toggleable__control sk-hidden--visually\" id=\"c027b17b-5a48-4b80-8482-29b8a362212e\" type=\"checkbox\" ><label for=\"c027b17b-5a48-4b80-8482-29b8a362212e\" class=\"sk-toggleable__label sk-toggleable__label-arrow\">pipeline-3</label><div class=\"sk-toggleable__content\"><pre>[&#x27;Item_Type&#x27;, &#x27;Outlet_Location_Type&#x27;, &#x27;Outlet_Type&#x27;]</pre></div></div></div><div class=\"sk-serial\"><div class=\"sk-item\"><div class=\"sk-serial\"><div class=\"sk-item\"><div class=\"sk-estimator sk-toggleable\"><input class=\"sk-toggleable__control sk-hidden--visually\" id=\"a6fe8436-faa4-4c4f-bc29-422ef898091e\" type=\"checkbox\" ><label for=\"a6fe8436-faa4-4c4f-bc29-422ef898091e\" class=\"sk-toggleable__label sk-toggleable__label-arrow\">OneHotEncoder</label><div class=\"sk-toggleable__content\"><pre>OneHotEncoder(handle_unknown=&#x27;ignore&#x27;, sparse=False)</pre></div></div></div></div></div></div></div></div></div></div></div></div>"
            ]
          },
          "metadata": {},
          "execution_count": 128
        }
      ]
    },
    {
      "cell_type": "code",
      "source": [
        "X_train_processed = preprocessor.transform(X_train)\n",
        "X_test_processed = preprocessor.transform(X_test)"
      ],
      "metadata": {
        "id": "-Jy05K9VjLf0"
      },
      "execution_count": null,
      "outputs": []
    },
    {
      "cell_type": "code",
      "source": [
        "X_train_processed\n"
      ],
      "metadata": {
        "id": "r9paKuF5jNu4",
        "colab": {
          "base_uri": "https://localhost:8080/"
        },
        "outputId": "7de2d8c1-80e0-4c38-9fba-7f741f4c744d"
      },
      "execution_count": null,
      "outputs": [
        {
          "output_type": "execute_result",
          "data": {
            "text/plain": [
              "array([[ 0.17370855,  0.07024196,  1.        , ...,  0.        ,\n",
              "         0.        ,  1.        ],\n",
              "       [ 0.57073261,  0.29371474,  0.        , ...,  1.        ,\n",
              "         0.        ,  0.        ],\n",
              "       [ 0.14521605, -1.20851508,  0.        , ...,  0.        ,\n",
              "         1.        ,  0.        ],\n",
              "       ...,\n",
              "       [-0.9118168 ,  1.53984693,  0.        , ...,  1.        ,\n",
              "         0.        ,  0.        ],\n",
              "       [-0.2276652 , -0.37776029,  0.        , ...,  1.        ,\n",
              "         0.        ,  0.        ],\n",
              "       [-0.9494918 , -0.73435323,  0.        , ...,  1.        ,\n",
              "         0.        ,  0.        ]])"
            ]
          },
          "metadata": {},
          "execution_count": 130
        }
      ]
    },
    {
      "cell_type": "markdown",
      "source": [
        "# Regresión Lineal"
      ],
      "metadata": {
        "id": "IapJA8eA7zk5"
      }
    },
    {
      "cell_type": "code",
      "source": [
        "from sklearn.linear_model import LinearRegression"
      ],
      "metadata": {
        "id": "AGJ6b9dfoJZ3"
      },
      "execution_count": null,
      "outputs": []
    },
    {
      "cell_type": "code",
      "source": [
        "reg = LinearRegression()"
      ],
      "metadata": {
        "id": "8mteUZj6oZDS"
      },
      "execution_count": null,
      "outputs": []
    },
    {
      "cell_type": "code",
      "source": [
        "reg.fit(X_train_processed,y_train)"
      ],
      "metadata": {
        "id": "EdM52Sznobyf",
        "colab": {
          "base_uri": "https://localhost:8080/",
          "height": 75
        },
        "outputId": "17c8840b-23b2-4d7a-adde-63854f9f51a6"
      },
      "execution_count": null,
      "outputs": [
        {
          "output_type": "execute_result",
          "data": {
            "text/plain": [
              "LinearRegression()"
            ],
            "text/html": [
              "<style>#sk-75394c41-0c2c-4bd4-88d1-dd846c1316ad {color: black;background-color: white;}#sk-75394c41-0c2c-4bd4-88d1-dd846c1316ad pre{padding: 0;}#sk-75394c41-0c2c-4bd4-88d1-dd846c1316ad div.sk-toggleable {background-color: white;}#sk-75394c41-0c2c-4bd4-88d1-dd846c1316ad label.sk-toggleable__label {cursor: pointer;display: block;width: 100%;margin-bottom: 0;padding: 0.3em;box-sizing: border-box;text-align: center;}#sk-75394c41-0c2c-4bd4-88d1-dd846c1316ad label.sk-toggleable__label-arrow:before {content: \"▸\";float: left;margin-right: 0.25em;color: #696969;}#sk-75394c41-0c2c-4bd4-88d1-dd846c1316ad label.sk-toggleable__label-arrow:hover:before {color: black;}#sk-75394c41-0c2c-4bd4-88d1-dd846c1316ad div.sk-estimator:hover label.sk-toggleable__label-arrow:before {color: black;}#sk-75394c41-0c2c-4bd4-88d1-dd846c1316ad div.sk-toggleable__content {max-height: 0;max-width: 0;overflow: hidden;text-align: left;background-color: #f0f8ff;}#sk-75394c41-0c2c-4bd4-88d1-dd846c1316ad div.sk-toggleable__content pre {margin: 0.2em;color: black;border-radius: 0.25em;background-color: #f0f8ff;}#sk-75394c41-0c2c-4bd4-88d1-dd846c1316ad input.sk-toggleable__control:checked~div.sk-toggleable__content {max-height: 200px;max-width: 100%;overflow: auto;}#sk-75394c41-0c2c-4bd4-88d1-dd846c1316ad input.sk-toggleable__control:checked~label.sk-toggleable__label-arrow:before {content: \"▾\";}#sk-75394c41-0c2c-4bd4-88d1-dd846c1316ad div.sk-estimator input.sk-toggleable__control:checked~label.sk-toggleable__label {background-color: #d4ebff;}#sk-75394c41-0c2c-4bd4-88d1-dd846c1316ad div.sk-label input.sk-toggleable__control:checked~label.sk-toggleable__label {background-color: #d4ebff;}#sk-75394c41-0c2c-4bd4-88d1-dd846c1316ad input.sk-hidden--visually {border: 0;clip: rect(1px 1px 1px 1px);clip: rect(1px, 1px, 1px, 1px);height: 1px;margin: -1px;overflow: hidden;padding: 0;position: absolute;width: 1px;}#sk-75394c41-0c2c-4bd4-88d1-dd846c1316ad div.sk-estimator {font-family: monospace;background-color: #f0f8ff;border: 1px dotted black;border-radius: 0.25em;box-sizing: border-box;margin-bottom: 0.5em;}#sk-75394c41-0c2c-4bd4-88d1-dd846c1316ad div.sk-estimator:hover {background-color: #d4ebff;}#sk-75394c41-0c2c-4bd4-88d1-dd846c1316ad div.sk-parallel-item::after {content: \"\";width: 100%;border-bottom: 1px solid gray;flex-grow: 1;}#sk-75394c41-0c2c-4bd4-88d1-dd846c1316ad div.sk-label:hover label.sk-toggleable__label {background-color: #d4ebff;}#sk-75394c41-0c2c-4bd4-88d1-dd846c1316ad div.sk-serial::before {content: \"\";position: absolute;border-left: 1px solid gray;box-sizing: border-box;top: 2em;bottom: 0;left: 50%;}#sk-75394c41-0c2c-4bd4-88d1-dd846c1316ad div.sk-serial {display: flex;flex-direction: column;align-items: center;background-color: white;padding-right: 0.2em;padding-left: 0.2em;}#sk-75394c41-0c2c-4bd4-88d1-dd846c1316ad div.sk-item {z-index: 1;}#sk-75394c41-0c2c-4bd4-88d1-dd846c1316ad div.sk-parallel {display: flex;align-items: stretch;justify-content: center;background-color: white;}#sk-75394c41-0c2c-4bd4-88d1-dd846c1316ad div.sk-parallel::before {content: \"\";position: absolute;border-left: 1px solid gray;box-sizing: border-box;top: 2em;bottom: 0;left: 50%;}#sk-75394c41-0c2c-4bd4-88d1-dd846c1316ad div.sk-parallel-item {display: flex;flex-direction: column;position: relative;background-color: white;}#sk-75394c41-0c2c-4bd4-88d1-dd846c1316ad div.sk-parallel-item:first-child::after {align-self: flex-end;width: 50%;}#sk-75394c41-0c2c-4bd4-88d1-dd846c1316ad div.sk-parallel-item:last-child::after {align-self: flex-start;width: 50%;}#sk-75394c41-0c2c-4bd4-88d1-dd846c1316ad div.sk-parallel-item:only-child::after {width: 0;}#sk-75394c41-0c2c-4bd4-88d1-dd846c1316ad div.sk-dashed-wrapped {border: 1px dashed gray;margin: 0 0.4em 0.5em 0.4em;box-sizing: border-box;padding-bottom: 0.4em;background-color: white;position: relative;}#sk-75394c41-0c2c-4bd4-88d1-dd846c1316ad div.sk-label label {font-family: monospace;font-weight: bold;background-color: white;display: inline-block;line-height: 1.2em;}#sk-75394c41-0c2c-4bd4-88d1-dd846c1316ad div.sk-label-container {position: relative;z-index: 2;text-align: center;}#sk-75394c41-0c2c-4bd4-88d1-dd846c1316ad div.sk-container {/* jupyter's `normalize.less` sets `[hidden] { display: none; }` but bootstrap.min.css set `[hidden] { display: none !important; }` so we also need the `!important` here to be able to override the default hidden behavior on the sphinx rendered scikit-learn.org. See: https://github.com/scikit-learn/scikit-learn/issues/21755 */display: inline-block !important;position: relative;}#sk-75394c41-0c2c-4bd4-88d1-dd846c1316ad div.sk-text-repr-fallback {display: none;}</style><div id=\"sk-75394c41-0c2c-4bd4-88d1-dd846c1316ad\" class=\"sk-top-container\"><div class=\"sk-text-repr-fallback\"><pre>LinearRegression()</pre><b>Please rerun this cell to show the HTML repr or trust the notebook.</b></div><div class=\"sk-container\" hidden><div class=\"sk-item\"><div class=\"sk-estimator sk-toggleable\"><input class=\"sk-toggleable__control sk-hidden--visually\" id=\"30806f27-07e7-49dc-9a90-d4875a315ec4\" type=\"checkbox\" checked><label for=\"30806f27-07e7-49dc-9a90-d4875a315ec4\" class=\"sk-toggleable__label sk-toggleable__label-arrow\">LinearRegression</label><div class=\"sk-toggleable__content\"><pre>LinearRegression()</pre></div></div></div></div></div>"
            ]
          },
          "metadata": {},
          "execution_count": 133
        }
      ]
    },
    {
      "cell_type": "code",
      "source": [
        "train_score = reg.score(X_train_processed, y_train)\n",
        "print(train_score)"
      ],
      "metadata": {
        "id": "w9aGnO7toePj",
        "colab": {
          "base_uri": "https://localhost:8080/"
        },
        "outputId": "b5eedddc-8484-4ad9-b034-9f3eca703cbd"
      },
      "execution_count": null,
      "outputs": [
        {
          "output_type": "stream",
          "name": "stdout",
          "text": [
            "0.5613245999113186\n"
          ]
        }
      ]
    },
    {
      "cell_type": "code",
      "source": [
        "test_score = reg.score(X_test_processed, y_test)\n",
        "print(test_score)"
      ],
      "metadata": {
        "id": "OMDc9Yl2opYt",
        "colab": {
          "base_uri": "https://localhost:8080/"
        },
        "outputId": "c91e6a0e-9947-4824-b267-bb94550aaa0a"
      },
      "execution_count": null,
      "outputs": [
        {
          "output_type": "stream",
          "name": "stdout",
          "text": [
            "0.5740866970459011\n"
          ]
        }
      ]
    },
    {
      "cell_type": "code",
      "source": [
        "# Obtengan las predicciones del conjunto de entrenamiento\n",
        "train_preds = reg.predict(X_train_processed)\n",
        "# Obtengan las predicciones del conjunto de prueba\n",
        "test_preds = reg.predict(X_test_processed)"
      ],
      "metadata": {
        "id": "MUHH0xeAovXb"
      },
      "execution_count": null,
      "outputs": []
    },
    {
      "cell_type": "code",
      "source": [
        "import numpy as np\n",
        "from sklearn.metrics import r2_score\n",
        "from sklearn.metrics import mean_absolute_error\n",
        "from sklearn.metrics import mean_squared_error"
      ],
      "metadata": {
        "id": "_17SjEZzo21A"
      },
      "execution_count": null,
      "outputs": []
    },
    {
      "cell_type": "code",
      "source": [
        "r2_train = r2_score(y_train, train_preds)\n",
        "r2_test = r2_score(y_test, test_preds)\n",
        "print(r2_train)\n",
        "print(r2_test)"
      ],
      "metadata": {
        "id": "Sfpj8ktno5UB",
        "colab": {
          "base_uri": "https://localhost:8080/"
        },
        "outputId": "0d42566a-9539-4a98-893c-74edf61a0d2d"
      },
      "execution_count": null,
      "outputs": [
        {
          "output_type": "stream",
          "name": "stdout",
          "text": [
            "0.5613245999113186\n",
            "0.5740866970459011\n"
          ]
        }
      ]
    },
    {
      "cell_type": "code",
      "source": [
        "mae_train = mean_absolute_error(y_train, train_preds)\n",
        "mae_test = mean_absolute_error(y_test, test_preds)\n",
        "print(mae_train)\n",
        "print(mae_test)"
      ],
      "metadata": {
        "id": "jMSbrtF-o-E_",
        "colab": {
          "base_uri": "https://localhost:8080/"
        },
        "outputId": "8b61dbaf-1bbb-4756-fb12-c14058419af8"
      },
      "execution_count": null,
      "outputs": [
        {
          "output_type": "stream",
          "name": "stdout",
          "text": [
            "839.4599745136037\n",
            "808.8642839258092\n"
          ]
        }
      ]
    },
    {
      "cell_type": "code",
      "source": [
        "predictions=reg.predict(X_test_processed)"
      ],
      "metadata": {
        "id": "_amqHD1N-KIW"
      },
      "execution_count": null,
      "outputs": []
    },
    {
      "cell_type": "code",
      "source": [
        "plt.scatter(y_test,predictions)"
      ],
      "metadata": {
        "id": "LqS0sU6k97JF",
        "colab": {
          "base_uri": "https://localhost:8080/",
          "height": 289
        },
        "outputId": "079d5dd8-6449-4e50-969e-9d67622d749b"
      },
      "execution_count": null,
      "outputs": [
        {
          "output_type": "execute_result",
          "data": {
            "text/plain": [
              "<matplotlib.collections.PathCollection at 0x7f81e3a0ffd0>"
            ]
          },
          "metadata": {},
          "execution_count": 141
        },
        {
          "output_type": "display_data",
          "data": {
            "text/plain": [
              "<Figure size 432x288 with 1 Axes>"
            ],
            "image/png": "[encoded data removed]"
          },
          "metadata": {}
        }
      ]
    },
    {
      "cell_type": "markdown",
      "source": [
        "# Decision Tree"
      ],
      "metadata": {
        "id": "1kSJi3S-9AYl"
      }
    },
    {
      "cell_type": "code",
      "source": [
        "from sklearn.tree import DecisionTreeRegressor"
      ],
      "metadata": {
        "id": "gEJkLjQSpE3y"
      },
      "execution_count": null,
      "outputs": []
    },
    {
      "cell_type": "code",
      "source": [
        "dec_tree = DecisionTreeRegressor(random_state = 42)\n"
      ],
      "metadata": {
        "id": "0rQj7G7CpGaQ"
      },
      "execution_count": null,
      "outputs": []
    },
    {
      "cell_type": "code",
      "source": [
        "dec_tree.fit(X_train_processed, y_train)\n"
      ],
      "metadata": {
        "id": "DpMfyA7DpIHz",
        "colab": {
          "base_uri": "https://localhost:8080/",
          "height": 75
        },
        "outputId": "000cd7ba-05e6-4030-85df-6842f8ed656f"
      },
      "execution_count": null,
      "outputs": [
        {
          "output_type": "execute_result",
          "data": {
            "text/plain": [
              "DecisionTreeRegressor(random_state=42)"
            ],
            "text/html": [
              "<style>#sk-ec319b9a-cee9-4ef2-a5df-a178602e8705 {color: black;background-color: white;}#sk-ec319b9a-cee9-4ef2-a5df-a178602e8705 pre{padding: 0;}#sk-ec319b9a-cee9-4ef2-a5df-a178602e8705 div.sk-toggleable {background-color: white;}#sk-ec319b9a-cee9-4ef2-a5df-a178602e8705 label.sk-toggleable__label {cursor: pointer;display: block;width: 100%;margin-bottom: 0;padding: 0.3em;box-sizing: border-box;text-align: center;}#sk-ec319b9a-cee9-4ef2-a5df-a178602e8705 label.sk-toggleable__label-arrow:before {content: \"▸\";float: left;margin-right: 0.25em;color: #696969;}#sk-ec319b9a-cee9-4ef2-a5df-a178602e8705 label.sk-toggleable__label-arrow:hover:before {color: black;}#sk-ec319b9a-cee9-4ef2-a5df-a178602e8705 div.sk-estimator:hover label.sk-toggleable__label-arrow:before {color: black;}#sk-ec319b9a-cee9-4ef2-a5df-a178602e8705 div.sk-toggleable__content {max-height: 0;max-width: 0;overflow: hidden;text-align: left;background-color: #f0f8ff;}#sk-ec319b9a-cee9-4ef2-a5df-a178602e8705 div.sk-toggleable__content pre {margin: 0.2em;color: black;border-radius: 0.25em;background-color: #f0f8ff;}#sk-ec319b9a-cee9-4ef2-a5df-a178602e8705 input.sk-toggleable__control:checked~div.sk-toggleable__content {max-height: 200px;max-width: 100%;overflow: auto;}#sk-ec319b9a-cee9-4ef2-a5df-a178602e8705 input.sk-toggleable__control:checked~label.sk-toggleable__label-arrow:before {content: \"▾\";}#sk-ec319b9a-cee9-4ef2-a5df-a178602e8705 div.sk-estimator input.sk-toggleable__control:checked~label.sk-toggleable__label {background-color: #d4ebff;}#sk-ec319b9a-cee9-4ef2-a5df-a178602e8705 div.sk-label input.sk-toggleable__control:checked~label.sk-toggleable__label {background-color: #d4ebff;}#sk-ec319b9a-cee9-4ef2-a5df-a178602e8705 input.sk-hidden--visually {border: 0;clip: rect(1px 1px 1px 1px);clip: rect(1px, 1px, 1px, 1px);height: 1px;margin: -1px;overflow: hidden;padding: 0;position: absolute;width: 1px;}#sk-ec319b9a-cee9-4ef2-a5df-a178602e8705 div.sk-estimator {font-family: monospace;background-color: #f0f8ff;border: 1px dotted black;border-radius: 0.25em;box-sizing: border-box;margin-bottom: 0.5em;}#sk-ec319b9a-cee9-4ef2-a5df-a178602e8705 div.sk-estimator:hover {background-color: #d4ebff;}#sk-ec319b9a-cee9-4ef2-a5df-a178602e8705 div.sk-parallel-item::after {content: \"\";width: 100%;border-bottom: 1px solid gray;flex-grow: 1;}#sk-ec319b9a-cee9-4ef2-a5df-a178602e8705 div.sk-label:hover label.sk-toggleable__label {background-color: #d4ebff;}#sk-ec319b9a-cee9-4ef2-a5df-a178602e8705 div.sk-serial::before {content: \"\";position: absolute;border-left: 1px solid gray;box-sizing: border-box;top: 2em;bottom: 0;left: 50%;}#sk-ec319b9a-cee9-4ef2-a5df-a178602e8705 div.sk-serial {display: flex;flex-direction: column;align-items: center;background-color: white;padding-right: 0.2em;padding-left: 0.2em;}#sk-ec319b9a-cee9-4ef2-a5df-a178602e8705 div.sk-item {z-index: 1;}#sk-ec319b9a-cee9-4ef2-a5df-a178602e8705 div.sk-parallel {display: flex;align-items: stretch;justify-content: center;background-color: white;}#sk-ec319b9a-cee9-4ef2-a5df-a178602e8705 div.sk-parallel::before {content: \"\";position: absolute;border-left: 1px solid gray;box-sizing: border-box;top: 2em;bottom: 0;left: 50%;}#sk-ec319b9a-cee9-4ef2-a5df-a178602e8705 div.sk-parallel-item {display: flex;flex-direction: column;position: relative;background-color: white;}#sk-ec319b9a-cee9-4ef2-a5df-a178602e8705 div.sk-parallel-item:first-child::after {align-self: flex-end;width: 50%;}#sk-ec319b9a-cee9-4ef2-a5df-a178602e8705 div.sk-parallel-item:last-child::after {align-self: flex-start;width: 50%;}#sk-ec319b9a-cee9-4ef2-a5df-a178602e8705 div.sk-parallel-item:only-child::after {width: 0;}#sk-ec319b9a-cee9-4ef2-a5df-a178602e8705 div.sk-dashed-wrapped {border: 1px dashed gray;margin: 0 0.4em 0.5em 0.4em;box-sizing: border-box;padding-bottom: 0.4em;background-color: white;position: relative;}#sk-ec319b9a-cee9-4ef2-a5df-a178602e8705 div.sk-label label {font-family: monospace;font-weight: bold;background-color: white;display: inline-block;line-height: 1.2em;}#sk-ec319b9a-cee9-4ef2-a5df-a178602e8705 div.sk-label-container {position: relative;z-index: 2;text-align: center;}#sk-ec319b9a-cee9-4ef2-a5df-a178602e8705 div.sk-container {/* jupyter's `normalize.less` sets `[hidden] { display: none; }` but bootstrap.min.css set `[hidden] { display: none !important; }` so we also need the `!important` here to be able to override the default hidden behavior on the sphinx rendered scikit-learn.org. See: https://github.com/scikit-learn/scikit-learn/issues/21755 */display: inline-block !important;position: relative;}#sk-ec319b9a-cee9-4ef2-a5df-a178602e8705 div.sk-text-repr-fallback {display: none;}</style><div id=\"sk-ec319b9a-cee9-4ef2-a5df-a178602e8705\" class=\"sk-top-container\"><div class=\"sk-text-repr-fallback\"><pre>DecisionTreeRegressor(random_state=42)</pre><b>Please rerun this cell to show the HTML repr or trust the notebook.</b></div><div class=\"sk-container\" hidden><div class=\"sk-item\"><div class=\"sk-estimator sk-toggleable\"><input class=\"sk-toggleable__control sk-hidden--visually\" id=\"192d5633-33be-499c-bdcc-e9e487165bd0\" type=\"checkbox\" checked><label for=\"192d5633-33be-499c-bdcc-e9e487165bd0\" class=\"sk-toggleable__label sk-toggleable__label-arrow\">DecisionTreeRegressor</label><div class=\"sk-toggleable__content\"><pre>DecisionTreeRegressor(random_state=42)</pre></div></div></div></div></div>"
            ]
          },
          "metadata": {},
          "execution_count": 144
        }
      ]
    },
    {
      "cell_type": "code",
      "source": [
        "train_preds = dec_tree.predict(X_train_processed)\n",
        "test_preds = dec_tree.predict(X_test_processed)"
      ],
      "metadata": {
        "id": "p4KusTb1pQOB"
      },
      "execution_count": null,
      "outputs": []
    },
    {
      "cell_type": "code",
      "source": [
        "# evalúen el modelo\n",
        "train_score = dec_tree.score(X_train_processed, y_train)\n",
        "test_score = dec_tree.score(X_test_processed, y_test)\n",
        "print(train_score)\n",
        "print(test_score)"
      ],
      "metadata": {
        "id": "TLWqUP1apWbA",
        "colab": {
          "base_uri": "https://localhost:8080/"
        },
        "outputId": "67344311-d296-44d4-8e5b-34c5a9eb5dde"
      },
      "execution_count": null,
      "outputs": [
        {
          "output_type": "stream",
          "name": "stdout",
          "text": [
            "1.0\n",
            "0.15504658886073064\n"
          ]
        }
      ]
    },
    {
      "cell_type": "code",
      "source": [
        "# Lista de valores a probar para max_depth:\n",
        "max_depth_range = list(range(5, 25))# will try every value between 2 and 36\n",
        "# Lista para almacenar la puntuación para cada valor de max_depth:\n",
        "r2 = []\n",
        "for depth in max_depth_range:\n",
        "    dec_tree = DecisionTreeRegressor(max_depth = depth, \n",
        "                             random_state = 42)\n",
        "    dec_tree.fit(X_train_processed, y_train)\n",
        "    score = dec_tree.score(X_test_processed, y_test)\n",
        "    r2.append(score)"
      ],
      "metadata": {
        "id": "5gal06Ehpdm0"
      },
      "execution_count": null,
      "outputs": []
    },
    {
      "cell_type": "code",
      "source": [
        "import matplotlib.pyplot as plt\n",
        "plt.plot(max_depth_range, r2)\n",
        "plt.xlabel('max_depth')\n",
        "plt.ylabel('R2');\n"
      ],
      "metadata": {
        "id": "Cwn35xdOpkti",
        "colab": {
          "base_uri": "https://localhost:8080/",
          "height": 292
        },
        "outputId": "79481c08-9d10-4182-e77e-3b214ea13037"
      },
      "execution_count": null,
      "outputs": [
        {
          "output_type": "display_data",
          "data": {
            "text/plain": [
              "<Figure size 432x288 with 1 Axes>"
            ],
            "image/png": "[encoded data removed]"
          },
          "metadata": {}
        }
      ]
    },
    {
      "cell_type": "code",
      "source": [
        "dec_tree_5 = DecisionTreeRegressor(max_depth = 5, random_state = 42)\n",
        "dec_tree_5.fit(X_train_processed, y_train)\n",
        "train_5_score = dec_tree_5.score(X_train_processed, y_train)\n",
        "test_5_score = dec_tree_5.score(X_test_processed, y_test)\n",
        "print(train_5_score)\n",
        "print(test_5_score)"
      ],
      "metadata": {
        "id": "qXUXqUDIpvUS",
        "colab": {
          "base_uri": "https://localhost:8080/"
        },
        "outputId": "59f360a9-6de1-40c0-b860-784b24b80cae"
      },
      "execution_count": null,
      "outputs": [
        {
          "output_type": "stream",
          "name": "stdout",
          "text": [
            "0.6022534362136622\n",
            "0.6137706359844946\n"
          ]
        }
      ]
    },
    {
      "cell_type": "markdown",
      "source": [
        "# Random Forest"
      ],
      "metadata": {
        "id": "FFM0b3Cq_NM_"
      }
    },
    {
      "cell_type": "code",
      "source": [
        "from sklearn.ensemble import RandomForestRegressor\n",
        "rf=RandomForestRegressor(n_estimators=400,max_depth=6, min_samples_leaf=76,n_jobs=4)"
      ],
      "metadata": {
        "id": "GszYdie-_P0t"
      },
      "execution_count": null,
      "outputs": []
    },
    {
      "cell_type": "code",
      "source": [
        "rf.fit(X_train_processed, y_train)"
      ],
      "metadata": {
        "id": "KeOlPYuA_2Jd",
        "colab": {
          "base_uri": "https://localhost:8080/",
          "height": 92
        },
        "outputId": "692121ae-df12-439d-df2c-69052146b5cd"
      },
      "execution_count": null,
      "outputs": [
        {
          "output_type": "execute_result",
          "data": {
            "text/plain": [
              "RandomForestRegressor(max_depth=6, min_samples_leaf=76, n_estimators=400,\n",
              "                      n_jobs=4)"
            ],
            "text/html": [
              "<style>#sk-c862e258-28e0-4411-83d0-487155c71f8f {color: black;background-color: white;}#sk-c862e258-28e0-4411-83d0-487155c71f8f pre{padding: 0;}#sk-c862e258-28e0-4411-83d0-487155c71f8f div.sk-toggleable {background-color: white;}#sk-c862e258-28e0-4411-83d0-487155c71f8f label.sk-toggleable__label {cursor: pointer;display: block;width: 100%;margin-bottom: 0;padding: 0.3em;box-sizing: border-box;text-align: center;}#sk-c862e258-28e0-4411-83d0-487155c71f8f label.sk-toggleable__label-arrow:before {content: \"▸\";float: left;margin-right: 0.25em;color: #696969;}#sk-c862e258-28e0-4411-83d0-487155c71f8f label.sk-toggleable__label-arrow:hover:before {color: black;}#sk-c862e258-28e0-4411-83d0-487155c71f8f div.sk-estimator:hover label.sk-toggleable__label-arrow:before {color: black;}#sk-c862e258-28e0-4411-83d0-487155c71f8f div.sk-toggleable__content {max-height: 0;max-width: 0;overflow: hidden;text-align: left;background-color: #f0f8ff;}#sk-c862e258-28e0-4411-83d0-487155c71f8f div.sk-toggleable__content pre {margin: 0.2em;color: black;border-radius: 0.25em;background-color: #f0f8ff;}#sk-c862e258-28e0-4411-83d0-487155c71f8f input.sk-toggleable__control:checked~div.sk-toggleable__content {max-height: 200px;max-width: 100%;overflow: auto;}#sk-c862e258-28e0-4411-83d0-487155c71f8f input.sk-toggleable__control:checked~label.sk-toggleable__label-arrow:before {content: \"▾\";}#sk-c862e258-28e0-4411-83d0-487155c71f8f div.sk-estimator input.sk-toggleable__control:checked~label.sk-toggleable__label {background-color: #d4ebff;}#sk-c862e258-28e0-4411-83d0-487155c71f8f div.sk-label input.sk-toggleable__control:checked~label.sk-toggleable__label {background-color: #d4ebff;}#sk-c862e258-28e0-4411-83d0-487155c71f8f input.sk-hidden--visually {border: 0;clip: rect(1px 1px 1px 1px);clip: rect(1px, 1px, 1px, 1px);height: 1px;margin: -1px;overflow: hidden;padding: 0;position: absolute;width: 1px;}#sk-c862e258-28e0-4411-83d0-487155c71f8f div.sk-estimator {font-family: monospace;background-color: #f0f8ff;border: 1px dotted black;border-radius: 0.25em;box-sizing: border-box;margin-bottom: 0.5em;}#sk-c862e258-28e0-4411-83d0-487155c71f8f div.sk-estimator:hover {background-color: #d4ebff;}#sk-c862e258-28e0-4411-83d0-487155c71f8f div.sk-parallel-item::after {content: \"\";width: 100%;border-bottom: 1px solid gray;flex-grow: 1;}#sk-c862e258-28e0-4411-83d0-487155c71f8f div.sk-label:hover label.sk-toggleable__label {background-color: #d4ebff;}#sk-c862e258-28e0-4411-83d0-487155c71f8f div.sk-serial::before {content: \"\";position: absolute;border-left: 1px solid gray;box-sizing: border-box;top: 2em;bottom: 0;left: 50%;}#sk-c862e258-28e0-4411-83d0-487155c71f8f div.sk-serial {display: flex;flex-direction: column;align-items: center;background-color: white;padding-right: 0.2em;padding-left: 0.2em;}#sk-c862e258-28e0-4411-83d0-487155c71f8f div.sk-item {z-index: 1;}#sk-c862e258-28e0-4411-83d0-487155c71f8f div.sk-parallel {display: flex;align-items: stretch;justify-content: center;background-color: white;}#sk-c862e258-28e0-4411-83d0-487155c71f8f div.sk-parallel::before {content: \"\";position: absolute;border-left: 1px solid gray;box-sizing: border-box;top: 2em;bottom: 0;left: 50%;}#sk-c862e258-28e0-4411-83d0-487155c71f8f div.sk-parallel-item {display: flex;flex-direction: column;position: relative;background-color: white;}#sk-c862e258-28e0-4411-83d0-487155c71f8f div.sk-parallel-item:first-child::after {align-self: flex-end;width: 50%;}#sk-c862e258-28e0-4411-83d0-487155c71f8f div.sk-parallel-item:last-child::after {align-self: flex-start;width: 50%;}#sk-c862e258-28e0-4411-83d0-487155c71f8f div.sk-parallel-item:only-child::after {width: 0;}#sk-c862e258-28e0-4411-83d0-487155c71f8f div.sk-dashed-wrapped {border: 1px dashed gray;margin: 0 0.4em 0.5em 0.4em;box-sizing: border-box;padding-bottom: 0.4em;background-color: white;position: relative;}#sk-c862e258-28e0-4411-83d0-487155c71f8f div.sk-label label {font-family: monospace;font-weight: bold;background-color: white;display: inline-block;line-height: 1.2em;}#sk-c862e258-28e0-4411-83d0-487155c71f8f div.sk-label-container {position: relative;z-index: 2;text-align: center;}#sk-c862e258-28e0-4411-83d0-487155c71f8f div.sk-container {/* jupyter's `normalize.less` sets `[hidden] { display: none; }` but bootstrap.min.css set `[hidden] { display: none !important; }` so we also need the `!important` here to be able to override the default hidden behavior on the sphinx rendered scikit-learn.org. See: https://github.com/scikit-learn/scikit-learn/issues/21755 */display: inline-block !important;position: relative;}#sk-c862e258-28e0-4411-83d0-487155c71f8f div.sk-text-repr-fallback {display: none;}</style><div id=\"sk-c862e258-28e0-4411-83d0-487155c71f8f\" class=\"sk-top-container\"><div class=\"sk-text-repr-fallback\"><pre>RandomForestRegressor(max_depth=6, min_samples_leaf=76, n_estimators=400,\n",
              "                      n_jobs=4)</pre><b>Please rerun this cell to show the HTML repr or trust the notebook.</b></div><div class=\"sk-container\" hidden><div class=\"sk-item\"><div class=\"sk-estimator sk-toggleable\"><input class=\"sk-toggleable__control sk-hidden--visually\" id=\"5c059d88-b661-4ff7-9a17-fdc9bbbd8f6c\" type=\"checkbox\" checked><label for=\"5c059d88-b661-4ff7-9a17-fdc9bbbd8f6c\" class=\"sk-toggleable__label sk-toggleable__label-arrow\">RandomForestRegressor</label><div class=\"sk-toggleable__content\"><pre>RandomForestRegressor(max_depth=6, min_samples_leaf=76, n_estimators=400,\n",
              "                      n_jobs=4)</pre></div></div></div></div></div>"
            ]
          },
          "metadata": {},
          "execution_count": 151
        }
      ]
    },
    {
      "cell_type": "code",
      "source": [
        "rf.predict(X_test_processed)"
      ],
      "metadata": {
        "id": "Kiv3PHP4AdeR",
        "colab": {
          "base_uri": "https://localhost:8080/"
        },
        "outputId": "45ae2cdf-5b5b-4f6a-9759-f8d4dda42cc9"
      },
      "execution_count": null,
      "outputs": [
        {
          "output_type": "execute_result",
          "data": {
            "text/plain": [
              "array([1280.38145526,  672.16281087,  671.56635317, 4599.09840667,\n",
              "       3110.90810594,  591.83055227, 5916.92347912, 2044.74816915,\n",
              "       1591.87658189, 2964.4997048 ,  225.67482968,  586.11973366,\n",
              "       4040.85030356,  725.15440943,  804.79654984, 4221.42575533,\n",
              "       1898.77244052, 1642.56867341, 2047.14108584, 3088.92984953,\n",
              "       3091.58301827, 2586.26229523, 3135.1471833 , 2428.73742245,\n",
              "       4117.98691521, 1231.05748089,  350.43766066, 3885.85415182,\n",
              "       3083.34630314, 3879.13454945,  723.06484022, 2876.21873268,\n",
              "       2124.34749886, 3138.35235691,  356.68220609, 1350.9420026 ,\n",
              "        728.21826677, 2055.52376814, 1293.73510794, 3164.63129068,\n",
              "        179.20529524, 2078.48653132, 1408.20789038, 1461.61108493,\n",
              "       2481.66240149, 1390.31513685,  788.49886209,  882.1185894 ,\n",
              "       4131.75310851, 2079.05839695,  738.91379703, 2125.63866554,\n",
              "        870.69183581,  123.68983123,  595.65085287, 1899.12882536,\n",
              "       3103.73096017, 2067.34763705,  636.8311842 , 4024.21987054,\n",
              "        884.56419836,  398.33460265, 2455.60906063, 1915.24414703,\n",
              "       3166.87178787, 2588.43378525,  590.80672978, 3757.82883979,\n",
              "        650.72542531, 4219.44360773,  922.61702724,  347.98029716,\n",
              "       4140.84197209, 2089.22372605, 1570.76227513, 1287.12355351,\n",
              "       2430.83814431, 1441.24843468, 2857.033896  , 2887.02542371,\n",
              "        849.99548961, 3851.74935533, 3991.67930576, 2257.52516395,\n",
              "       2956.66545858, 2455.93907106, 3716.28054455, 1399.29700243,\n",
              "       3647.2445027 , 2578.7566628 , 6012.31786315,  991.34150905,\n",
              "        850.40993861, 2455.0340462 ,  722.8641066 ,  724.70644427,\n",
              "        931.62452785,  672.65531589, 1512.62416603,  123.3172762 ,\n",
              "       2478.03078106, 3929.65554076, 3712.068478  ,  721.05461043,\n",
              "       2462.55892098,  957.37085493, 1034.61089661, 2984.89051362,\n",
              "        729.0487474 , 1640.28528063,  591.52707364, 2451.63810279,\n",
              "       1443.36836723, 2430.29609845,  464.90397774,  651.33774491,\n",
              "       6012.3283129 ,  566.46275246, 1651.97775549, 2949.92901304,\n",
              "       2362.86898485, 3892.04613004, 2478.64920838,  936.39633303,\n",
              "       3152.22712528, 1711.12072584,  225.67482968, 2860.32635458,\n",
              "        672.33266865, 4223.88105302,  567.34179818, 1196.25724954,\n",
              "       2068.34842069, 3236.28626829, 1883.24786356, 1353.30963295,\n",
              "       2057.38656537, 3111.23593886, 2954.02959584, 3813.64952617,\n",
              "       5466.5224098 , 4199.11352965, 1827.84405003, 2628.76160083,\n",
              "       2449.78870524, 2853.74789266, 2107.65705   , 3234.32155372,\n",
              "       3134.890255  , 1707.23342212,  466.35319419,  595.16856449,\n",
              "       1374.55841075, 3082.00093527,  219.24901719, 2664.10752638,\n",
              "        153.23154857, 3977.12952659, 2092.14009952, 2728.21637107,\n",
              "        123.3172762 , 1551.12357266, 2106.00667063, 2056.26174974,\n",
              "       2664.10752638,  664.20292227, 4871.32467327, 1447.7614192 ,\n",
              "       1970.72899722, 1896.52734797, 2495.9706602 , 1722.22234512,\n",
              "       2373.44271056,  585.89460325, 3126.45597408, 2693.63838935,\n",
              "       1589.74276769, 3099.03779014, 3830.30381167,  722.07680288,\n",
              "        584.92344381,  127.16706067, 1573.39592374, 2577.44837097,\n",
              "       1778.98642753, 2664.10752638,  463.27770339,  630.59937627,\n",
              "       3852.36010078,  599.51235437, 1389.21038206, 2470.02398134,\n",
              "       3126.13671606,  723.06484022, 1641.89287244, 1638.87894289,\n",
              "       2459.93634241, 1568.5202731 , 2864.487759  , 1695.52034941,\n",
              "       2524.80915987, 1566.6460841 , 3666.12301887, 2662.79923454,\n",
              "       1643.47650884, 2116.05989072,  630.59937627, 1305.38560277,\n",
              "       1464.48302072, 2922.347969  , 3119.42980267, 1376.52960989,\n",
              "       1386.19266712, 1995.2403859 , 1281.30603642,  225.92270743,\n",
              "       4239.08655658, 3893.52168226, 1874.37509909, 3854.95228998,\n",
              "       2055.60970851, 3647.5751529 , 3292.86087937,  724.70644427,\n",
              "       1579.00469118, 5799.50074734, 2924.79270568, 3105.84321002,\n",
              "       1438.3791829 , 4342.38325406, 3631.53538835, 1640.39346767,\n",
              "       2455.27680218,  593.74805652, 4215.48323365, 1915.53809198,\n",
              "       1642.36983073, 2365.3994378 , 2163.87095506, 2774.67249654,\n",
              "       2045.68934169, 2067.2489673 , 2396.21019826,  567.0561235 ,\n",
              "       3102.01409065, 3066.80518113, 2447.163642  ,  123.3172762 ,\n",
              "       2430.29609845,  590.61145378,  882.73764447, 2841.48677994,\n",
              "       4225.58734868, 1092.96589927, 2447.76315509, 3031.97216478,\n",
              "       4189.01532417,  568.91271666, 1465.74928121,  234.85059521,\n",
              "       3083.02216634, 3932.09715937, 3154.94537422,  494.27656785,\n",
              "       1997.14343864,  721.42686287, 1612.82340946, 2502.35881974,\n",
              "       3106.90847187, 2692.33009752, 2452.0259787 , 1199.17826921,\n",
              "       3929.80185044,  123.3172762 , 2410.68926302, 2805.51052632,\n",
              "        347.86789103, 2846.98125379, 2884.16021065,  647.58972936,\n",
              "       4130.79210753, 3733.35132705, 3253.98903381, 1593.85155307,\n",
              "       3515.95029601, 1642.27943597,  584.72811444, 2062.17848244,\n",
              "        885.95993363, 2470.38068786, 4108.5015379 , 1184.64742604,\n",
              "       6019.77518074, 1644.09579826, 2088.35398764, 3125.86133551,\n",
              "        256.66569034, 2586.58373218,  254.1557517 , 1387.73679382,\n",
              "        265.70873394, 1401.89377173, 3852.36010078, 2935.20059578,\n",
              "       2490.19879842, 2871.88514347,  495.16619971,  679.49408642,\n",
              "       1701.69014181,  399.04943568, 3853.81167725, 2428.23743282,\n",
              "        496.55918233,  568.26612204,  289.6103418 , 1891.29347667,\n",
              "       3137.35600606,  884.40892648, 1641.41752731, 1633.19929189,\n",
              "       3012.16297274,  130.29228475,  568.03606088, 2428.24157867,\n",
              "       1814.80997192, 2497.27895204, 2679.09726075, 3897.02990766,\n",
              "       1642.51216185, 1184.64742604,  359.13053709, 4678.96575914,\n",
              "        885.95993363, 2043.579263  ,  435.35004716, 1925.78344748,\n",
              "       2100.27513823, 4219.44360773,  196.72903573, 6014.47067791,\n",
              "       3521.38999673, 2057.80949467,  930.71528152,  687.85612539,\n",
              "       4206.36745787, 3106.07258217, 4120.19479906,  594.66367638,\n",
              "       4599.27007128,  729.81443045,  934.31897207, 2435.01851292,\n",
              "        882.73764447, 1407.0214109 , 2055.55369143,  274.34692579,\n",
              "       1172.35150198,  134.65943291, 2119.70918412, 1444.56873928,\n",
              "        585.89460325, 1664.17738522,  635.69452806, 2460.86885263,\n",
              "       1637.10656182, 1817.23912503, 3855.15704823,  274.15661958,\n",
              "       6014.47067791, 3239.86544122, 3833.86118625, 1524.74912198,\n",
              "       1286.15580393, 2062.41237053, 1640.46874241, 1535.16650958,\n",
              "       2576.15123564, 2929.00033728, 1641.9832672 , 3146.79331346,\n",
              "       3090.67506411, 2554.16203709, 3626.72864036, 6014.47067791,\n",
              "       3107.89553536,  885.91021018, 4117.08402555, 3245.07649144,\n",
              "       1222.39245665, 2341.72300035,  720.95432032,  728.88654947,\n",
              "       2951.79143618, 1289.02513283, 4234.38164058, 2108.1807475 ,\n",
              "       3270.91351887, 4096.52941817,  123.3172762 , 2462.58564631,\n",
              "       1177.0878897 , 2516.07177608, 1364.40615713,  586.08565616,\n",
              "        123.3172762 , 2840.84863362,  123.3172762 , 4023.81370084,\n",
              "       1692.71478527, 2946.37615914, 2090.98750947, 2788.34949606,\n",
              "       1398.97677785,  883.55595775, 2855.75740646, 3128.11076682,\n",
              "       2749.50037027, 3520.74434289, 5090.89059348, 3963.02967876,\n",
              "       3630.82623773, 4104.85590724, 1014.85110181,  473.09615828,\n",
              "        588.01631565, 2965.16742865, 1567.2312591 ,  742.31353579,\n",
              "        733.28052233, 3987.44862771, 2491.86343934, 1900.45667388,\n",
              "       4025.17138761, 3158.00128068,  587.25214497, 1272.70922857,\n",
              "       5397.21846373, 2145.05939273,  508.6806058 , 4043.49337008,\n",
              "       1192.44162782, 2474.78916599,  124.25974637, 1942.52099128,\n",
              "       4895.151527  ,  595.89871583,  688.12819615,  123.3172762 ,\n",
              "       2055.44546894,  602.16079237, 1999.34050496, 1913.79488532,\n",
              "       5101.68150579, 2728.38050071, 3109.57986509, 1779.0685833 ,\n",
              "       6014.47067791, 3129.95163409,  347.60420719, 2104.20230294,\n",
              "        123.3172762 ,  675.78198179, 2463.3281729 , 2954.57555805,\n",
              "       3168.30914911, 1644.09579826, 1288.80990337, 2873.8955091 ,\n",
              "       1926.93432714, 2412.58935143, 3218.30111697, 1642.60255662,\n",
              "       1393.29609388, 2865.33540973, 3049.20235846, 4176.58289078,\n",
              "        659.51938004,  967.36939454, 4056.18245589, 3111.44443727,\n",
              "        237.34893422, 1282.19220451,  684.01923933,  184.76956214,\n",
              "       1371.43727428, 3648.8629367 , 3512.40032209, 3835.31945906,\n",
              "        722.65077412,  994.14565841, 1981.3821819 , 1275.55944053,\n",
              "       3898.66304232, 3124.03948518, 3110.32302329,  781.71638396,\n",
              "       2095.19114033, 3036.90350346, 3512.88926759, 2768.00379864,\n",
              "       4043.97179972, 2925.24548415, 2377.4765362 , 2941.85782793,\n",
              "       1889.59398061,  123.3172762 , 1403.4159437 ,  862.09843199,\n",
              "       1700.57140503,  237.22884687, 1402.53932379, 1693.90190848,\n",
              "        643.75204423, 2446.60658915,  693.52404136, 1373.61399496,\n",
              "       1448.44953101, 2028.20651282,  225.67482968, 1217.31260288,\n",
              "       1641.21836403, 1650.85894427, 6012.3283129 , 2662.97790338,\n",
              "       4039.83007885, 1409.23701856, 2452.47380308, 3148.10160529,\n",
              "       2120.81044621, 2109.2869417 , 2449.3973638 , 3886.11569353,\n",
              "        123.3172762 , 6019.77518074, 1412.02795561, 2069.57475164,\n",
              "        427.27383624, 1645.25859041, 1295.61878136, 2970.44099775,\n",
              "       2450.55447187, 3088.89786306, 1409.96328833,  179.70704542,\n",
              "       3526.35314975, 1640.46874241, 1559.72368255, 3079.41209778,\n",
              "       2868.05481717, 2422.63146831, 2079.51681482,  583.64029854,\n",
              "       2405.31845606,  990.580282  ,  347.27333756,  886.71880742,\n",
              "       3947.9322654 , 1023.9806322 , 1390.08081863, 2440.1126029 ,\n",
              "       2433.84253955, 2881.82809241, 1408.31173702, 4119.77880212,\n",
              "       3634.82340826, 3986.73877946, 2514.68818661, 2068.4228711 ,\n",
              "       1907.76555144, 3153.73756729, 2505.57346713,  396.7730334 ,\n",
              "        248.97272588, 1895.24320841,  488.09140189, 1895.06190478,\n",
              "        871.71997354, 3278.95353121,  475.08948448, 3053.41194089,\n",
              "       3639.94484658,  909.50572222,  881.69080275, 4217.03480363,\n",
              "       5090.89059348, 3515.39033376, 3501.57582053,  296.20201209,\n",
              "       2586.59421565, 3661.79209189, 2528.90241731, 2075.49151612,\n",
              "       1434.8666507 , 6012.3283129 ,  848.29631673,  676.41368692,\n",
              "       2477.03620703, 2467.92436543, 2070.92467906, 2408.64940557,\n",
              "       1092.96589927, 5083.54254093,  585.36867099, 2461.92264203,\n",
              "       3109.99911236, 1641.94642197, 2640.41452465, 2090.74884512,\n",
              "       1653.5613919 , 2447.80047776,  721.87606926, 3985.6846501 ,\n",
              "        593.66834814, 3039.63898468, 2610.00146739, 2952.01219797,\n",
              "        123.3172762 , 2068.55326139, 1392.75404802, 3028.14927513,\n",
              "       3671.32480496, 3101.66837674, 1832.01612547, 1189.26837321,\n",
              "       2089.39968359, 3100.05681951, 2349.22393385, 1564.08951145,\n",
              "       3472.57704193, 3045.72023168, 3811.52009006, 1046.35445932,\n",
              "       1390.20191571, 1592.32815705, 3522.40208159, 1589.74276769,\n",
              "       1641.06926865,  630.94994706,  587.25214497,  156.14116758,\n",
              "       2970.78185469,  187.2956538 , 2605.66583983, 6014.47067791,\n",
              "        286.89030495, 1599.84453515, 4084.84972652,  221.29505544,\n",
              "        123.3172762 , 2093.37928373, 3988.34611418, 1641.7846854 ,\n",
              "       1522.0101285 , 3088.74726176,  633.70081144, 1285.32907944,\n",
              "       2410.75124141, 1729.03294684, 3731.87908799,  672.3250088 ,\n",
              "        134.51013709, 5087.48989333, 1690.59320658, 2069.50064603,\n",
              "       1387.75736968, 1806.79910214, 1571.96053149, 2104.70869485,\n",
              "       1650.78822537,  672.16281087,  379.70236163,  381.18159277,\n",
              "       2521.36249794, 1306.45010252, 4678.05536463, 2452.44628905,\n",
              "        504.65473627, 1961.54685135, 1888.00397151, 3144.58618199,\n",
              "       2641.38711565, 2845.19308146, 1643.45871656, 1559.13684928,\n",
              "       3854.95228998, 1904.27740731, 1374.56279085, 2432.14643614,\n",
              "       1897.29975018, 2102.21142515,  285.45553952, 2910.4363917 ,\n",
              "       2491.71016319,  214.59302913, 1580.30594655,  882.68792101,\n",
              "       3139.03393245, 3241.7199055 , 1776.3420474 , 3060.26695158,\n",
              "       2090.85572149, 3168.59190779, 3592.12384542, 2070.32810587,\n",
              "       3136.92683561,  285.85285391, 1700.18699769, 1392.69304123,\n",
              "        166.65781915,  650.29763513, 1622.38010066,  591.52707364,\n",
              "        927.73816544, 5605.09991761, 2921.49667826, 3449.20129722,\n",
              "        930.26236285, 1325.06859455,  720.27641369, 1644.09579826,\n",
              "       2888.28558882, 2454.96343787, 3735.17633166,  734.93390062,\n",
              "        273.20948541, 1142.85571236, 4113.38824607, 1891.78030328,\n",
              "       2090.85572149, 2090.18329117, 1890.30071677, 6019.77518074,\n",
              "       1637.90469504, 6019.77518074, 2032.00709814, 2055.00602589,\n",
              "        183.09487488, 3151.26676346, 2078.06298851,  472.60918502,\n",
              "        225.67482968, 4158.76855383, 4897.04616981,  287.2383931 ,\n",
              "        395.67466598, 3067.50660603, 2977.61470813, 1284.44613161,\n",
              "       3088.84310538, 1572.76565722, 1207.31371543, 5090.89059348,\n",
              "       1415.27630564, 3669.05580163, 2029.61673851,  133.48907957,\n",
              "       2459.21305339, 3060.32946027, 3062.95346532,  506.62054427,\n",
              "       3088.89594301, 1486.96213523, 4127.74315273, 2069.32777373,\n",
              "       1567.2312591 , 1892.15640689,  722.65077412, 2117.13029556,\n",
              "       6019.77518074,  510.31603898, 1630.90986111, 5607.2166939 ,\n",
              "       2083.20126833, 1600.35067027, 3463.68840957, 1201.82990938,\n",
              "       2868.01818178,  425.97606497,  862.68133252,  648.41470571,\n",
              "       1209.78102182, 2854.72311322, 3080.50733439,  301.03618834,\n",
              "       1833.92830593, 1294.27284897, 3889.44020361, 1403.47387304,\n",
              "       1524.43073858, 2520.61334218, 2071.73307714, 1016.58359766,\n",
              "       1605.32928856, 1941.49250949, 6014.321771  , 4678.05536463,\n",
              "        123.3172762 , 3916.12011274,  214.57410871,  295.03868621,\n",
              "        365.32981536, 5408.26889847, 2130.08064573, 3771.49927348,\n",
              "       2109.24431366, 3084.46442317, 2416.35565942,  229.71723708,\n",
              "       3935.10184051, 3889.96356504,  285.17150019, 2876.04902759,\n",
              "        585.76066451, 3973.22160436, 1896.58815009, 1392.0340421 ,\n",
              "       4202.70158358, 2609.11264084, 4187.05355807, 3051.71785978,\n",
              "       1373.44106241, 1914.81120483, 2496.21717574, 1434.66902903,\n",
              "       1559.15794266, 1618.61778153, 2090.91734347,  936.15630728,\n",
              "       1016.00816968,  285.8789944 , 2430.83814431, 1448.15275397,\n",
              "        151.6790525 , 1598.76703386, 3068.81644476, 3137.13129006,\n",
              "       1407.06047257,  598.27409354, 2574.03175021, 1287.61356346,\n",
              "        676.57933786, 2075.34944339,  583.96394376,  357.7920117 ,\n",
              "       4270.29087372,  732.58472805, 4126.23650826, 3762.99798549,\n",
              "       3950.08865203, 2440.32427514, 2399.40306122,  867.4847141 ,\n",
              "       1374.39272186])"
            ]
          },
          "metadata": {},
          "execution_count": 152
        }
      ]
    },
    {
      "cell_type": "code",
      "source": [
        "train_preds = rf.predict(X_train_processed)\n",
        "test_preds = rf.predict(X_test_processed)"
      ],
      "metadata": {
        "id": "ocDcrDHCAsPN"
      },
      "execution_count": null,
      "outputs": []
    },
    {
      "cell_type": "code",
      "source": [
        "train_score = rf.score(X_train_processed, y_train)\n",
        "test_score = rf.score(X_test_processed, y_test)\n",
        "print(train_score)\n",
        "print(test_score)"
      ],
      "metadata": {
        "id": "YGVRfg-jA8pF",
        "colab": {
          "base_uri": "https://localhost:8080/"
        },
        "outputId": "dd43b341-a11d-4fd4-8cb3-4a50878a0156"
      },
      "execution_count": null,
      "outputs": [
        {
          "output_type": "stream",
          "name": "stdout",
          "text": [
            "0.6080941943220342\n",
            "0.6208854178481453\n"
          ]
        }
      ]
    }
  ]
}