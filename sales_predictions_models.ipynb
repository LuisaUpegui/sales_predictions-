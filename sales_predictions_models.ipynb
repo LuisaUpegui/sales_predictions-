{
  "nbformat": 4,
  "nbformat_minor": 0,
  "metadata": {
    "colab": {
      "provenance": [],
      "mount_file_id": "1yECNHmDhDYYPN1aiPra0X875vPdaUE1u",
      "authorship_tag": "ABX9TyNBNNFDw8I5XEWq8HuSuAgc",
      "include_colab_link": true
    },
    "kernelspec": {
      "name": "python3",
      "display_name": "Python 3"
    },
    "language_info": {
      "name": "python"
    }
  },
  "cells": [
    {
      "cell_type": "markdown",
      "metadata": {
        "id": "view-in-github",
        "colab_type": "text"
      },
      "source": [
        "<a href=\"https://colab.research.google.com/github/LuisaUpegui/sales_predictions-/blob/main/sales_predictions_models.ipynb\" target=\"_parent\"><img src=\"https://colab.research.google.com/assets/colab-badge.svg\" alt=\"Open In Colab\"/></a>"
      ]
    },
    {
      "cell_type": "markdown",
      "source": [
        "# Sales prediction \n",
        "\n",
        "Este proyecto tiene como objetivo realizar un modelo que prediga las ventas. "
      ],
      "metadata": {
        "id": "Y7jjXSqjmxSk"
      }
    },
    {
      "cell_type": "markdown",
      "source": [
        "# Exploración de datos.\n",
        "\n",
        "Conocer el set de datos, ver que tipo de variables se tienen, si hay o no valores nulos, si los hay que hacer con ellos. Limpiar nuestro set y mirar que podria contestarse con este."
      ],
      "metadata": {
        "id": "2_sMfDTZm3iw"
      }
    },
    {
      "cell_type": "code",
      "source": [
        "from google.colab import drive #Dar acceso al drive \n",
        "drive.mount('/content/drive')"
      ],
      "metadata": {
        "id": "kq-x_PSuCGkf",
        "colab": {
          "base_uri": "https://localhost:8080/"
        },
        "outputId": "1f6a91cf-af4c-41e3-8ccf-32db09c819cb"
      },
      "execution_count": null,
      "outputs": [
        {
          "output_type": "stream",
          "name": "stdout",
          "text": [
            "Drive already mounted at /content/drive; to attempt to forcibly remount, call drive.mount(\"/content/drive\", force_remount=True).\n"
          ]
        }
      ]
    },
    {
      "cell_type": "code",
      "source": [
        "import seaborn as sns\n",
        "import numpy as np\n",
        "import matplotlib.pyplot as plt\n",
        "import numpy as np\n",
        "from sklearn.metrics import r2_score\n",
        "from sklearn.metrics import mean_absolute_error\n",
        "from sklearn.metrics import mean_squared_error\n",
        "from sklearn.linear_model import LinearRegression\n",
        "\n"
      ],
      "metadata": {
        "id": "m0Pt5xkFpIYx"
      },
      "execution_count": null,
      "outputs": []
    },
    {
      "cell_type": "code",
      "execution_count": null,
      "metadata": {
        "id": "hs88GYafCUDF"
      },
      "outputs": [],
      "source": [
        "import pandas as pd \n",
        "filename=\"/content/drive/MyDrive/Colab Notebooks/Coding dojo/sales-predictions/sales_predictions.csv\""
      ]
    },
    {
      "cell_type": "code",
      "source": [
        "df=pd.read_csv(filename)"
      ],
      "metadata": {
        "id": "y6cTFIF3iI_4"
      },
      "execution_count": null,
      "outputs": []
    },
    {
      "cell_type": "code",
      "source": [
        " #¿Cuántas filas y columnas?  Hay 8523 filas y 12 columnas \n",
        "df.info()"
      ],
      "metadata": {
        "id": "7CNySgak94Xp",
        "colab": {
          "base_uri": "https://localhost:8080/"
        },
        "outputId": "ce71077a-ccc2-4633-f1e9-a254e8592b0c"
      },
      "execution_count": null,
      "outputs": [
        {
          "output_type": "stream",
          "name": "stdout",
          "text": [
            "<class 'pandas.core.frame.DataFrame'>\n",
            "RangeIndex: 8523 entries, 0 to 8522\n",
            "Data columns (total 12 columns):\n",
            " #   Column                     Non-Null Count  Dtype  \n",
            "---  ------                     --------------  -----  \n",
            " 0   Item_Identifier            8523 non-null   object \n",
            " 1   Item_Weight                7060 non-null   float64\n",
            " 2   Item_Fat_Content           8523 non-null   object \n",
            " 3   Item_Visibility            8523 non-null   float64\n",
            " 4   Item_Type                  8523 non-null   object \n",
            " 5   Item_MRP                   8523 non-null   float64\n",
            " 6   Outlet_Identifier          8523 non-null   object \n",
            " 7   Outlet_Establishment_Year  8523 non-null   int64  \n",
            " 8   Outlet_Size                6113 non-null   object \n",
            " 9   Outlet_Location_Type       8523 non-null   object \n",
            " 10  Outlet_Type                8523 non-null   object \n",
            " 11  Item_Outlet_Sales          8523 non-null   float64\n",
            "dtypes: float64(4), int64(1), object(7)\n",
            "memory usage: 799.2+ KB\n"
          ]
        }
      ]
    },
    {
      "cell_type": "code",
      "source": [
        "#¿Cuáles son los tipos de datos en cada variable?\n",
        "# Hay 4 columnas de tipo flotante, 1 columna con tipo de variable entero, y  7 columnas con tipo de variable categorica (object)"
      ],
      "metadata": {
        "id": "_chWouM7-2ha"
      },
      "execution_count": null,
      "outputs": []
    },
    {
      "cell_type": "code",
      "source": [
        "#3) ¿Hay duplicados? Si es el caso, eliminen algunos duplicados. No hay valores duplicados \n",
        "df.duplicated().sum"
      ],
      "metadata": {
        "id": "QprZEB52AgdH",
        "colab": {
          "base_uri": "https://localhost:8080/"
        },
        "outputId": "1dbe9e50-a166-4d39-9a3e-bcf4551455a1"
      },
      "execution_count": null,
      "outputs": [
        {
          "output_type": "execute_result",
          "data": {
            "text/plain": [
              "<bound method NDFrame._add_numeric_operations.<locals>.sum of 0       False\n",
              "1       False\n",
              "2       False\n",
              "3       False\n",
              "4       False\n",
              "        ...  \n",
              "8518    False\n",
              "8519    False\n",
              "8520    False\n",
              "8521    False\n",
              "8522    False\n",
              "Length: 8523, dtype: bool>"
            ]
          },
          "metadata": {},
          "execution_count": 137
        }
      ]
    },
    {
      "cell_type": "code",
      "source": [
        "#4) Identifiquen los valores faltantes. Hay dos columnas con valores faltantes, la columna item_weight \n",
        "# y la columna outlet_size \n",
        "df.isna().sum()"
      ],
      "metadata": {
        "id": "r2aQ4UvTBDCD",
        "colab": {
          "base_uri": "https://localhost:8080/"
        },
        "outputId": "e94eff44-00ea-4526-95eb-5306f5eab0f9"
      },
      "execution_count": null,
      "outputs": [
        {
          "output_type": "execute_result",
          "data": {
            "text/plain": [
              "Item_Identifier                 0\n",
              "Item_Weight                  1463\n",
              "Item_Fat_Content                0\n",
              "Item_Visibility                 0\n",
              "Item_Type                       0\n",
              "Item_MRP                        0\n",
              "Outlet_Identifier               0\n",
              "Outlet_Establishment_Year       0\n",
              "Outlet_Size                  2410\n",
              "Outlet_Location_Type            0\n",
              "Outlet_Type                     0\n",
              "Item_Outlet_Sales               0\n",
              "dtype: int64"
            ]
          },
          "metadata": {},
          "execution_count": 138
        }
      ]
    },
    {
      "cell_type": "code",
      "source": [
        "#5) Decidan cómo abordar los valores faltantes y cómo hacerlo. (Esto requiere sus criterios,así que expliquen su elección)."
      ],
      "metadata": {
        "id": "VsXmrYD-fCtN"
      },
      "execution_count": null,
      "outputs": []
    },
    {
      "cell_type": "code",
      "source": [
        "df[df[\"Item_Identifier\"]== \"FDP10\"]\n",
        "\n"
      ],
      "metadata": {
        "id": "2mgKZQDMoMM6",
        "colab": {
          "base_uri": "https://localhost:8080/"
        },
        "outputId": "47ed86e6-65c7-44c7-e4f9-b1082e579b9e"
      },
      "execution_count": null,
      "outputs": [
        {
          "output_type": "execute_result",
          "data": {
            "text/plain": [
              "     Item_Identifier  Item_Weight Item_Fat_Content  Item_Visibility  \\\n",
              "7              FDP10          NaN          Low Fat         0.127470   \n",
              "585            FDP10         19.0          Low Fat         0.128066   \n",
              "2623           FDP10         19.0          Low Fat         0.128815   \n",
              "3382           FDP10         19.0          Low Fat         0.128289   \n",
              "4585           FDP10         19.0          Low Fat         0.128090   \n",
              "6087           FDP10         19.0          Low Fat         0.128350   \n",
              "7883           FDP10         19.0          Low Fat         0.127984   \n",
              "\n",
              "        Item_Type  Item_MRP Outlet_Identifier  Outlet_Establishment_Year  \\\n",
              "7     Snack Foods  107.7622            OUT027                       1985   \n",
              "585   Snack Foods  104.3622            OUT035                       2004   \n",
              "2623  Snack Foods  107.6622            OUT017                       2007   \n",
              "3382  Snack Foods  104.9622            OUT049                       1999   \n",
              "4585  Snack Foods  107.0622            OUT046                       1997   \n",
              "6087  Snack Foods  106.5622            OUT045                       2002   \n",
              "7883  Snack Foods  107.6622            OUT013                       1987   \n",
              "\n",
              "     Outlet_Size Outlet_Location_Type        Outlet_Type  Item_Outlet_Sales  \n",
              "7         Medium               Tier 3  Supermarket Type3          4022.7636  \n",
              "585        Small               Tier 2  Supermarket Type1          1905.5196  \n",
              "2623         NaN               Tier 2  Supermarket Type1          1164.4842  \n",
              "3382      Medium               Tier 1  Supermarket Type1          1164.4842  \n",
              "4585       Small               Tier 1  Supermarket Type1          1376.2086  \n",
              "6087         NaN               Tier 2  Supermarket Type1          1482.0708  \n",
              "7883        High               Tier 3  Supermarket Type1          1270.3464  "
            ],
            "text/html": [
              "\n",
              "  <div id=\"df-4aaf6dc3-1a06-4015-83ae-f581fa0576d8\">\n",
              "    <div class=\"colab-df-container\">\n",
              "      <div>\n",
              "<style scoped>\n",
              "    .dataframe tbody tr th:only-of-type {\n",
              "        vertical-align: middle;\n",
              "    }\n",
              "\n",
              "    .dataframe tbody tr th {\n",
              "        vertical-align: top;\n",
              "    }\n",
              "\n",
              "    .dataframe thead th {\n",
              "        text-align: right;\n",
              "    }\n",
              "</style>\n",
              "<table border=\"1\" class=\"dataframe\">\n",
              "  <thead>\n",
              "    <tr style=\"text-align: right;\">\n",
              "      <th></th>\n",
              "      <th>Item_Identifier</th>\n",
              "      <th>Item_Weight</th>\n",
              "      <th>Item_Fat_Content</th>\n",
              "      <th>Item_Visibility</th>\n",
              "      <th>Item_Type</th>\n",
              "      <th>Item_MRP</th>\n",
              "      <th>Outlet_Identifier</th>\n",
              "      <th>Outlet_Establishment_Year</th>\n",
              "      <th>Outlet_Size</th>\n",
              "      <th>Outlet_Location_Type</th>\n",
              "      <th>Outlet_Type</th>\n",
              "      <th>Item_Outlet_Sales</th>\n",
              "    </tr>\n",
              "  </thead>\n",
              "  <tbody>\n",
              "    <tr>\n",
              "      <th>7</th>\n",
              "      <td>FDP10</td>\n",
              "      <td>NaN</td>\n",
              "      <td>Low Fat</td>\n",
              "      <td>0.127470</td>\n",
              "      <td>Snack Foods</td>\n",
              "      <td>107.7622</td>\n",
              "      <td>OUT027</td>\n",
              "      <td>1985</td>\n",
              "      <td>Medium</td>\n",
              "      <td>Tier 3</td>\n",
              "      <td>Supermarket Type3</td>\n",
              "      <td>4022.7636</td>\n",
              "    </tr>\n",
              "    <tr>\n",
              "      <th>585</th>\n",
              "      <td>FDP10</td>\n",
              "      <td>19.0</td>\n",
              "      <td>Low Fat</td>\n",
              "      <td>0.128066</td>\n",
              "      <td>Snack Foods</td>\n",
              "      <td>104.3622</td>\n",
              "      <td>OUT035</td>\n",
              "      <td>2004</td>\n",
              "      <td>Small</td>\n",
              "      <td>Tier 2</td>\n",
              "      <td>Supermarket Type1</td>\n",
              "      <td>1905.5196</td>\n",
              "    </tr>\n",
              "    <tr>\n",
              "      <th>2623</th>\n",
              "      <td>FDP10</td>\n",
              "      <td>19.0</td>\n",
              "      <td>Low Fat</td>\n",
              "      <td>0.128815</td>\n",
              "      <td>Snack Foods</td>\n",
              "      <td>107.6622</td>\n",
              "      <td>OUT017</td>\n",
              "      <td>2007</td>\n",
              "      <td>NaN</td>\n",
              "      <td>Tier 2</td>\n",
              "      <td>Supermarket Type1</td>\n",
              "      <td>1164.4842</td>\n",
              "    </tr>\n",
              "    <tr>\n",
              "      <th>3382</th>\n",
              "      <td>FDP10</td>\n",
              "      <td>19.0</td>\n",
              "      <td>Low Fat</td>\n",
              "      <td>0.128289</td>\n",
              "      <td>Snack Foods</td>\n",
              "      <td>104.9622</td>\n",
              "      <td>OUT049</td>\n",
              "      <td>1999</td>\n",
              "      <td>Medium</td>\n",
              "      <td>Tier 1</td>\n",
              "      <td>Supermarket Type1</td>\n",
              "      <td>1164.4842</td>\n",
              "    </tr>\n",
              "    <tr>\n",
              "      <th>4585</th>\n",
              "      <td>FDP10</td>\n",
              "      <td>19.0</td>\n",
              "      <td>Low Fat</td>\n",
              "      <td>0.128090</td>\n",
              "      <td>Snack Foods</td>\n",
              "      <td>107.0622</td>\n",
              "      <td>OUT046</td>\n",
              "      <td>1997</td>\n",
              "      <td>Small</td>\n",
              "      <td>Tier 1</td>\n",
              "      <td>Supermarket Type1</td>\n",
              "      <td>1376.2086</td>\n",
              "    </tr>\n",
              "    <tr>\n",
              "      <th>6087</th>\n",
              "      <td>FDP10</td>\n",
              "      <td>19.0</td>\n",
              "      <td>Low Fat</td>\n",
              "      <td>0.128350</td>\n",
              "      <td>Snack Foods</td>\n",
              "      <td>106.5622</td>\n",
              "      <td>OUT045</td>\n",
              "      <td>2002</td>\n",
              "      <td>NaN</td>\n",
              "      <td>Tier 2</td>\n",
              "      <td>Supermarket Type1</td>\n",
              "      <td>1482.0708</td>\n",
              "    </tr>\n",
              "    <tr>\n",
              "      <th>7883</th>\n",
              "      <td>FDP10</td>\n",
              "      <td>19.0</td>\n",
              "      <td>Low Fat</td>\n",
              "      <td>0.127984</td>\n",
              "      <td>Snack Foods</td>\n",
              "      <td>107.6622</td>\n",
              "      <td>OUT013</td>\n",
              "      <td>1987</td>\n",
              "      <td>High</td>\n",
              "      <td>Tier 3</td>\n",
              "      <td>Supermarket Type1</td>\n",
              "      <td>1270.3464</td>\n",
              "    </tr>\n",
              "  </tbody>\n",
              "</table>\n",
              "</div>\n",
              "      <button class=\"colab-df-convert\" onclick=\"convertToInteractive('df-4aaf6dc3-1a06-4015-83ae-f581fa0576d8')\"\n",
              "              title=\"Convert this dataframe to an interactive table.\"\n",
              "              style=\"display:none;\">\n",
              "        \n",
              "  <svg xmlns=\"http://www.w3.org/2000/svg\" height=\"24px\"viewBox=\"0 0 24 24\"\n",
              "       width=\"24px\">\n",
              "    <path d=\"M0 0h24v24H0V0z\" fill=\"none\"/>\n",
              "    <path d=\"M18.56 5.44l.94 2.06.94-2.06 2.06-.94-2.06-.94-.94-2.06-.94 2.06-2.06.94zm-11 1L8.5 8.5l.94-2.06 2.06-.94-2.06-.94L8.5 2.5l-.94 2.06-2.06.94zm10 10l.94 2.06.94-2.06 2.06-.94-2.06-.94-.94-2.06-.94 2.06-2.06.94z\"/><path d=\"M17.41 7.96l-1.37-1.37c-.4-.4-.92-.59-1.43-.59-.52 0-1.04.2-1.43.59L10.3 9.45l-7.72 7.72c-.78.78-.78 2.05 0 2.83L4 21.41c.39.39.9.59 1.41.59.51 0 1.02-.2 1.41-.59l7.78-7.78 2.81-2.81c.8-.78.8-2.07 0-2.86zM5.41 20L4 18.59l7.72-7.72 1.47 1.35L5.41 20z\"/>\n",
              "  </svg>\n",
              "      </button>\n",
              "      \n",
              "  <style>\n",
              "    .colab-df-container {\n",
              "      display:flex;\n",
              "      flex-wrap:wrap;\n",
              "      gap: 12px;\n",
              "    }\n",
              "\n",
              "    .colab-df-convert {\n",
              "      background-color: #E8F0FE;\n",
              "      border: none;\n",
              "      border-radius: 50%;\n",
              "      cursor: pointer;\n",
              "      display: none;\n",
              "      fill: #1967D2;\n",
              "      height: 32px;\n",
              "      padding: 0 0 0 0;\n",
              "      width: 32px;\n",
              "    }\n",
              "\n",
              "    .colab-df-convert:hover {\n",
              "      background-color: #E2EBFA;\n",
              "      box-shadow: 0px 1px 2px rgba(60, 64, 67, 0.3), 0px 1px 3px 1px rgba(60, 64, 67, 0.15);\n",
              "      fill: #174EA6;\n",
              "    }\n",
              "\n",
              "    [theme=dark] .colab-df-convert {\n",
              "      background-color: #3B4455;\n",
              "      fill: #D2E3FC;\n",
              "    }\n",
              "\n",
              "    [theme=dark] .colab-df-convert:hover {\n",
              "      background-color: #434B5C;\n",
              "      box-shadow: 0px 1px 3px 1px rgba(0, 0, 0, 0.15);\n",
              "      filter: drop-shadow(0px 1px 2px rgba(0, 0, 0, 0.3));\n",
              "      fill: #FFFFFF;\n",
              "    }\n",
              "  </style>\n",
              "\n",
              "      <script>\n",
              "        const buttonEl =\n",
              "          document.querySelector('#df-4aaf6dc3-1a06-4015-83ae-f581fa0576d8 button.colab-df-convert');\n",
              "        buttonEl.style.display =\n",
              "          google.colab.kernel.accessAllowed ? 'block' : 'none';\n",
              "\n",
              "        async function convertToInteractive(key) {\n",
              "          const element = document.querySelector('#df-4aaf6dc3-1a06-4015-83ae-f581fa0576d8');\n",
              "          const dataTable =\n",
              "            await google.colab.kernel.invokeFunction('convertToInteractive',\n",
              "                                                     [key], {});\n",
              "          if (!dataTable) return;\n",
              "\n",
              "          const docLinkHtml = 'Like what you see? Visit the ' +\n",
              "            '<a target=\"_blank\" href=https://colab.research.google.com/notebooks/data_table.ipynb>data table notebook</a>'\n",
              "            + ' to learn more about interactive tables.';\n",
              "          element.innerHTML = '';\n",
              "          dataTable['output_type'] = 'display_data';\n",
              "          await google.colab.output.renderOutput(dataTable, element);\n",
              "          const docLink = document.createElement('div');\n",
              "          docLink.innerHTML = docLinkHtml;\n",
              "          element.appendChild(docLink);\n",
              "        }\n",
              "      </script>\n",
              "    </div>\n",
              "  </div>\n",
              "  "
            ]
          },
          "metadata": {},
          "execution_count": 140
        }
      ]
    },
    {
      "cell_type": "code",
      "source": [
        "#La columna \"Item_Weighth\" esta asociado con la columna \"Item_Identifier\", despues de hacer una busqueda se pudo encontrar\n",
        "# que el item con  identificador FDP10 era el que presentaba valores faltantes pero algunas de sus filas estaban\n",
        "#completamente llenas es por eso que para rellenar \"Item_Weighth\" se va a usar el valor puesto en el resto de filas el cual es \n",
        "# 19.0\n",
        "\n",
        "df['Item_Weight'].fillna(19.0, inplace=True)\n",
        "\n"
      ],
      "metadata": {
        "id": "d9yhSNL2bl2d"
      },
      "execution_count": null,
      "outputs": []
    },
    {
      "cell_type": "code",
      "source": [
        "#Para la columna \"Outlet_Size\" pasa algo similar al punto anterior pero esta vez hay una asociación entre la columna\n",
        "# \"Outlet_Size\" y \"Outlet_Type\"== grosery store-->  según los datos puede inferirse que los datos faltantes \n",
        "# tienen valor a  'Small' ya que en esta solo hay estos dos valores (nan, 'Small')"
      ],
      "metadata": {
        "id": "bQtU5GXt-Sen"
      },
      "execution_count": null,
      "outputs": []
    },
    {
      "cell_type": "code",
      "source": [
        "grosery = df[\"Outlet_Type\"]=='Grocery Store'\n",
        "df1 = df.loc[grosery, :]"
      ],
      "metadata": {
        "id": "13wDtZyO8NMl"
      },
      "execution_count": null,
      "outputs": []
    },
    {
      "cell_type": "code",
      "source": [
        "#Valores que toma 'Outlet_Size' filtrada por 'Grocery Store\n",
        "df1['Outlet_Size'].unique()"
      ],
      "metadata": {
        "id": "ElHuYohn8Yz3",
        "colab": {
          "base_uri": "https://localhost:8080/"
        },
        "outputId": "ad7e67e5-4c3e-4068-df80-62cd4258c8c3"
      },
      "execution_count": null,
      "outputs": [
        {
          "output_type": "execute_result",
          "data": {
            "text/plain": [
              "array([nan, 'Small'], dtype=object)"
            ]
          },
          "metadata": {},
          "execution_count": 144
        }
      ]
    },
    {
      "cell_type": "code",
      "source": [
        "#Reemplazar los NA por \"Small\"\n",
        "df['Outlet_Size'].fillna('Small', inplace=True)\n"
      ],
      "metadata": {
        "id": "rZFEKoNf-yRt"
      },
      "execution_count": null,
      "outputs": []
    },
    {
      "cell_type": "code",
      "source": [
        "#6. Confirmar que no hay valores faltantes después de abordarlos\n",
        "df.isna().sum()"
      ],
      "metadata": {
        "id": "bPgibpNFeopP",
        "colab": {
          "base_uri": "https://localhost:8080/"
        },
        "outputId": "0683eef0-a74e-444e-dffb-c6a9709cb3f4"
      },
      "execution_count": null,
      "outputs": [
        {
          "output_type": "execute_result",
          "data": {
            "text/plain": [
              "Item_Identifier              0\n",
              "Item_Weight                  0\n",
              "Item_Fat_Content             0\n",
              "Item_Visibility              0\n",
              "Item_Type                    0\n",
              "Item_MRP                     0\n",
              "Outlet_Identifier            0\n",
              "Outlet_Establishment_Year    0\n",
              "Outlet_Size                  0\n",
              "Outlet_Location_Type         0\n",
              "Outlet_Type                  0\n",
              "Item_Outlet_Sales            0\n",
              "dtype: int64"
            ]
          },
          "metadata": {},
          "execution_count": 146
        }
      ]
    },
    {
      "cell_type": "code",
      "source": [
        "#7. Encuentren y arreglen alguna categoría inconsistente de datos \n",
        "#La columna llamada Item_Fat_Content tiene LF, Low Fat y low fat (estandarizar por Low Fat) y \n",
        "#lo mismo para el valor Regular y reg\n",
        "df['Item_Fat_Content'].unique()"
      ],
      "metadata": {
        "id": "aaXYMB9Ah5qz",
        "colab": {
          "base_uri": "https://localhost:8080/"
        },
        "outputId": "17e37367-4e17-4bb1-e1c2-5b6188a9bc15"
      },
      "execution_count": null,
      "outputs": [
        {
          "output_type": "execute_result",
          "data": {
            "text/plain": [
              "array(['Low Fat', 'Regular', 'low fat', 'LF', 'reg'], dtype=object)"
            ]
          },
          "metadata": {},
          "execution_count": 147
        }
      ]
    },
    {
      "cell_type": "code",
      "source": [
        "change={'low fat': 'Low Fat','Low Fat':'Low Fat', 'LF':'Low Fat',\"reg\":'Regular','Regular':'Regular' }"
      ],
      "metadata": {
        "id": "obai1wxEA6Ot"
      },
      "execution_count": null,
      "outputs": []
    },
    {
      "cell_type": "code",
      "source": [
        "df['Item_Fat_Content']= df['Item_Fat_Content'].map(change)"
      ],
      "metadata": {
        "id": "HW79CcfLBab4"
      },
      "execution_count": null,
      "outputs": []
    },
    {
      "cell_type": "code",
      "source": [
        "df['Item_Fat_Content'].unique()"
      ],
      "metadata": {
        "id": "kjb--dOmBkR5",
        "colab": {
          "base_uri": "https://localhost:8080/"
        },
        "outputId": "7438f370-4c33-4d6e-93e2-98f7c8d610c4"
      },
      "execution_count": null,
      "outputs": [
        {
          "output_type": "execute_result",
          "data": {
            "text/plain": [
              "array(['Low Fat', 'Regular'], dtype=object)"
            ]
          },
          "metadata": {},
          "execution_count": 150
        }
      ]
    },
    {
      "cell_type": "code",
      "source": [
        " #8. Para cualquier columna numérica, obtengan las estadísticas resumidas para cada uno (mínimo, máximo y media)"
      ],
      "metadata": {
        "id": "17b67X_eiGOI"
      },
      "execution_count": null,
      "outputs": []
    },
    {
      "cell_type": "code",
      "source": [
        "df.info()"
      ],
      "metadata": {
        "id": "s_pbxlzfinT0",
        "colab": {
          "base_uri": "https://localhost:8080/"
        },
        "outputId": "e6025b13-f2ee-4e97-e4a1-7809b1890c20"
      },
      "execution_count": null,
      "outputs": [
        {
          "output_type": "stream",
          "name": "stdout",
          "text": [
            "<class 'pandas.core.frame.DataFrame'>\n",
            "RangeIndex: 8523 entries, 0 to 8522\n",
            "Data columns (total 12 columns):\n",
            " #   Column                     Non-Null Count  Dtype  \n",
            "---  ------                     --------------  -----  \n",
            " 0   Item_Identifier            8523 non-null   object \n",
            " 1   Item_Weight                8523 non-null   float64\n",
            " 2   Item_Fat_Content           8523 non-null   object \n",
            " 3   Item_Visibility            8523 non-null   float64\n",
            " 4   Item_Type                  8523 non-null   object \n",
            " 5   Item_MRP                   8523 non-null   float64\n",
            " 6   Outlet_Identifier          8523 non-null   object \n",
            " 7   Outlet_Establishment_Year  8523 non-null   int64  \n",
            " 8   Outlet_Size                8523 non-null   object \n",
            " 9   Outlet_Location_Type       8523 non-null   object \n",
            " 10  Outlet_Type                8523 non-null   object \n",
            " 11  Item_Outlet_Sales          8523 non-null   float64\n",
            "dtypes: float64(4), int64(1), object(7)\n",
            "memory usage: 799.2+ KB\n"
          ]
        }
      ]
    },
    {
      "cell_type": "code",
      "source": [
        "df['Item_Weight'].describe()\n"
      ],
      "metadata": {
        "id": "KTQQMjigijZo",
        "colab": {
          "base_uri": "https://localhost:8080/"
        },
        "outputId": "7b23ca6d-f666-464c-d74e-61f69f350d20"
      },
      "execution_count": null,
      "outputs": [
        {
          "output_type": "execute_result",
          "data": {
            "text/plain": [
              "count    8523.000000\n",
              "mean       13.912000\n",
              "std         4.819264\n",
              "min         4.555000\n",
              "25%         9.310000\n",
              "50%        14.500000\n",
              "75%        19.000000\n",
              "max        21.350000\n",
              "Name: Item_Weight, dtype: float64"
            ]
          },
          "metadata": {},
          "execution_count": 153
        }
      ]
    },
    {
      "cell_type": "code",
      "source": [
        "df['Item_Visibility'].describe()\n"
      ],
      "metadata": {
        "id": "WAVQamVJjx7A",
        "colab": {
          "base_uri": "https://localhost:8080/"
        },
        "outputId": "bcf35182-67e7-4c9c-d4c8-82cff8aa946b"
      },
      "execution_count": null,
      "outputs": [
        {
          "output_type": "execute_result",
          "data": {
            "text/plain": [
              "count    8523.000000\n",
              "mean        0.066132\n",
              "std         0.051598\n",
              "min         0.000000\n",
              "25%         0.026989\n",
              "50%         0.053931\n",
              "75%         0.094585\n",
              "max         0.328391\n",
              "Name: Item_Visibility, dtype: float64"
            ]
          },
          "metadata": {},
          "execution_count": 154
        }
      ]
    },
    {
      "cell_type": "code",
      "source": [
        "df['Item_MRP'].describe()\n"
      ],
      "metadata": {
        "id": "NGYoGSDQj0P0",
        "colab": {
          "base_uri": "https://localhost:8080/"
        },
        "outputId": "bc2470bd-053e-4e1f-99d2-5fccf08b1bf4"
      },
      "execution_count": null,
      "outputs": [
        {
          "output_type": "execute_result",
          "data": {
            "text/plain": [
              "count    8523.000000\n",
              "mean      140.992782\n",
              "std        62.275067\n",
              "min        31.290000\n",
              "25%        93.826500\n",
              "50%       143.012800\n",
              "75%       185.643700\n",
              "max       266.888400\n",
              "Name: Item_MRP, dtype: float64"
            ]
          },
          "metadata": {},
          "execution_count": 155
        }
      ]
    },
    {
      "cell_type": "code",
      "source": [
        "df['Item_Outlet_Sales'].describe()\n"
      ],
      "metadata": {
        "id": "Mfht6aPej1uY",
        "colab": {
          "base_uri": "https://localhost:8080/"
        },
        "outputId": "730c1bd1-90a6-452b-d753-1f874bf0f112"
      },
      "execution_count": null,
      "outputs": [
        {
          "output_type": "execute_result",
          "data": {
            "text/plain": [
              "count     8523.000000\n",
              "mean      2181.288914\n",
              "std       1706.499616\n",
              "min         33.290000\n",
              "25%        834.247400\n",
              "50%       1794.331000\n",
              "75%       3101.296400\n",
              "max      13086.964800\n",
              "Name: Item_Outlet_Sales, dtype: float64"
            ]
          },
          "metadata": {},
          "execution_count": 156
        }
      ]
    },
    {
      "cell_type": "markdown",
      "source": [
        "# Análisis exploratorio de los datos "
      ],
      "metadata": {
        "id": "JFqeA5JWm-CL"
      }
    },
    {
      "cell_type": "markdown",
      "source": [
        "Hacer un analisis de nuestro set de datos mediante visualizaciones. "
      ],
      "metadata": {
        "id": "vAA7tNI0naxx"
      }
    },
    {
      "cell_type": "code",
      "source": [
        "df['Item_Outlet_Sales'].describe()"
      ],
      "metadata": {
        "colab": {
          "base_uri": "https://localhost:8080/"
        },
        "id": "CStofutTtDx_",
        "outputId": "e1b9436f-8f10-47b5-9719-f3ba0e4a2db1"
      },
      "execution_count": null,
      "outputs": [
        {
          "output_type": "execute_result",
          "data": {
            "text/plain": [
              "count     8523.000000\n",
              "mean      2181.288914\n",
              "std       1706.499616\n",
              "min         33.290000\n",
              "25%        834.247400\n",
              "50%       1794.331000\n",
              "75%       3101.296400\n",
              "max      13086.964800\n",
              "Name: Item_Outlet_Sales, dtype: float64"
            ]
          },
          "metadata": {},
          "execution_count": 215
        }
      ]
    },
    {
      "cell_type": "code",
      "source": [
        "df.head()"
      ],
      "metadata": {
        "id": "i997gtRDnhMH",
        "colab": {
          "base_uri": "https://localhost:8080/",
          "height": 357
        },
        "outputId": "29426331-0bdf-41c0-fc5e-8f44d3232f43"
      },
      "execution_count": null,
      "outputs": [
        {
          "output_type": "execute_result",
          "data": {
            "text/plain": [
              "  Item_Identifier  Item_Weight Item_Fat_Content  Item_Visibility  \\\n",
              "0           FDA15         9.30          Low Fat         0.016047   \n",
              "1           DRC01         5.92          Regular         0.019278   \n",
              "2           FDN15        17.50          Low Fat         0.016760   \n",
              "3           FDX07        19.20          Regular         0.000000   \n",
              "4           NCD19         8.93          Low Fat         0.000000   \n",
              "\n",
              "               Item_Type  Item_MRP Outlet_Identifier  \\\n",
              "0                  Dairy  249.8092            OUT049   \n",
              "1            Soft Drinks   48.2692            OUT018   \n",
              "2                   Meat  141.6180            OUT049   \n",
              "3  Fruits and Vegetables  182.0950            OUT010   \n",
              "4              Household   53.8614            OUT013   \n",
              "\n",
              "   Outlet_Establishment_Year Outlet_Size Outlet_Location_Type  \\\n",
              "0                       1999      Medium               Tier 1   \n",
              "1                       2009      Medium               Tier 3   \n",
              "2                       1999      Medium               Tier 1   \n",
              "3                       1998       Small               Tier 3   \n",
              "4                       1987        High               Tier 3   \n",
              "\n",
              "         Outlet_Type  Item_Outlet_Sales  \n",
              "0  Supermarket Type1          3735.1380  \n",
              "1  Supermarket Type2           443.4228  \n",
              "2  Supermarket Type1          2097.2700  \n",
              "3      Grocery Store           732.3800  \n",
              "4  Supermarket Type1           994.7052  "
            ],
            "text/html": [
              "\n",
              "  <div id=\"df-fff749ba-ce28-4e8e-bcc8-75c51c775aca\">\n",
              "    <div class=\"colab-df-container\">\n",
              "      <div>\n",
              "<style scoped>\n",
              "    .dataframe tbody tr th:only-of-type {\n",
              "        vertical-align: middle;\n",
              "    }\n",
              "\n",
              "    .dataframe tbody tr th {\n",
              "        vertical-align: top;\n",
              "    }\n",
              "\n",
              "    .dataframe thead th {\n",
              "        text-align: right;\n",
              "    }\n",
              "</style>\n",
              "<table border=\"1\" class=\"dataframe\">\n",
              "  <thead>\n",
              "    <tr style=\"text-align: right;\">\n",
              "      <th></th>\n",
              "      <th>Item_Identifier</th>\n",
              "      <th>Item_Weight</th>\n",
              "      <th>Item_Fat_Content</th>\n",
              "      <th>Item_Visibility</th>\n",
              "      <th>Item_Type</th>\n",
              "      <th>Item_MRP</th>\n",
              "      <th>Outlet_Identifier</th>\n",
              "      <th>Outlet_Establishment_Year</th>\n",
              "      <th>Outlet_Size</th>\n",
              "      <th>Outlet_Location_Type</th>\n",
              "      <th>Outlet_Type</th>\n",
              "      <th>Item_Outlet_Sales</th>\n",
              "    </tr>\n",
              "  </thead>\n",
              "  <tbody>\n",
              "    <tr>\n",
              "      <th>0</th>\n",
              "      <td>FDA15</td>\n",
              "      <td>9.30</td>\n",
              "      <td>Low Fat</td>\n",
              "      <td>0.016047</td>\n",
              "      <td>Dairy</td>\n",
              "      <td>249.8092</td>\n",
              "      <td>OUT049</td>\n",
              "      <td>1999</td>\n",
              "      <td>Medium</td>\n",
              "      <td>Tier 1</td>\n",
              "      <td>Supermarket Type1</td>\n",
              "      <td>3735.1380</td>\n",
              "    </tr>\n",
              "    <tr>\n",
              "      <th>1</th>\n",
              "      <td>DRC01</td>\n",
              "      <td>5.92</td>\n",
              "      <td>Regular</td>\n",
              "      <td>0.019278</td>\n",
              "      <td>Soft Drinks</td>\n",
              "      <td>48.2692</td>\n",
              "      <td>OUT018</td>\n",
              "      <td>2009</td>\n",
              "      <td>Medium</td>\n",
              "      <td>Tier 3</td>\n",
              "      <td>Supermarket Type2</td>\n",
              "      <td>443.4228</td>\n",
              "    </tr>\n",
              "    <tr>\n",
              "      <th>2</th>\n",
              "      <td>FDN15</td>\n",
              "      <td>17.50</td>\n",
              "      <td>Low Fat</td>\n",
              "      <td>0.016760</td>\n",
              "      <td>Meat</td>\n",
              "      <td>141.6180</td>\n",
              "      <td>OUT049</td>\n",
              "      <td>1999</td>\n",
              "      <td>Medium</td>\n",
              "      <td>Tier 1</td>\n",
              "      <td>Supermarket Type1</td>\n",
              "      <td>2097.2700</td>\n",
              "    </tr>\n",
              "    <tr>\n",
              "      <th>3</th>\n",
              "      <td>FDX07</td>\n",
              "      <td>19.20</td>\n",
              "      <td>Regular</td>\n",
              "      <td>0.000000</td>\n",
              "      <td>Fruits and Vegetables</td>\n",
              "      <td>182.0950</td>\n",
              "      <td>OUT010</td>\n",
              "      <td>1998</td>\n",
              "      <td>Small</td>\n",
              "      <td>Tier 3</td>\n",
              "      <td>Grocery Store</td>\n",
              "      <td>732.3800</td>\n",
              "    </tr>\n",
              "    <tr>\n",
              "      <th>4</th>\n",
              "      <td>NCD19</td>\n",
              "      <td>8.93</td>\n",
              "      <td>Low Fat</td>\n",
              "      <td>0.000000</td>\n",
              "      <td>Household</td>\n",
              "      <td>53.8614</td>\n",
              "      <td>OUT013</td>\n",
              "      <td>1987</td>\n",
              "      <td>High</td>\n",
              "      <td>Tier 3</td>\n",
              "      <td>Supermarket Type1</td>\n",
              "      <td>994.7052</td>\n",
              "    </tr>\n",
              "  </tbody>\n",
              "</table>\n",
              "</div>\n",
              "      <button class=\"colab-df-convert\" onclick=\"convertToInteractive('df-fff749ba-ce28-4e8e-bcc8-75c51c775aca')\"\n",
              "              title=\"Convert this dataframe to an interactive table.\"\n",
              "              style=\"display:none;\">\n",
              "        \n",
              "  <svg xmlns=\"http://www.w3.org/2000/svg\" height=\"24px\"viewBox=\"0 0 24 24\"\n",
              "       width=\"24px\">\n",
              "    <path d=\"M0 0h24v24H0V0z\" fill=\"none\"/>\n",
              "    <path d=\"M18.56 5.44l.94 2.06.94-2.06 2.06-.94-2.06-.94-.94-2.06-.94 2.06-2.06.94zm-11 1L8.5 8.5l.94-2.06 2.06-.94-2.06-.94L8.5 2.5l-.94 2.06-2.06.94zm10 10l.94 2.06.94-2.06 2.06-.94-2.06-.94-.94-2.06-.94 2.06-2.06.94z\"/><path d=\"M17.41 7.96l-1.37-1.37c-.4-.4-.92-.59-1.43-.59-.52 0-1.04.2-1.43.59L10.3 9.45l-7.72 7.72c-.78.78-.78 2.05 0 2.83L4 21.41c.39.39.9.59 1.41.59.51 0 1.02-.2 1.41-.59l7.78-7.78 2.81-2.81c.8-.78.8-2.07 0-2.86zM5.41 20L4 18.59l7.72-7.72 1.47 1.35L5.41 20z\"/>\n",
              "  </svg>\n",
              "      </button>\n",
              "      \n",
              "  <style>\n",
              "    .colab-df-container {\n",
              "      display:flex;\n",
              "      flex-wrap:wrap;\n",
              "      gap: 12px;\n",
              "    }\n",
              "\n",
              "    .colab-df-convert {\n",
              "      background-color: #E8F0FE;\n",
              "      border: none;\n",
              "      border-radius: 50%;\n",
              "      cursor: pointer;\n",
              "      display: none;\n",
              "      fill: #1967D2;\n",
              "      height: 32px;\n",
              "      padding: 0 0 0 0;\n",
              "      width: 32px;\n",
              "    }\n",
              "\n",
              "    .colab-df-convert:hover {\n",
              "      background-color: #E2EBFA;\n",
              "      box-shadow: 0px 1px 2px rgba(60, 64, 67, 0.3), 0px 1px 3px 1px rgba(60, 64, 67, 0.15);\n",
              "      fill: #174EA6;\n",
              "    }\n",
              "\n",
              "    [theme=dark] .colab-df-convert {\n",
              "      background-color: #3B4455;\n",
              "      fill: #D2E3FC;\n",
              "    }\n",
              "\n",
              "    [theme=dark] .colab-df-convert:hover {\n",
              "      background-color: #434B5C;\n",
              "      box-shadow: 0px 1px 3px 1px rgba(0, 0, 0, 0.15);\n",
              "      filter: drop-shadow(0px 1px 2px rgba(0, 0, 0, 0.3));\n",
              "      fill: #FFFFFF;\n",
              "    }\n",
              "  </style>\n",
              "\n",
              "      <script>\n",
              "        const buttonEl =\n",
              "          document.querySelector('#df-fff749ba-ce28-4e8e-bcc8-75c51c775aca button.colab-df-convert');\n",
              "        buttonEl.style.display =\n",
              "          google.colab.kernel.accessAllowed ? 'block' : 'none';\n",
              "\n",
              "        async function convertToInteractive(key) {\n",
              "          const element = document.querySelector('#df-fff749ba-ce28-4e8e-bcc8-75c51c775aca');\n",
              "          const dataTable =\n",
              "            await google.colab.kernel.invokeFunction('convertToInteractive',\n",
              "                                                     [key], {});\n",
              "          if (!dataTable) return;\n",
              "\n",
              "          const docLinkHtml = 'Like what you see? Visit the ' +\n",
              "            '<a target=\"_blank\" href=https://colab.research.google.com/notebooks/data_table.ipynb>data table notebook</a>'\n",
              "            + ' to learn more about interactive tables.';\n",
              "          element.innerHTML = '';\n",
              "          dataTable['output_type'] = 'display_data';\n",
              "          await google.colab.output.renderOutput(dataTable, element);\n",
              "          const docLink = document.createElement('div');\n",
              "          docLink.innerHTML = docLinkHtml;\n",
              "          element.appendChild(docLink);\n",
              "        }\n",
              "      </script>\n",
              "    </div>\n",
              "  </div>\n",
              "  "
            ]
          },
          "metadata": {},
          "execution_count": 157
        }
      ]
    },
    {
      "cell_type": "code",
      "source": [
        "import plotly.express as px\n",
        "\n"
      ],
      "metadata": {
        "id": "cqmLBInOmMiU"
      },
      "execution_count": null,
      "outputs": []
    },
    {
      "cell_type": "code",
      "source": [
        "#Vamos a evaluar la variable que queremos predecir, en este caso Item_Outlet_Sales\n",
        "\n",
        "sns.set_theme(style=\"ticks\", palette=\"pastel\")\n",
        "\n",
        "f, ax = plt.subplots(figsize=(18, 8))\n",
        "sns.despine(f)\n",
        "\n",
        "sns.histplot(\n",
        "    df,\n",
        "    x=\"Item_Outlet_Sales\", \n",
        "    linewidth=.5,\n",
        ")\n"
      ],
      "metadata": {
        "id": "YM--UYAfDHsv",
        "colab": {
          "base_uri": "https://localhost:8080/",
          "height": 410
        },
        "outputId": "55529e2b-8c4f-4934-a8d1-237474ccd12e"
      },
      "execution_count": null,
      "outputs": [
        {
          "output_type": "execute_result",
          "data": {
            "text/plain": [
              "<matplotlib.axes._subplots.AxesSubplot at 0x7f386b9db290>"
            ]
          },
          "metadata": {},
          "execution_count": 159
        },
        {
          "output_type": "display_data",
          "data": {
            "text/plain": [
              "<Figure size 1296x576 with 1 Axes>"
            ],
            "image/png": "[encoded data removed]"
          },
          "metadata": {}
        }
      ]
    },
    {
      "cell_type": "code",
      "source": [
        "# Vamos a evaluar oblicuidad y kurtosis\n",
        "# Oblicuidad/Skewness >0 nos indica que esta esta sesgada a la izquierda, como lo podemos ver en la gráfica \n",
        "# Kurtosis: tiene un valor de 1.6 nos indica que es una grafica platicurtica (achatada)\n",
        "print('Skewness: %f'% df.Item_Outlet_Sales.skew())\n",
        "print('Kurtosis: %f'% df.Item_Outlet_Sales.kurt())"
      ],
      "metadata": {
        "id": "vmMzoq1Vs8rY",
        "colab": {
          "base_uri": "https://localhost:8080/"
        },
        "outputId": "c027523e-643c-4e0c-b5c7-566d34fee494"
      },
      "execution_count": null,
      "outputs": [
        {
          "output_type": "stream",
          "name": "stdout",
          "text": [
            "Skewness: 1.177531\n",
            "Kurtosis: 1.615877\n"
          ]
        }
      ]
    },
    {
      "cell_type": "code",
      "source": [
        "# Promedio de ventas dado el tipo de locación \n",
        "# Este gráfico muestra como el tipo de locacion Tier dos vende en promedio más \n",
        "# que los otros dos, siendo Tier 1 el que vende menos.\n",
        "# \n",
        "sns.set_theme(style=\"ticks\", palette=\"pastel\")\n",
        "\n",
        "sns.barplot(data=df, x='Outlet_Location_Type', y=\"Item_Outlet_Sales\", palette=[\"m\", \"g\",'b'], ci=95,\n",
        "        )\n",
        "plt.show()\n"
      ],
      "metadata": {
        "id": "nVEiNEOsFNp_",
        "colab": {
          "base_uri": "https://localhost:8080/",
          "height": 289
        },
        "outputId": "4cf6c193-e83a-4cca-a685-91bf007a11aa"
      },
      "execution_count": null,
      "outputs": [
        {
          "output_type": "display_data",
          "data": {
            "text/plain": [
              "<Figure size 432x288 with 1 Axes>"
            ],
            "image/png": "[encoded data removed]"
          },
          "metadata": {}
        }
      ]
    },
    {
      "cell_type": "code",
      "source": [
        "# Promedio de ventas dado el tamaño de la tienda \n",
        "# En este podemos ver que el número de ventas promedio en la tienda de tamaño medio\n",
        "# es mayor con respecto a los otros dos siendo Small el tamaño de tienda \n",
        "# el cual tiene el promedio de ventas más bajo\n",
        "sns.set_theme(style=\"ticks\", palette=\"pastel\")\n",
        "\n",
        "sns.barplot(data=df, x='Outlet_Size', y=\"Item_Outlet_Sales\",palette=[\"m\", \"g\",'b'] )\n"
      ],
      "metadata": {
        "id": "Tonarwu0Jb1v",
        "colab": {
          "base_uri": "https://localhost:8080/",
          "height": 303
        },
        "outputId": "7ae079e3-39ef-41e2-cc40-16852d95c70f"
      },
      "execution_count": null,
      "outputs": [
        {
          "output_type": "execute_result",
          "data": {
            "text/plain": [
              "<matplotlib.axes._subplots.AxesSubplot at 0x7f386dc0d6d0>"
            ]
          },
          "metadata": {},
          "execution_count": 162
        },
        {
          "output_type": "display_data",
          "data": {
            "text/plain": [
              "<Figure size 432x288 with 1 Axes>"
            ],
            "image/png": "[encoded data removed]"
          },
          "metadata": {}
        }
      ]
    },
    {
      "cell_type": "code",
      "source": [
        "## La variable Item_MRP parece tener relacion con la variable a predecir, lo que sugiere que puede ser de gran importancia \n",
        "# en la clasificación. Sin embargo la relacion no es del todo lineal y esto se debe a que hay presencia de outliers  \n",
        "sns.set_theme(style=\"ticks\", palette=\"pastel\")\n",
        "\n",
        "sns.scatterplot(data=df, x=\"Item_MRP\", y=\"Item_Outlet_Sales\")"
      ],
      "metadata": {
        "id": "V9fLshoMLgPI",
        "colab": {
          "base_uri": "https://localhost:8080/",
          "height": 303
        },
        "outputId": "724c74d9-b784-4bcf-b46e-d6df359ba2f0"
      },
      "execution_count": null,
      "outputs": [
        {
          "output_type": "execute_result",
          "data": {
            "text/plain": [
              "<matplotlib.axes._subplots.AxesSubplot at 0x7f386dc2aa50>"
            ]
          },
          "metadata": {},
          "execution_count": 163
        },
        {
          "output_type": "display_data",
          "data": {
            "text/plain": [
              "<Figure size 432x288 with 1 Axes>"
            ],
            "image/png": "[encoded data removed]"
          },
          "metadata": {}
        }
      ]
    },
    {
      "cell_type": "code",
      "source": [
        "## Este gráfico de box plot nos permite observar el a mayor tipo de area  las ventas de los productos\n",
        "# toman valores mayores, ademas la distribucion de los valores en el tier 3 es mayor que en los otros tier \n",
        "# otra de las cosas que se puede observar es que para las tres categorias de tier hay outliers.\n",
        "\n",
        "sns.set_theme(style=\"ticks\", palette=\"pastel\")\n",
        "\n",
        "sns.boxplot(x=\"Outlet_Location_Type\", y=\"Item_Outlet_Sales\",\n",
        "           palette=[\"m\", \"g\",'b'],\n",
        "            data=df)\n",
        "sns.despine(offset=1, trim= False)\n"
      ],
      "metadata": {
        "id": "8bS7uAVTOrc0",
        "colab": {
          "base_uri": "https://localhost:8080/",
          "height": 286
        },
        "outputId": "f85d013a-3984-43e7-fcbc-9dc8b1af709a"
      },
      "execution_count": null,
      "outputs": [
        {
          "output_type": "display_data",
          "data": {
            "text/plain": [
              "<Figure size 432x288 with 1 Axes>"
            ],
            "image/png": "[encoded data removed]"
          },
          "metadata": {}
        }
      ]
    },
    {
      "cell_type": "code",
      "source": [
        "temp = df.reset_index().groupby(['Item_Type', 'Outlet_Size'])['Item_Outlet_Sales'].mean()\n"
      ],
      "metadata": {
        "id": "6O0378OwtynH"
      },
      "execution_count": null,
      "outputs": []
    },
    {
      "cell_type": "code",
      "source": [
        "temp = temp.reset_index()"
      ],
      "metadata": {
        "id": "8wGP_7lx8PVt"
      },
      "execution_count": null,
      "outputs": []
    },
    {
      "cell_type": "code",
      "source": [
        "Filter=(temp[(temp.Item_Type=='Household') | (temp.Item_Type=='Dairy')])"
      ],
      "metadata": {
        "id": "LdrE0RPxtx7o"
      },
      "execution_count": null,
      "outputs": []
    },
    {
      "cell_type": "code",
      "source": [
        "# Barplot anidado:  Ventas de Dairy y House hold dado el tamaño de la tienda\n",
        "# Este gráfico muestra como las ventas de ambos productos son mayores en las tiendas con tamaño medio\n",
        "# y como en las tiendas de tamaño pequeño la venta de los productos disminuye. \n",
        "sns.set_theme(style=\"ticks\", palette=\"pastel\")\n",
        "\n",
        "g = sns.catplot(\n",
        "    data= Filter , kind=\"bar\",\n",
        "    x=\"Outlet_Size\", y=\"Item_Outlet_Sales\", hue=\"Item_Type\", palette=[\"m\", \"g\"]\n",
        ")\n",
        "g.despine(left=True)\n",
        "g.set_axis_labels(\"Outlet Size\", \"Item Outlet Sales\")\n",
        "g.legend.set_title(\"Item Type\")\n"
      ],
      "metadata": {
        "id": "TO4A--HW0jx4",
        "colab": {
          "base_uri": "https://localhost:8080/",
          "height": 365
        },
        "outputId": "f7901cdd-a95b-49da-8e14-720ecdfc8983"
      },
      "execution_count": null,
      "outputs": [
        {
          "output_type": "display_data",
          "data": {
            "text/plain": [
              "<Figure size 458.1x360 with 1 Axes>"
            ],
            "image/png": "[encoded data removed]"
          },
          "metadata": {}
        }
      ]
    },
    {
      "cell_type": "code",
      "source": [
        "#¿Que tan correlacionados estan los datos ?"
      ],
      "metadata": {
        "id": "c-yAqqfQqEGj"
      },
      "execution_count": null,
      "outputs": []
    },
    {
      "cell_type": "code",
      "source": [
        "# En esta matriz de correlación podemos ver que la unica variable numerica que tiene correlación con la variable a predecir\n",
        "# es Item MRP esta correlación es positiva y de casi 0.6\n",
        "\n",
        "corr = df.corr() \n",
        "k = 5 #number of variables for heatmap\n",
        "plt.subplots(figsize=(7,5))\n",
        "cols = corr.nlargest(k, 'Item_Outlet_Sales')['Item_Outlet_Sales'].index\n",
        "cm = np.corrcoef(df[cols].values.T)\n",
        "sns.set(font_scale=1.25)\n",
        "hm = sns.heatmap(cm, cbar=True, annot=True, square=True, fmt='.2f', annot_kws={'size': 10}, yticklabels=cols.values, xticklabels=cols.values)\n",
        "plt.show()"
      ],
      "metadata": {
        "id": "BtDE674uek24",
        "colab": {
          "base_uri": "https://localhost:8080/",
          "height": 465
        },
        "outputId": "4c503046-b78b-445c-ce24-f9a8a8085d31"
      },
      "execution_count": null,
      "outputs": [
        {
          "output_type": "display_data",
          "data": {
            "text/plain": [
              "<Figure size 504x360 with 2 Axes>"
            ],
            "image/png": "[encoded data removed]"
          },
          "metadata": {}
        }
      ]
    },
    {
      "cell_type": "code",
      "source": [
        "# Gráfico de distribución para cada variable numérica\n",
        "# ==============================================================================\n",
        "# Ajustar número de subplots en función del número de columnas\n",
        "fig, axes = plt.subplots(nrows=5, ncols=1, figsize=(9, 10))\n",
        "axes = axes.flat\n",
        "columnas_numeric = df.select_dtypes(include=['float64', 'int']).columns\n",
        "\n",
        "for i, colum in enumerate(columnas_numeric):\n",
        "    sns.histplot(\n",
        "        data    = df,\n",
        "        x       = colum,\n",
        "        stat    = \"count\",\n",
        "        kde     = True,\n",
        "        color   = (list(plt.rcParams['axes.prop_cycle'])*2)[i][\"color\"],\n",
        "        line_kws= {'linewidth': 2},\n",
        "        alpha   = 0.3,\n",
        "        ax      = axes[i]\n",
        "    )\n",
        "    axes[i].set_title(colum, fontsize = 10, fontweight = \"bold\")\n",
        "    axes[i].tick_params(labelsize = 8)\n",
        "    axes[i].set_xlabel(\"\")\n",
        "\n",
        "\n",
        "    \n",
        "fig.tight_layout()\n",
        "plt.subplots_adjust(top = 0.9)\n",
        "fig.suptitle('Distribución variables numéricas', fontsize = 10, fontweight = \"bold\");"
      ],
      "metadata": {
        "id": "5QVFO7Icrs1B",
        "colab": {
          "base_uri": "https://localhost:8080/",
          "height": 720
        },
        "outputId": "4a63f497-92e9-4238-a67b-12aa79a50597"
      },
      "execution_count": null,
      "outputs": [
        {
          "output_type": "display_data",
          "data": {
            "text/plain": [
              "<Figure size 648x720 with 5 Axes>"
            ],
            "image/png": "[encoded data removed]"
          },
          "metadata": {}
        }
      ]
    },
    {
      "cell_type": "markdown",
      "source": [
        "# Preprosesamiento"
      ],
      "metadata": {
        "id": "zsgfd2c5g4SJ"
      }
    },
    {
      "cell_type": "code",
      "source": [
        "import numpy as np\n",
        "from sklearn.pipeline import make_pipeline\n",
        "from sklearn.preprocessing import StandardScaler, OneHotEncoder, MinMaxScaler,OrdinalEncoder\n",
        "\n",
        "from sklearn.model_selection import train_test_split\n",
        "from sklearn import set_config\n",
        "set_config(display='diagram')\n",
        "from sklearn.compose import make_column_selector, make_column_transformer"
      ],
      "metadata": {
        "id": "H1DBP32-LWCz"
      },
      "execution_count": null,
      "outputs": []
    },
    {
      "cell_type": "code",
      "source": [
        "#Eliminar Item Outlet sales de la variable X, y aquellos que no son caracteristicas \n",
        "X = df.drop(columns=['Item_Outlet_Sales','Item_Identifier','Outlet_Identifier'])\n",
        "#Definir y como mi varible objeto, la que quiero predecir\n",
        "y = df['Item_Outlet_Sales']"
      ],
      "metadata": {
        "id": "hTkizLp9i-ns"
      },
      "execution_count": null,
      "outputs": []
    },
    {
      "cell_type": "code",
      "source": [
        "y.describe()"
      ],
      "metadata": {
        "id": "MdPsaSXwqdk-",
        "colab": {
          "base_uri": "https://localhost:8080/"
        },
        "outputId": "386c3339-4830-4cba-9b10-cd9599efd40e"
      },
      "execution_count": null,
      "outputs": [
        {
          "output_type": "execute_result",
          "data": {
            "text/plain": [
              "count     8523.000000\n",
              "mean      2181.288914\n",
              "std       1706.499616\n",
              "min         33.290000\n",
              "25%        834.247400\n",
              "50%       1794.331000\n",
              "75%       3101.296400\n",
              "max      13086.964800\n",
              "Name: Item_Outlet_Sales, dtype: float64"
            ]
          },
          "metadata": {},
          "execution_count": 174
        }
      ]
    },
    {
      "cell_type": "code",
      "source": [
        "#Realicen un train test split\n",
        "X_train, X_test, y_train, y_test = train_test_split(X, y, test_size=0.1, random_state = 42)"
      ],
      "metadata": {
        "id": "QcCaPr9DjEax"
      },
      "execution_count": null,
      "outputs": []
    },
    {
      "cell_type": "code",
      "source": [
        "#Inicializar transformadores\n",
        "ordinal_encoder = OrdinalEncoder()\n",
        "scaler = StandardScaler()\n",
        "ohe = OneHotEncoder(handle_unknown=\"ignore\", sparse=False)"
      ],
      "metadata": {
        "id": "YYb61olQgeNn"
      },
      "execution_count": null,
      "outputs": []
    },
    {
      "cell_type": "code",
      "source": [
        "#Inicializar pipelines \n",
        "num_pipe = make_pipeline(scaler)\n",
        "ord_cat_pipe = make_pipeline(ordinal_encoder)\n",
        "nom_cat_pipe = make_pipeline(ohe)"
      ],
      "metadata": {
        "id": "LeggF8nlgZNY"
      },
      "execution_count": null,
      "outputs": []
    },
    {
      "cell_type": "code",
      "source": [
        "num_tuple = (num_pipe, ['Item_Visibility', 'Item_MRP'])\n",
        "ord_tuple = (ord_cat_pipe, [\"Item_Fat_Content\", \"Outlet_Size\"])\n",
        "nom_tuple = (nom_cat_pipe, [\"Item_Type\",\"Outlet_Location_Type\", \"Outlet_Type\"])"
      ],
      "metadata": {
        "id": "7iHti0nUhNMc"
      },
      "execution_count": null,
      "outputs": []
    },
    {
      "cell_type": "code",
      "source": [
        "#Inicializar las columnas transformer\n",
        "preprocessor = make_column_transformer(num_tuple, ord_tuple, nom_tuple)\n",
        "preprocessor"
      ],
      "metadata": {
        "id": "GoQz3PXPhV6g",
        "colab": {
          "base_uri": "https://localhost:8080/"
        },
        "outputId": "cf96f480-0be0-4746-e4f3-4825dc860cbb"
      },
      "execution_count": null,
      "outputs": [
        {
          "output_type": "execute_result",
          "data": {
            "text/plain": [
              "ColumnTransformer(transformers=[('pipeline-1',\n",
              "                                 Pipeline(steps=[('standardscaler',\n",
              "                                                  StandardScaler())]),\n",
              "                                 ['Item_Visibility', 'Item_MRP']),\n",
              "                                ('pipeline-2',\n",
              "                                 Pipeline(steps=[('ordinalencoder',\n",
              "                                                  OrdinalEncoder())]),\n",
              "                                 ['Item_Fat_Content', 'Outlet_Size']),\n",
              "                                ('pipeline-3',\n",
              "                                 Pipeline(steps=[('onehotencoder',\n",
              "                                                  OneHotEncoder(handle_unknown='ignore',\n",
              "                                                                sparse=False))]),\n",
              "                                 ['Item_Type', 'Outlet_Location_Type',\n",
              "                                  'Outlet_Type'])])"
            ],
            "text/html": [
              "<style>#sk-86593ab4-7851-4746-ad2d-acdcfc05c107 {color: black;background-color: white;}#sk-86593ab4-7851-4746-ad2d-acdcfc05c107 pre{padding: 0;}#sk-86593ab4-7851-4746-ad2d-acdcfc05c107 div.sk-toggleable {background-color: white;}#sk-86593ab4-7851-4746-ad2d-acdcfc05c107 label.sk-toggleable__label {cursor: pointer;display: block;width: 100%;margin-bottom: 0;padding: 0.3em;box-sizing: border-box;text-align: center;}#sk-86593ab4-7851-4746-ad2d-acdcfc05c107 label.sk-toggleable__label-arrow:before {content: \"▸\";float: left;margin-right: 0.25em;color: #696969;}#sk-86593ab4-7851-4746-ad2d-acdcfc05c107 label.sk-toggleable__label-arrow:hover:before {color: black;}#sk-86593ab4-7851-4746-ad2d-acdcfc05c107 div.sk-estimator:hover label.sk-toggleable__label-arrow:before {color: black;}#sk-86593ab4-7851-4746-ad2d-acdcfc05c107 div.sk-toggleable__content {max-height: 0;max-width: 0;overflow: hidden;text-align: left;background-color: #f0f8ff;}#sk-86593ab4-7851-4746-ad2d-acdcfc05c107 div.sk-toggleable__content pre {margin: 0.2em;color: black;border-radius: 0.25em;background-color: #f0f8ff;}#sk-86593ab4-7851-4746-ad2d-acdcfc05c107 input.sk-toggleable__control:checked~div.sk-toggleable__content {max-height: 200px;max-width: 100%;overflow: auto;}#sk-86593ab4-7851-4746-ad2d-acdcfc05c107 input.sk-toggleable__control:checked~label.sk-toggleable__label-arrow:before {content: \"▾\";}#sk-86593ab4-7851-4746-ad2d-acdcfc05c107 div.sk-estimator input.sk-toggleable__control:checked~label.sk-toggleable__label {background-color: #d4ebff;}#sk-86593ab4-7851-4746-ad2d-acdcfc05c107 div.sk-label input.sk-toggleable__control:checked~label.sk-toggleable__label {background-color: #d4ebff;}#sk-86593ab4-7851-4746-ad2d-acdcfc05c107 input.sk-hidden--visually {border: 0;clip: rect(1px 1px 1px 1px);clip: rect(1px, 1px, 1px, 1px);height: 1px;margin: -1px;overflow: hidden;padding: 0;position: absolute;width: 1px;}#sk-86593ab4-7851-4746-ad2d-acdcfc05c107 div.sk-estimator {font-family: monospace;background-color: #f0f8ff;border: 1px dotted black;border-radius: 0.25em;box-sizing: border-box;margin-bottom: 0.5em;}#sk-86593ab4-7851-4746-ad2d-acdcfc05c107 div.sk-estimator:hover {background-color: #d4ebff;}#sk-86593ab4-7851-4746-ad2d-acdcfc05c107 div.sk-parallel-item::after {content: \"\";width: 100%;border-bottom: 1px solid gray;flex-grow: 1;}#sk-86593ab4-7851-4746-ad2d-acdcfc05c107 div.sk-label:hover label.sk-toggleable__label {background-color: #d4ebff;}#sk-86593ab4-7851-4746-ad2d-acdcfc05c107 div.sk-serial::before {content: \"\";position: absolute;border-left: 1px solid gray;box-sizing: border-box;top: 2em;bottom: 0;left: 50%;}#sk-86593ab4-7851-4746-ad2d-acdcfc05c107 div.sk-serial {display: flex;flex-direction: column;align-items: center;background-color: white;padding-right: 0.2em;padding-left: 0.2em;}#sk-86593ab4-7851-4746-ad2d-acdcfc05c107 div.sk-item {z-index: 1;}#sk-86593ab4-7851-4746-ad2d-acdcfc05c107 div.sk-parallel {display: flex;align-items: stretch;justify-content: center;background-color: white;}#sk-86593ab4-7851-4746-ad2d-acdcfc05c107 div.sk-parallel::before {content: \"\";position: absolute;border-left: 1px solid gray;box-sizing: border-box;top: 2em;bottom: 0;left: 50%;}#sk-86593ab4-7851-4746-ad2d-acdcfc05c107 div.sk-parallel-item {display: flex;flex-direction: column;position: relative;background-color: white;}#sk-86593ab4-7851-4746-ad2d-acdcfc05c107 div.sk-parallel-item:first-child::after {align-self: flex-end;width: 50%;}#sk-86593ab4-7851-4746-ad2d-acdcfc05c107 div.sk-parallel-item:last-child::after {align-self: flex-start;width: 50%;}#sk-86593ab4-7851-4746-ad2d-acdcfc05c107 div.sk-parallel-item:only-child::after {width: 0;}#sk-86593ab4-7851-4746-ad2d-acdcfc05c107 div.sk-dashed-wrapped {border: 1px dashed gray;margin: 0 0.4em 0.5em 0.4em;box-sizing: border-box;padding-bottom: 0.4em;background-color: white;position: relative;}#sk-86593ab4-7851-4746-ad2d-acdcfc05c107 div.sk-label label {font-family: monospace;font-weight: bold;background-color: white;display: inline-block;line-height: 1.2em;}#sk-86593ab4-7851-4746-ad2d-acdcfc05c107 div.sk-label-container {position: relative;z-index: 2;text-align: center;}#sk-86593ab4-7851-4746-ad2d-acdcfc05c107 div.sk-container {/* jupyter's `normalize.less` sets `[hidden] { display: none; }` but bootstrap.min.css set `[hidden] { display: none !important; }` so we also need the `!important` here to be able to override the default hidden behavior on the sphinx rendered scikit-learn.org. See: https://github.com/scikit-learn/scikit-learn/issues/21755 */display: inline-block !important;position: relative;}#sk-86593ab4-7851-4746-ad2d-acdcfc05c107 div.sk-text-repr-fallback {display: none;}</style><div id=\"sk-86593ab4-7851-4746-ad2d-acdcfc05c107\" class=\"sk-top-container\"><div class=\"sk-text-repr-fallback\"><pre>ColumnTransformer(transformers=[(&#x27;pipeline-1&#x27;,\n",
              "                                 Pipeline(steps=[(&#x27;standardscaler&#x27;,\n",
              "                                                  StandardScaler())]),\n",
              "                                 [&#x27;Item_Visibility&#x27;, &#x27;Item_MRP&#x27;]),\n",
              "                                (&#x27;pipeline-2&#x27;,\n",
              "                                 Pipeline(steps=[(&#x27;ordinalencoder&#x27;,\n",
              "                                                  OrdinalEncoder())]),\n",
              "                                 [&#x27;Item_Fat_Content&#x27;, &#x27;Outlet_Size&#x27;]),\n",
              "                                (&#x27;pipeline-3&#x27;,\n",
              "                                 Pipeline(steps=[(&#x27;onehotencoder&#x27;,\n",
              "                                                  OneHotEncoder(handle_unknown=&#x27;ignore&#x27;,\n",
              "                                                                sparse=False))]),\n",
              "                                 [&#x27;Item_Type&#x27;, &#x27;Outlet_Location_Type&#x27;,\n",
              "                                  &#x27;Outlet_Type&#x27;])])</pre><b>Please rerun this cell to show the HTML repr or trust the notebook.</b></div><div class=\"sk-container\" hidden><div class=\"sk-item sk-dashed-wrapped\"><div class=\"sk-label-container\"><div class=\"sk-label sk-toggleable\"><input class=\"sk-toggleable__control sk-hidden--visually\" id=\"cbac1b37-d343-4e1a-ab0e-4a7afacc337f\" type=\"checkbox\" ><label for=\"cbac1b37-d343-4e1a-ab0e-4a7afacc337f\" class=\"sk-toggleable__label sk-toggleable__label-arrow\">ColumnTransformer</label><div class=\"sk-toggleable__content\"><pre>ColumnTransformer(transformers=[(&#x27;pipeline-1&#x27;,\n",
              "                                 Pipeline(steps=[(&#x27;standardscaler&#x27;,\n",
              "                                                  StandardScaler())]),\n",
              "                                 [&#x27;Item_Visibility&#x27;, &#x27;Item_MRP&#x27;]),\n",
              "                                (&#x27;pipeline-2&#x27;,\n",
              "                                 Pipeline(steps=[(&#x27;ordinalencoder&#x27;,\n",
              "                                                  OrdinalEncoder())]),\n",
              "                                 [&#x27;Item_Fat_Content&#x27;, &#x27;Outlet_Size&#x27;]),\n",
              "                                (&#x27;pipeline-3&#x27;,\n",
              "                                 Pipeline(steps=[(&#x27;onehotencoder&#x27;,\n",
              "                                                  OneHotEncoder(handle_unknown=&#x27;ignore&#x27;,\n",
              "                                                                sparse=False))]),\n",
              "                                 [&#x27;Item_Type&#x27;, &#x27;Outlet_Location_Type&#x27;,\n",
              "                                  &#x27;Outlet_Type&#x27;])])</pre></div></div></div><div class=\"sk-parallel\"><div class=\"sk-parallel-item\"><div class=\"sk-item\"><div class=\"sk-label-container\"><div class=\"sk-label sk-toggleable\"><input class=\"sk-toggleable__control sk-hidden--visually\" id=\"d421bff6-ed0a-4834-b805-8a4303d6aaa5\" type=\"checkbox\" ><label for=\"d421bff6-ed0a-4834-b805-8a4303d6aaa5\" class=\"sk-toggleable__label sk-toggleable__label-arrow\">pipeline-1</label><div class=\"sk-toggleable__content\"><pre>[&#x27;Item_Visibility&#x27;, &#x27;Item_MRP&#x27;]</pre></div></div></div><div class=\"sk-serial\"><div class=\"sk-item\"><div class=\"sk-serial\"><div class=\"sk-item\"><div class=\"sk-estimator sk-toggleable\"><input class=\"sk-toggleable__control sk-hidden--visually\" id=\"2f218351-4fed-411e-b38d-d16444e6c2a5\" type=\"checkbox\" ><label for=\"2f218351-4fed-411e-b38d-d16444e6c2a5\" class=\"sk-toggleable__label sk-toggleable__label-arrow\">StandardScaler</label><div class=\"sk-toggleable__content\"><pre>StandardScaler()</pre></div></div></div></div></div></div></div></div><div class=\"sk-parallel-item\"><div class=\"sk-item\"><div class=\"sk-label-container\"><div class=\"sk-label sk-toggleable\"><input class=\"sk-toggleable__control sk-hidden--visually\" id=\"08ef8698-e6ca-44a6-ac26-a3258e251f71\" type=\"checkbox\" ><label for=\"08ef8698-e6ca-44a6-ac26-a3258e251f71\" class=\"sk-toggleable__label sk-toggleable__label-arrow\">pipeline-2</label><div class=\"sk-toggleable__content\"><pre>[&#x27;Item_Fat_Content&#x27;, &#x27;Outlet_Size&#x27;]</pre></div></div></div><div class=\"sk-serial\"><div class=\"sk-item\"><div class=\"sk-serial\"><div class=\"sk-item\"><div class=\"sk-estimator sk-toggleable\"><input class=\"sk-toggleable__control sk-hidden--visually\" id=\"685ef34a-6a70-4e4a-b9c2-5ea70c868b65\" type=\"checkbox\" ><label for=\"685ef34a-6a70-4e4a-b9c2-5ea70c868b65\" class=\"sk-toggleable__label sk-toggleable__label-arrow\">OrdinalEncoder</label><div class=\"sk-toggleable__content\"><pre>OrdinalEncoder()</pre></div></div></div></div></div></div></div></div><div class=\"sk-parallel-item\"><div class=\"sk-item\"><div class=\"sk-label-container\"><div class=\"sk-label sk-toggleable\"><input class=\"sk-toggleable__control sk-hidden--visually\" id=\"b2cd9d05-202a-47f6-a668-9c3afe932382\" type=\"checkbox\" ><label for=\"b2cd9d05-202a-47f6-a668-9c3afe932382\" class=\"sk-toggleable__label sk-toggleable__label-arrow\">pipeline-3</label><div class=\"sk-toggleable__content\"><pre>[&#x27;Item_Type&#x27;, &#x27;Outlet_Location_Type&#x27;, &#x27;Outlet_Type&#x27;]</pre></div></div></div><div class=\"sk-serial\"><div class=\"sk-item\"><div class=\"sk-serial\"><div class=\"sk-item\"><div class=\"sk-estimator sk-toggleable\"><input class=\"sk-toggleable__control sk-hidden--visually\" id=\"a315ca1c-4a3d-4956-b894-f2adba18ae5e\" type=\"checkbox\" ><label for=\"a315ca1c-4a3d-4956-b894-f2adba18ae5e\" class=\"sk-toggleable__label sk-toggleable__label-arrow\">OneHotEncoder</label><div class=\"sk-toggleable__content\"><pre>OneHotEncoder(handle_unknown=&#x27;ignore&#x27;, sparse=False)</pre></div></div></div></div></div></div></div></div></div></div></div></div>"
            ]
          },
          "metadata": {},
          "execution_count": 179
        }
      ]
    },
    {
      "cell_type": "code",
      "source": [
        "#Eliminar Item Outlet sales de la variable X, y aquellos que no son caracteristicas \n",
        "#X = df.drop(columns=['Item_Outlet_Sales','Item_Identifier','Outlet_Identifier'])\n",
        "#Definir y como mi varible objeto, la que quiero predecir\n",
        "#y = df['Item_Outlet_Sales']\n"
      ],
      "metadata": {
        "id": "QCc3-wN2hqRk"
      },
      "execution_count": null,
      "outputs": []
    },
    {
      "cell_type": "code",
      "source": [
        "preprocessor.fit(X_train)"
      ],
      "metadata": {
        "id": "jAtoLPf3ihSz",
        "colab": {
          "base_uri": "https://localhost:8080/"
        },
        "outputId": "6f03fc0e-4861-4fd7-9739-bf4bcfb6d79c"
      },
      "execution_count": null,
      "outputs": [
        {
          "output_type": "execute_result",
          "data": {
            "text/plain": [
              "ColumnTransformer(transformers=[('pipeline-1',\n",
              "                                 Pipeline(steps=[('standardscaler',\n",
              "                                                  StandardScaler())]),\n",
              "                                 ['Item_Visibility', 'Item_MRP']),\n",
              "                                ('pipeline-2',\n",
              "                                 Pipeline(steps=[('ordinalencoder',\n",
              "                                                  OrdinalEncoder())]),\n",
              "                                 ['Item_Fat_Content', 'Outlet_Size']),\n",
              "                                ('pipeline-3',\n",
              "                                 Pipeline(steps=[('onehotencoder',\n",
              "                                                  OneHotEncoder(handle_unknown='ignore',\n",
              "                                                                sparse=False))]),\n",
              "                                 ['Item_Type', 'Outlet_Location_Type',\n",
              "                                  'Outlet_Type'])])"
            ],
            "text/html": [
              "<style>#sk-088438ef-abcf-420a-8aa6-2e9229eac55d {color: black;background-color: white;}#sk-088438ef-abcf-420a-8aa6-2e9229eac55d pre{padding: 0;}#sk-088438ef-abcf-420a-8aa6-2e9229eac55d div.sk-toggleable {background-color: white;}#sk-088438ef-abcf-420a-8aa6-2e9229eac55d label.sk-toggleable__label {cursor: pointer;display: block;width: 100%;margin-bottom: 0;padding: 0.3em;box-sizing: border-box;text-align: center;}#sk-088438ef-abcf-420a-8aa6-2e9229eac55d label.sk-toggleable__label-arrow:before {content: \"▸\";float: left;margin-right: 0.25em;color: #696969;}#sk-088438ef-abcf-420a-8aa6-2e9229eac55d label.sk-toggleable__label-arrow:hover:before {color: black;}#sk-088438ef-abcf-420a-8aa6-2e9229eac55d div.sk-estimator:hover label.sk-toggleable__label-arrow:before {color: black;}#sk-088438ef-abcf-420a-8aa6-2e9229eac55d div.sk-toggleable__content {max-height: 0;max-width: 0;overflow: hidden;text-align: left;background-color: #f0f8ff;}#sk-088438ef-abcf-420a-8aa6-2e9229eac55d div.sk-toggleable__content pre {margin: 0.2em;color: black;border-radius: 0.25em;background-color: #f0f8ff;}#sk-088438ef-abcf-420a-8aa6-2e9229eac55d input.sk-toggleable__control:checked~div.sk-toggleable__content {max-height: 200px;max-width: 100%;overflow: auto;}#sk-088438ef-abcf-420a-8aa6-2e9229eac55d input.sk-toggleable__control:checked~label.sk-toggleable__label-arrow:before {content: \"▾\";}#sk-088438ef-abcf-420a-8aa6-2e9229eac55d div.sk-estimator input.sk-toggleable__control:checked~label.sk-toggleable__label {background-color: #d4ebff;}#sk-088438ef-abcf-420a-8aa6-2e9229eac55d div.sk-label input.sk-toggleable__control:checked~label.sk-toggleable__label {background-color: #d4ebff;}#sk-088438ef-abcf-420a-8aa6-2e9229eac55d input.sk-hidden--visually {border: 0;clip: rect(1px 1px 1px 1px);clip: rect(1px, 1px, 1px, 1px);height: 1px;margin: -1px;overflow: hidden;padding: 0;position: absolute;width: 1px;}#sk-088438ef-abcf-420a-8aa6-2e9229eac55d div.sk-estimator {font-family: monospace;background-color: #f0f8ff;border: 1px dotted black;border-radius: 0.25em;box-sizing: border-box;margin-bottom: 0.5em;}#sk-088438ef-abcf-420a-8aa6-2e9229eac55d div.sk-estimator:hover {background-color: #d4ebff;}#sk-088438ef-abcf-420a-8aa6-2e9229eac55d div.sk-parallel-item::after {content: \"\";width: 100%;border-bottom: 1px solid gray;flex-grow: 1;}#sk-088438ef-abcf-420a-8aa6-2e9229eac55d div.sk-label:hover label.sk-toggleable__label {background-color: #d4ebff;}#sk-088438ef-abcf-420a-8aa6-2e9229eac55d div.sk-serial::before {content: \"\";position: absolute;border-left: 1px solid gray;box-sizing: border-box;top: 2em;bottom: 0;left: 50%;}#sk-088438ef-abcf-420a-8aa6-2e9229eac55d div.sk-serial {display: flex;flex-direction: column;align-items: center;background-color: white;padding-right: 0.2em;padding-left: 0.2em;}#sk-088438ef-abcf-420a-8aa6-2e9229eac55d div.sk-item {z-index: 1;}#sk-088438ef-abcf-420a-8aa6-2e9229eac55d div.sk-parallel {display: flex;align-items: stretch;justify-content: center;background-color: white;}#sk-088438ef-abcf-420a-8aa6-2e9229eac55d div.sk-parallel::before {content: \"\";position: absolute;border-left: 1px solid gray;box-sizing: border-box;top: 2em;bottom: 0;left: 50%;}#sk-088438ef-abcf-420a-8aa6-2e9229eac55d div.sk-parallel-item {display: flex;flex-direction: column;position: relative;background-color: white;}#sk-088438ef-abcf-420a-8aa6-2e9229eac55d div.sk-parallel-item:first-child::after {align-self: flex-end;width: 50%;}#sk-088438ef-abcf-420a-8aa6-2e9229eac55d div.sk-parallel-item:last-child::after {align-self: flex-start;width: 50%;}#sk-088438ef-abcf-420a-8aa6-2e9229eac55d div.sk-parallel-item:only-child::after {width: 0;}#sk-088438ef-abcf-420a-8aa6-2e9229eac55d div.sk-dashed-wrapped {border: 1px dashed gray;margin: 0 0.4em 0.5em 0.4em;box-sizing: border-box;padding-bottom: 0.4em;background-color: white;position: relative;}#sk-088438ef-abcf-420a-8aa6-2e9229eac55d div.sk-label label {font-family: monospace;font-weight: bold;background-color: white;display: inline-block;line-height: 1.2em;}#sk-088438ef-abcf-420a-8aa6-2e9229eac55d div.sk-label-container {position: relative;z-index: 2;text-align: center;}#sk-088438ef-abcf-420a-8aa6-2e9229eac55d div.sk-container {/* jupyter's `normalize.less` sets `[hidden] { display: none; }` but bootstrap.min.css set `[hidden] { display: none !important; }` so we also need the `!important` here to be able to override the default hidden behavior on the sphinx rendered scikit-learn.org. See: https://github.com/scikit-learn/scikit-learn/issues/21755 */display: inline-block !important;position: relative;}#sk-088438ef-abcf-420a-8aa6-2e9229eac55d div.sk-text-repr-fallback {display: none;}</style><div id=\"sk-088438ef-abcf-420a-8aa6-2e9229eac55d\" class=\"sk-top-container\"><div class=\"sk-text-repr-fallback\"><pre>ColumnTransformer(transformers=[(&#x27;pipeline-1&#x27;,\n",
              "                                 Pipeline(steps=[(&#x27;standardscaler&#x27;,\n",
              "                                                  StandardScaler())]),\n",
              "                                 [&#x27;Item_Visibility&#x27;, &#x27;Item_MRP&#x27;]),\n",
              "                                (&#x27;pipeline-2&#x27;,\n",
              "                                 Pipeline(steps=[(&#x27;ordinalencoder&#x27;,\n",
              "                                                  OrdinalEncoder())]),\n",
              "                                 [&#x27;Item_Fat_Content&#x27;, &#x27;Outlet_Size&#x27;]),\n",
              "                                (&#x27;pipeline-3&#x27;,\n",
              "                                 Pipeline(steps=[(&#x27;onehotencoder&#x27;,\n",
              "                                                  OneHotEncoder(handle_unknown=&#x27;ignore&#x27;,\n",
              "                                                                sparse=False))]),\n",
              "                                 [&#x27;Item_Type&#x27;, &#x27;Outlet_Location_Type&#x27;,\n",
              "                                  &#x27;Outlet_Type&#x27;])])</pre><b>Please rerun this cell to show the HTML repr or trust the notebook.</b></div><div class=\"sk-container\" hidden><div class=\"sk-item sk-dashed-wrapped\"><div class=\"sk-label-container\"><div class=\"sk-label sk-toggleable\"><input class=\"sk-toggleable__control sk-hidden--visually\" id=\"0f2e26d7-a29e-4ec6-80b4-5d3e7e595cda\" type=\"checkbox\" ><label for=\"0f2e26d7-a29e-4ec6-80b4-5d3e7e595cda\" class=\"sk-toggleable__label sk-toggleable__label-arrow\">ColumnTransformer</label><div class=\"sk-toggleable__content\"><pre>ColumnTransformer(transformers=[(&#x27;pipeline-1&#x27;,\n",
              "                                 Pipeline(steps=[(&#x27;standardscaler&#x27;,\n",
              "                                                  StandardScaler())]),\n",
              "                                 [&#x27;Item_Visibility&#x27;, &#x27;Item_MRP&#x27;]),\n",
              "                                (&#x27;pipeline-2&#x27;,\n",
              "                                 Pipeline(steps=[(&#x27;ordinalencoder&#x27;,\n",
              "                                                  OrdinalEncoder())]),\n",
              "                                 [&#x27;Item_Fat_Content&#x27;, &#x27;Outlet_Size&#x27;]),\n",
              "                                (&#x27;pipeline-3&#x27;,\n",
              "                                 Pipeline(steps=[(&#x27;onehotencoder&#x27;,\n",
              "                                                  OneHotEncoder(handle_unknown=&#x27;ignore&#x27;,\n",
              "                                                                sparse=False))]),\n",
              "                                 [&#x27;Item_Type&#x27;, &#x27;Outlet_Location_Type&#x27;,\n",
              "                                  &#x27;Outlet_Type&#x27;])])</pre></div></div></div><div class=\"sk-parallel\"><div class=\"sk-parallel-item\"><div class=\"sk-item\"><div class=\"sk-label-container\"><div class=\"sk-label sk-toggleable\"><input class=\"sk-toggleable__control sk-hidden--visually\" id=\"e6a95dc4-5203-4df0-967a-78694d9c8893\" type=\"checkbox\" ><label for=\"e6a95dc4-5203-4df0-967a-78694d9c8893\" class=\"sk-toggleable__label sk-toggleable__label-arrow\">pipeline-1</label><div class=\"sk-toggleable__content\"><pre>[&#x27;Item_Visibility&#x27;, &#x27;Item_MRP&#x27;]</pre></div></div></div><div class=\"sk-serial\"><div class=\"sk-item\"><div class=\"sk-serial\"><div class=\"sk-item\"><div class=\"sk-estimator sk-toggleable\"><input class=\"sk-toggleable__control sk-hidden--visually\" id=\"5b228c55-e08c-4e1f-9aaa-e11af54b8108\" type=\"checkbox\" ><label for=\"5b228c55-e08c-4e1f-9aaa-e11af54b8108\" class=\"sk-toggleable__label sk-toggleable__label-arrow\">StandardScaler</label><div class=\"sk-toggleable__content\"><pre>StandardScaler()</pre></div></div></div></div></div></div></div></div><div class=\"sk-parallel-item\"><div class=\"sk-item\"><div class=\"sk-label-container\"><div class=\"sk-label sk-toggleable\"><input class=\"sk-toggleable__control sk-hidden--visually\" id=\"e90c981d-862c-4a28-9c9e-0289c49178b8\" type=\"checkbox\" ><label for=\"e90c981d-862c-4a28-9c9e-0289c49178b8\" class=\"sk-toggleable__label sk-toggleable__label-arrow\">pipeline-2</label><div class=\"sk-toggleable__content\"><pre>[&#x27;Item_Fat_Content&#x27;, &#x27;Outlet_Size&#x27;]</pre></div></div></div><div class=\"sk-serial\"><div class=\"sk-item\"><div class=\"sk-serial\"><div class=\"sk-item\"><div class=\"sk-estimator sk-toggleable\"><input class=\"sk-toggleable__control sk-hidden--visually\" id=\"38178379-de47-40a4-a146-2463fa7dcca5\" type=\"checkbox\" ><label for=\"38178379-de47-40a4-a146-2463fa7dcca5\" class=\"sk-toggleable__label sk-toggleable__label-arrow\">OrdinalEncoder</label><div class=\"sk-toggleable__content\"><pre>OrdinalEncoder()</pre></div></div></div></div></div></div></div></div><div class=\"sk-parallel-item\"><div class=\"sk-item\"><div class=\"sk-label-container\"><div class=\"sk-label sk-toggleable\"><input class=\"sk-toggleable__control sk-hidden--visually\" id=\"97f368a3-0407-43a3-a03c-18b5496328e1\" type=\"checkbox\" ><label for=\"97f368a3-0407-43a3-a03c-18b5496328e1\" class=\"sk-toggleable__label sk-toggleable__label-arrow\">pipeline-3</label><div class=\"sk-toggleable__content\"><pre>[&#x27;Item_Type&#x27;, &#x27;Outlet_Location_Type&#x27;, &#x27;Outlet_Type&#x27;]</pre></div></div></div><div class=\"sk-serial\"><div class=\"sk-item\"><div class=\"sk-serial\"><div class=\"sk-item\"><div class=\"sk-estimator sk-toggleable\"><input class=\"sk-toggleable__control sk-hidden--visually\" id=\"ef36e345-5e55-4104-b8e8-62ccc255094e\" type=\"checkbox\" ><label for=\"ef36e345-5e55-4104-b8e8-62ccc255094e\" class=\"sk-toggleable__label sk-toggleable__label-arrow\">OneHotEncoder</label><div class=\"sk-toggleable__content\"><pre>OneHotEncoder(handle_unknown=&#x27;ignore&#x27;, sparse=False)</pre></div></div></div></div></div></div></div></div></div></div></div></div>"
            ]
          },
          "metadata": {},
          "execution_count": 181
        }
      ]
    },
    {
      "cell_type": "code",
      "source": [
        "X_train_processed = preprocessor.transform(X_train)\n",
        "X_test_processed = preprocessor.transform(X_test)"
      ],
      "metadata": {
        "id": "-Jy05K9VjLf0"
      },
      "execution_count": null,
      "outputs": []
    },
    {
      "cell_type": "code",
      "source": [
        "X_train_processed\n"
      ],
      "metadata": {
        "id": "r9paKuF5jNu4",
        "colab": {
          "base_uri": "https://localhost:8080/"
        },
        "outputId": "cf4588eb-7070-4393-fe05-216e7a7aa0f9"
      },
      "execution_count": null,
      "outputs": [
        {
          "output_type": "execute_result",
          "data": {
            "text/plain": [
              "array([[ 0.17370855,  0.07024196,  1.        , ...,  0.        ,\n",
              "         0.        ,  1.        ],\n",
              "       [ 0.57073261,  0.29371474,  0.        , ...,  1.        ,\n",
              "         0.        ,  0.        ],\n",
              "       [ 0.14521605, -1.20851508,  0.        , ...,  0.        ,\n",
              "         1.        ,  0.        ],\n",
              "       ...,\n",
              "       [-0.9118168 ,  1.53984693,  0.        , ...,  1.        ,\n",
              "         0.        ,  0.        ],\n",
              "       [-0.2276652 , -0.37776029,  0.        , ...,  1.        ,\n",
              "         0.        ,  0.        ],\n",
              "       [-0.9494918 , -0.73435323,  0.        , ...,  1.        ,\n",
              "         0.        ,  0.        ]])"
            ]
          },
          "metadata": {},
          "execution_count": 183
        }
      ]
    },
    {
      "cell_type": "markdown",
      "source": [
        "# Regresión Lineal"
      ],
      "metadata": {
        "id": "IapJA8eA7zk5"
      }
    },
    {
      "cell_type": "code",
      "source": [
        "#Definir la reg de regresion lineal\n",
        "reg = LinearRegression()"
      ],
      "metadata": {
        "id": "8mteUZj6oZDS"
      },
      "execution_count": null,
      "outputs": []
    },
    {
      "cell_type": "code",
      "source": [
        "#Ajustar el modelo \n",
        "reg.fit(X_train_processed,y_train)"
      ],
      "metadata": {
        "id": "EdM52Sznobyf",
        "colab": {
          "base_uri": "https://localhost:8080/",
          "height": 75
        },
        "outputId": "490661c9-a020-414f-9ba3-fcafc63be58d"
      },
      "execution_count": null,
      "outputs": [
        {
          "output_type": "execute_result",
          "data": {
            "text/plain": [
              "LinearRegression()"
            ],
            "text/html": [
              "<style>#sk-1a137ab4-b807-41af-8498-5f315eb7baee {color: black;background-color: white;}#sk-1a137ab4-b807-41af-8498-5f315eb7baee pre{padding: 0;}#sk-1a137ab4-b807-41af-8498-5f315eb7baee div.sk-toggleable {background-color: white;}#sk-1a137ab4-b807-41af-8498-5f315eb7baee label.sk-toggleable__label {cursor: pointer;display: block;width: 100%;margin-bottom: 0;padding: 0.3em;box-sizing: border-box;text-align: center;}#sk-1a137ab4-b807-41af-8498-5f315eb7baee label.sk-toggleable__label-arrow:before {content: \"▸\";float: left;margin-right: 0.25em;color: #696969;}#sk-1a137ab4-b807-41af-8498-5f315eb7baee label.sk-toggleable__label-arrow:hover:before {color: black;}#sk-1a137ab4-b807-41af-8498-5f315eb7baee div.sk-estimator:hover label.sk-toggleable__label-arrow:before {color: black;}#sk-1a137ab4-b807-41af-8498-5f315eb7baee div.sk-toggleable__content {max-height: 0;max-width: 0;overflow: hidden;text-align: left;background-color: #f0f8ff;}#sk-1a137ab4-b807-41af-8498-5f315eb7baee div.sk-toggleable__content pre {margin: 0.2em;color: black;border-radius: 0.25em;background-color: #f0f8ff;}#sk-1a137ab4-b807-41af-8498-5f315eb7baee input.sk-toggleable__control:checked~div.sk-toggleable__content {max-height: 200px;max-width: 100%;overflow: auto;}#sk-1a137ab4-b807-41af-8498-5f315eb7baee input.sk-toggleable__control:checked~label.sk-toggleable__label-arrow:before {content: \"▾\";}#sk-1a137ab4-b807-41af-8498-5f315eb7baee div.sk-estimator input.sk-toggleable__control:checked~label.sk-toggleable__label {background-color: #d4ebff;}#sk-1a137ab4-b807-41af-8498-5f315eb7baee div.sk-label input.sk-toggleable__control:checked~label.sk-toggleable__label {background-color: #d4ebff;}#sk-1a137ab4-b807-41af-8498-5f315eb7baee input.sk-hidden--visually {border: 0;clip: rect(1px 1px 1px 1px);clip: rect(1px, 1px, 1px, 1px);height: 1px;margin: -1px;overflow: hidden;padding: 0;position: absolute;width: 1px;}#sk-1a137ab4-b807-41af-8498-5f315eb7baee div.sk-estimator {font-family: monospace;background-color: #f0f8ff;border: 1px dotted black;border-radius: 0.25em;box-sizing: border-box;margin-bottom: 0.5em;}#sk-1a137ab4-b807-41af-8498-5f315eb7baee div.sk-estimator:hover {background-color: #d4ebff;}#sk-1a137ab4-b807-41af-8498-5f315eb7baee div.sk-parallel-item::after {content: \"\";width: 100%;border-bottom: 1px solid gray;flex-grow: 1;}#sk-1a137ab4-b807-41af-8498-5f315eb7baee div.sk-label:hover label.sk-toggleable__label {background-color: #d4ebff;}#sk-1a137ab4-b807-41af-8498-5f315eb7baee div.sk-serial::before {content: \"\";position: absolute;border-left: 1px solid gray;box-sizing: border-box;top: 2em;bottom: 0;left: 50%;}#sk-1a137ab4-b807-41af-8498-5f315eb7baee div.sk-serial {display: flex;flex-direction: column;align-items: center;background-color: white;padding-right: 0.2em;padding-left: 0.2em;}#sk-1a137ab4-b807-41af-8498-5f315eb7baee div.sk-item {z-index: 1;}#sk-1a137ab4-b807-41af-8498-5f315eb7baee div.sk-parallel {display: flex;align-items: stretch;justify-content: center;background-color: white;}#sk-1a137ab4-b807-41af-8498-5f315eb7baee div.sk-parallel::before {content: \"\";position: absolute;border-left: 1px solid gray;box-sizing: border-box;top: 2em;bottom: 0;left: 50%;}#sk-1a137ab4-b807-41af-8498-5f315eb7baee div.sk-parallel-item {display: flex;flex-direction: column;position: relative;background-color: white;}#sk-1a137ab4-b807-41af-8498-5f315eb7baee div.sk-parallel-item:first-child::after {align-self: flex-end;width: 50%;}#sk-1a137ab4-b807-41af-8498-5f315eb7baee div.sk-parallel-item:last-child::after {align-self: flex-start;width: 50%;}#sk-1a137ab4-b807-41af-8498-5f315eb7baee div.sk-parallel-item:only-child::after {width: 0;}#sk-1a137ab4-b807-41af-8498-5f315eb7baee div.sk-dashed-wrapped {border: 1px dashed gray;margin: 0 0.4em 0.5em 0.4em;box-sizing: border-box;padding-bottom: 0.4em;background-color: white;position: relative;}#sk-1a137ab4-b807-41af-8498-5f315eb7baee div.sk-label label {font-family: monospace;font-weight: bold;background-color: white;display: inline-block;line-height: 1.2em;}#sk-1a137ab4-b807-41af-8498-5f315eb7baee div.sk-label-container {position: relative;z-index: 2;text-align: center;}#sk-1a137ab4-b807-41af-8498-5f315eb7baee div.sk-container {/* jupyter's `normalize.less` sets `[hidden] { display: none; }` but bootstrap.min.css set `[hidden] { display: none !important; }` so we also need the `!important` here to be able to override the default hidden behavior on the sphinx rendered scikit-learn.org. See: https://github.com/scikit-learn/scikit-learn/issues/21755 */display: inline-block !important;position: relative;}#sk-1a137ab4-b807-41af-8498-5f315eb7baee div.sk-text-repr-fallback {display: none;}</style><div id=\"sk-1a137ab4-b807-41af-8498-5f315eb7baee\" class=\"sk-top-container\"><div class=\"sk-text-repr-fallback\"><pre>LinearRegression()</pre><b>Please rerun this cell to show the HTML repr or trust the notebook.</b></div><div class=\"sk-container\" hidden><div class=\"sk-item\"><div class=\"sk-estimator sk-toggleable\"><input class=\"sk-toggleable__control sk-hidden--visually\" id=\"faccc487-e705-4abf-be7b-6abefcf7a17c\" type=\"checkbox\" checked><label for=\"faccc487-e705-4abf-be7b-6abefcf7a17c\" class=\"sk-toggleable__label sk-toggleable__label-arrow\">LinearRegression</label><div class=\"sk-toggleable__content\"><pre>LinearRegression()</pre></div></div></div></div></div>"
            ]
          },
          "metadata": {},
          "execution_count": 185
        }
      ]
    },
    {
      "cell_type": "code",
      "source": [
        "#  predicciones del conjunto de entrenamiento\n",
        "reg_train_preds = reg.predict(X_train_processed)\n",
        "#  predicciones del conjunto de prueba\n",
        "reg_test_preds = reg.predict(X_test_processed)"
      ],
      "metadata": {
        "id": "MUHH0xeAovXb"
      },
      "execution_count": null,
      "outputs": []
    },
    {
      "cell_type": "code",
      "source": [
        "#R2 \n",
        "#El R2 obtenido muestra que los datos de test se ajustan mejor al modelo, donde el 57% de los datos \n",
        "#se ajustan, sin embargo en los datos de entrenamiento este R2 disminuye un 0.01%\n",
        "#\n",
        "r2_train = r2_score(y_train, reg_train_preds)\n",
        "r2_test = r2_score(y_test, reg_test_preds)\n",
        "print(r2_train)\n",
        "print(r2_test)"
      ],
      "metadata": {
        "id": "Sfpj8ktno5UB",
        "colab": {
          "base_uri": "https://localhost:8080/"
        },
        "outputId": "3c8582f2-8a30-4ff8-cb5b-d044b7724f0c"
      },
      "execution_count": null,
      "outputs": [
        {
          "output_type": "stream",
          "name": "stdout",
          "text": [
            "0.5613245999113186\n",
            "0.5740866970459011\n"
          ]
        }
      ]
    },
    {
      "cell_type": "code",
      "source": [
        "#El error medio absoluto en el entrenamiento es de 839 indicando que en algunos casos el valor predicho se desvia en promedio 839 del valor real,\n",
        "#el error medio absoluto para los datos de test disminuye un poco y toma el valor de 808 \n",
        "\n",
        "mae_train = mean_absolute_error(y_train, reg_train_preds)\n",
        "mae_test = mean_absolute_error(y_test, reg_test_preds)\n",
        "print(mae_train)\n",
        "print(mae_test)"
      ],
      "metadata": {
        "id": "jMSbrtF-o-E_",
        "colab": {
          "base_uri": "https://localhost:8080/"
        },
        "outputId": "4a656e7a-bb5a-47a2-947b-75554a3a92ff"
      },
      "execution_count": null,
      "outputs": [
        {
          "output_type": "stream",
          "name": "stdout",
          "text": [
            "839.4599745136037\n",
            "808.8642839258092\n"
          ]
        }
      ]
    },
    {
      "cell_type": "code",
      "source": [
        "predictions=reg.predict(X_test_processed)"
      ],
      "metadata": {
        "id": "_amqHD1N-KIW"
      },
      "execution_count": null,
      "outputs": []
    },
    {
      "cell_type": "code",
      "source": [
        "#DataFrame de los valores reales y los valores predichos por el modelo\n",
        "reg_preds = pd.DataFrame({'real_values':y_test, 'predictions':reg_test_preds})\n",
        "reg_preds\n",
        "\n",
        "#Este DataFrame nos muesta que para algunos valores el valor predicho varia un poco con respecto \n",
        "#al valor real, indicando que el modelo no aprende muy bien."
      ],
      "metadata": {
        "colab": {
          "base_uri": "https://localhost:8080/",
          "height": 423
        },
        "id": "oEZP7I5g7VFq",
        "outputId": "a3d519f6-ad4b-4fdb-c455-7381df5d619a"
      },
      "execution_count": null,
      "outputs": [
        {
          "output_type": "execute_result",
          "data": {
            "text/plain": [
              "      real_values  predictions\n",
              "7503    1743.0644  1341.293787\n",
              "2957     356.8688   704.512439\n",
              "7031     377.5086   827.922670\n",
              "1084    5778.4782  4237.494522\n",
              "856     2356.9320  3266.033183\n",
              "...           ...          ...\n",
              "7118    7190.6400  3777.515841\n",
              "7364    3894.9300  2543.443405\n",
              "4128    2428.8384  2450.467243\n",
              "6440    1113.2176   985.725077\n",
              "2688    1860.2452  1337.625564\n",
              "\n",
              "[853 rows x 2 columns]"
            ],
            "text/html": [
              "\n",
              "  <div id=\"df-8bcc1e89-ba4a-48dd-9e83-1d0595a1265e\">\n",
              "    <div class=\"colab-df-container\">\n",
              "      <div>\n",
              "<style scoped>\n",
              "    .dataframe tbody tr th:only-of-type {\n",
              "        vertical-align: middle;\n",
              "    }\n",
              "\n",
              "    .dataframe tbody tr th {\n",
              "        vertical-align: top;\n",
              "    }\n",
              "\n",
              "    .dataframe thead th {\n",
              "        text-align: right;\n",
              "    }\n",
              "</style>\n",
              "<table border=\"1\" class=\"dataframe\">\n",
              "  <thead>\n",
              "    <tr style=\"text-align: right;\">\n",
              "      <th></th>\n",
              "      <th>real_values</th>\n",
              "      <th>predictions</th>\n",
              "    </tr>\n",
              "  </thead>\n",
              "  <tbody>\n",
              "    <tr>\n",
              "      <th>7503</th>\n",
              "      <td>1743.0644</td>\n",
              "      <td>1341.293787</td>\n",
              "    </tr>\n",
              "    <tr>\n",
              "      <th>2957</th>\n",
              "      <td>356.8688</td>\n",
              "      <td>704.512439</td>\n",
              "    </tr>\n",
              "    <tr>\n",
              "      <th>7031</th>\n",
              "      <td>377.5086</td>\n",
              "      <td>827.922670</td>\n",
              "    </tr>\n",
              "    <tr>\n",
              "      <th>1084</th>\n",
              "      <td>5778.4782</td>\n",
              "      <td>4237.494522</td>\n",
              "    </tr>\n",
              "    <tr>\n",
              "      <th>856</th>\n",
              "      <td>2356.9320</td>\n",
              "      <td>3266.033183</td>\n",
              "    </tr>\n",
              "    <tr>\n",
              "      <th>...</th>\n",
              "      <td>...</td>\n",
              "      <td>...</td>\n",
              "    </tr>\n",
              "    <tr>\n",
              "      <th>7118</th>\n",
              "      <td>7190.6400</td>\n",
              "      <td>3777.515841</td>\n",
              "    </tr>\n",
              "    <tr>\n",
              "      <th>7364</th>\n",
              "      <td>3894.9300</td>\n",
              "      <td>2543.443405</td>\n",
              "    </tr>\n",
              "    <tr>\n",
              "      <th>4128</th>\n",
              "      <td>2428.8384</td>\n",
              "      <td>2450.467243</td>\n",
              "    </tr>\n",
              "    <tr>\n",
              "      <th>6440</th>\n",
              "      <td>1113.2176</td>\n",
              "      <td>985.725077</td>\n",
              "    </tr>\n",
              "    <tr>\n",
              "      <th>2688</th>\n",
              "      <td>1860.2452</td>\n",
              "      <td>1337.625564</td>\n",
              "    </tr>\n",
              "  </tbody>\n",
              "</table>\n",
              "<p>853 rows × 2 columns</p>\n",
              "</div>\n",
              "      <button class=\"colab-df-convert\" onclick=\"convertToInteractive('df-8bcc1e89-ba4a-48dd-9e83-1d0595a1265e')\"\n",
              "              title=\"Convert this dataframe to an interactive table.\"\n",
              "              style=\"display:none;\">\n",
              "        \n",
              "  <svg xmlns=\"http://www.w3.org/2000/svg\" height=\"24px\"viewBox=\"0 0 24 24\"\n",
              "       width=\"24px\">\n",
              "    <path d=\"M0 0h24v24H0V0z\" fill=\"none\"/>\n",
              "    <path d=\"M18.56 5.44l.94 2.06.94-2.06 2.06-.94-2.06-.94-.94-2.06-.94 2.06-2.06.94zm-11 1L8.5 8.5l.94-2.06 2.06-.94-2.06-.94L8.5 2.5l-.94 2.06-2.06.94zm10 10l.94 2.06.94-2.06 2.06-.94-2.06-.94-.94-2.06-.94 2.06-2.06.94z\"/><path d=\"M17.41 7.96l-1.37-1.37c-.4-.4-.92-.59-1.43-.59-.52 0-1.04.2-1.43.59L10.3 9.45l-7.72 7.72c-.78.78-.78 2.05 0 2.83L4 21.41c.39.39.9.59 1.41.59.51 0 1.02-.2 1.41-.59l7.78-7.78 2.81-2.81c.8-.78.8-2.07 0-2.86zM5.41 20L4 18.59l7.72-7.72 1.47 1.35L5.41 20z\"/>\n",
              "  </svg>\n",
              "      </button>\n",
              "      \n",
              "  <style>\n",
              "    .colab-df-container {\n",
              "      display:flex;\n",
              "      flex-wrap:wrap;\n",
              "      gap: 12px;\n",
              "    }\n",
              "\n",
              "    .colab-df-convert {\n",
              "      background-color: #E8F0FE;\n",
              "      border: none;\n",
              "      border-radius: 50%;\n",
              "      cursor: pointer;\n",
              "      display: none;\n",
              "      fill: #1967D2;\n",
              "      height: 32px;\n",
              "      padding: 0 0 0 0;\n",
              "      width: 32px;\n",
              "    }\n",
              "\n",
              "    .colab-df-convert:hover {\n",
              "      background-color: #E2EBFA;\n",
              "      box-shadow: 0px 1px 2px rgba(60, 64, 67, 0.3), 0px 1px 3px 1px rgba(60, 64, 67, 0.15);\n",
              "      fill: #174EA6;\n",
              "    }\n",
              "\n",
              "    [theme=dark] .colab-df-convert {\n",
              "      background-color: #3B4455;\n",
              "      fill: #D2E3FC;\n",
              "    }\n",
              "\n",
              "    [theme=dark] .colab-df-convert:hover {\n",
              "      background-color: #434B5C;\n",
              "      box-shadow: 0px 1px 3px 1px rgba(0, 0, 0, 0.15);\n",
              "      filter: drop-shadow(0px 1px 2px rgba(0, 0, 0, 0.3));\n",
              "      fill: #FFFFFF;\n",
              "    }\n",
              "  </style>\n",
              "\n",
              "      <script>\n",
              "        const buttonEl =\n",
              "          document.querySelector('#df-8bcc1e89-ba4a-48dd-9e83-1d0595a1265e button.colab-df-convert');\n",
              "        buttonEl.style.display =\n",
              "          google.colab.kernel.accessAllowed ? 'block' : 'none';\n",
              "\n",
              "        async function convertToInteractive(key) {\n",
              "          const element = document.querySelector('#df-8bcc1e89-ba4a-48dd-9e83-1d0595a1265e');\n",
              "          const dataTable =\n",
              "            await google.colab.kernel.invokeFunction('convertToInteractive',\n",
              "                                                     [key], {});\n",
              "          if (!dataTable) return;\n",
              "\n",
              "          const docLinkHtml = 'Like what you see? Visit the ' +\n",
              "            '<a target=\"_blank\" href=https://colab.research.google.com/notebooks/data_table.ipynb>data table notebook</a>'\n",
              "            + ' to learn more about interactive tables.';\n",
              "          element.innerHTML = '';\n",
              "          dataTable['output_type'] = 'display_data';\n",
              "          await google.colab.output.renderOutput(dataTable, element);\n",
              "          const docLink = document.createElement('div');\n",
              "          docLink.innerHTML = docLinkHtml;\n",
              "          element.appendChild(docLink);\n",
              "        }\n",
              "      </script>\n",
              "    </div>\n",
              "  </div>\n",
              "  "
            ]
          },
          "metadata": {},
          "execution_count": 190
        }
      ]
    },
    {
      "cell_type": "code",
      "source": [
        "reg_preds= reg_preds.head(25)"
      ],
      "metadata": {
        "id": "_oShC_xI8EHJ"
      },
      "execution_count": null,
      "outputs": []
    },
    {
      "cell_type": "code",
      "source": [
        "#En este gráfico podemos ver de forma mas visual los valores reales vs las predicciones hechas por el modelo,\n",
        "#algunos puntos los logra predecir bien o aproximadamente bien, sim embargo mucho otros varian mucho respecto al valor real \n",
        "\n",
        "sns.set_theme(style=\"ticks\", palette=\"pastel\")\n",
        "plt.show()\n",
        "reg_preds.plot(kind='bar',figsize=(18,8), color=('g','b'))\n",
        "plt.grid(linewidth='2')\n",
        "plt.grid(linewidth='2')\n",
        "plt.grid(None)\n",
        "plt.show()"
      ],
      "metadata": {
        "colab": {
          "base_uri": "https://localhost:8080/",
          "height": 396
        },
        "id": "ifwUb5y_8F17",
        "outputId": "e1c78527-875e-4a88-8c01-cbdfb610d806"
      },
      "execution_count": null,
      "outputs": [
        {
          "output_type": "display_data",
          "data": {
            "text/plain": [
              "<Figure size 1296x576 with 1 Axes>"
            ],
            "image/png": "[encoded data removed]"
          },
          "metadata": {}
        }
      ]
    },
    {
      "cell_type": "markdown",
      "source": [
        "# Decision Tree"
      ],
      "metadata": {
        "id": "1kSJi3S-9AYl"
      }
    },
    {
      "cell_type": "code",
      "source": [
        "from sklearn.tree import DecisionTreeRegressor"
      ],
      "metadata": {
        "id": "gEJkLjQSpE3y"
      },
      "execution_count": null,
      "outputs": []
    },
    {
      "cell_type": "code",
      "source": [
        "dec_tree = DecisionTreeRegressor(random_state = 42)\n"
      ],
      "metadata": {
        "id": "0rQj7G7CpGaQ"
      },
      "execution_count": null,
      "outputs": []
    },
    {
      "cell_type": "code",
      "source": [
        "dec_tree.fit(X_train_processed, y_train)\n"
      ],
      "metadata": {
        "id": "DpMfyA7DpIHz",
        "colab": {
          "base_uri": "https://localhost:8080/",
          "height": 75
        },
        "outputId": "b86009c7-826c-4bd7-875f-5a3974839ea4"
      },
      "execution_count": null,
      "outputs": [
        {
          "output_type": "execute_result",
          "data": {
            "text/plain": [
              "DecisionTreeRegressor(random_state=42)"
            ],
            "text/html": [
              "<style>#sk-525817db-328e-455a-b095-8bd9bc8595bf {color: black;background-color: white;}#sk-525817db-328e-455a-b095-8bd9bc8595bf pre{padding: 0;}#sk-525817db-328e-455a-b095-8bd9bc8595bf div.sk-toggleable {background-color: white;}#sk-525817db-328e-455a-b095-8bd9bc8595bf label.sk-toggleable__label {cursor: pointer;display: block;width: 100%;margin-bottom: 0;padding: 0.3em;box-sizing: border-box;text-align: center;}#sk-525817db-328e-455a-b095-8bd9bc8595bf label.sk-toggleable__label-arrow:before {content: \"▸\";float: left;margin-right: 0.25em;color: #696969;}#sk-525817db-328e-455a-b095-8bd9bc8595bf label.sk-toggleable__label-arrow:hover:before {color: black;}#sk-525817db-328e-455a-b095-8bd9bc8595bf div.sk-estimator:hover label.sk-toggleable__label-arrow:before {color: black;}#sk-525817db-328e-455a-b095-8bd9bc8595bf div.sk-toggleable__content {max-height: 0;max-width: 0;overflow: hidden;text-align: left;background-color: #f0f8ff;}#sk-525817db-328e-455a-b095-8bd9bc8595bf div.sk-toggleable__content pre {margin: 0.2em;color: black;border-radius: 0.25em;background-color: #f0f8ff;}#sk-525817db-328e-455a-b095-8bd9bc8595bf input.sk-toggleable__control:checked~div.sk-toggleable__content {max-height: 200px;max-width: 100%;overflow: auto;}#sk-525817db-328e-455a-b095-8bd9bc8595bf input.sk-toggleable__control:checked~label.sk-toggleable__label-arrow:before {content: \"▾\";}#sk-525817db-328e-455a-b095-8bd9bc8595bf div.sk-estimator input.sk-toggleable__control:checked~label.sk-toggleable__label {background-color: #d4ebff;}#sk-525817db-328e-455a-b095-8bd9bc8595bf div.sk-label input.sk-toggleable__control:checked~label.sk-toggleable__label {background-color: #d4ebff;}#sk-525817db-328e-455a-b095-8bd9bc8595bf input.sk-hidden--visually {border: 0;clip: rect(1px 1px 1px 1px);clip: rect(1px, 1px, 1px, 1px);height: 1px;margin: -1px;overflow: hidden;padding: 0;position: absolute;width: 1px;}#sk-525817db-328e-455a-b095-8bd9bc8595bf div.sk-estimator {font-family: monospace;background-color: #f0f8ff;border: 1px dotted black;border-radius: 0.25em;box-sizing: border-box;margin-bottom: 0.5em;}#sk-525817db-328e-455a-b095-8bd9bc8595bf div.sk-estimator:hover {background-color: #d4ebff;}#sk-525817db-328e-455a-b095-8bd9bc8595bf div.sk-parallel-item::after {content: \"\";width: 100%;border-bottom: 1px solid gray;flex-grow: 1;}#sk-525817db-328e-455a-b095-8bd9bc8595bf div.sk-label:hover label.sk-toggleable__label {background-color: #d4ebff;}#sk-525817db-328e-455a-b095-8bd9bc8595bf div.sk-serial::before {content: \"\";position: absolute;border-left: 1px solid gray;box-sizing: border-box;top: 2em;bottom: 0;left: 50%;}#sk-525817db-328e-455a-b095-8bd9bc8595bf div.sk-serial {display: flex;flex-direction: column;align-items: center;background-color: white;padding-right: 0.2em;padding-left: 0.2em;}#sk-525817db-328e-455a-b095-8bd9bc8595bf div.sk-item {z-index: 1;}#sk-525817db-328e-455a-b095-8bd9bc8595bf div.sk-parallel {display: flex;align-items: stretch;justify-content: center;background-color: white;}#sk-525817db-328e-455a-b095-8bd9bc8595bf div.sk-parallel::before {content: \"\";position: absolute;border-left: 1px solid gray;box-sizing: border-box;top: 2em;bottom: 0;left: 50%;}#sk-525817db-328e-455a-b095-8bd9bc8595bf div.sk-parallel-item {display: flex;flex-direction: column;position: relative;background-color: white;}#sk-525817db-328e-455a-b095-8bd9bc8595bf div.sk-parallel-item:first-child::after {align-self: flex-end;width: 50%;}#sk-525817db-328e-455a-b095-8bd9bc8595bf div.sk-parallel-item:last-child::after {align-self: flex-start;width: 50%;}#sk-525817db-328e-455a-b095-8bd9bc8595bf div.sk-parallel-item:only-child::after {width: 0;}#sk-525817db-328e-455a-b095-8bd9bc8595bf div.sk-dashed-wrapped {border: 1px dashed gray;margin: 0 0.4em 0.5em 0.4em;box-sizing: border-box;padding-bottom: 0.4em;background-color: white;position: relative;}#sk-525817db-328e-455a-b095-8bd9bc8595bf div.sk-label label {font-family: monospace;font-weight: bold;background-color: white;display: inline-block;line-height: 1.2em;}#sk-525817db-328e-455a-b095-8bd9bc8595bf div.sk-label-container {position: relative;z-index: 2;text-align: center;}#sk-525817db-328e-455a-b095-8bd9bc8595bf div.sk-container {/* jupyter's `normalize.less` sets `[hidden] { display: none; }` but bootstrap.min.css set `[hidden] { display: none !important; }` so we also need the `!important` here to be able to override the default hidden behavior on the sphinx rendered scikit-learn.org. See: https://github.com/scikit-learn/scikit-learn/issues/21755 */display: inline-block !important;position: relative;}#sk-525817db-328e-455a-b095-8bd9bc8595bf div.sk-text-repr-fallback {display: none;}</style><div id=\"sk-525817db-328e-455a-b095-8bd9bc8595bf\" class=\"sk-top-container\"><div class=\"sk-text-repr-fallback\"><pre>DecisionTreeRegressor(random_state=42)</pre><b>Please rerun this cell to show the HTML repr or trust the notebook.</b></div><div class=\"sk-container\" hidden><div class=\"sk-item\"><div class=\"sk-estimator sk-toggleable\"><input class=\"sk-toggleable__control sk-hidden--visually\" id=\"3949a944-3df6-4876-b55b-cfd34a72d9a3\" type=\"checkbox\" checked><label for=\"3949a944-3df6-4876-b55b-cfd34a72d9a3\" class=\"sk-toggleable__label sk-toggleable__label-arrow\">DecisionTreeRegressor</label><div class=\"sk-toggleable__content\"><pre>DecisionTreeRegressor(random_state=42)</pre></div></div></div></div></div>"
            ]
          },
          "metadata": {},
          "execution_count": 195
        }
      ]
    },
    {
      "cell_type": "code",
      "source": [
        "train_preds = dec_tree.predict(X_train_processed)\n",
        "test_preds = dec_tree.predict(X_test_processed)"
      ],
      "metadata": {
        "id": "p4KusTb1pQOB"
      },
      "execution_count": null,
      "outputs": []
    },
    {
      "cell_type": "code",
      "source": [
        "# El  r2 para los datos de prueba es de 1 sin embargo para el set de datos de entrenamiento este toma un valor a 0.15,\n",
        "# este es un ejemplo sobreajuste donde los datos en el que el que los datos aprenden de caractersiticas especificas del \n",
        "# set de prueba que no logran predecir adecuadamente. \n",
        "train_score = dec_tree.score(X_train_processed, y_train)\n",
        "test_score = dec_tree.score(X_test_processed, y_test)\n",
        "print(train_score)\n",
        "print(test_score)"
      ],
      "metadata": {
        "id": "TLWqUP1apWbA",
        "colab": {
          "base_uri": "https://localhost:8080/"
        },
        "outputId": "84d8aca0-e813-495f-e08e-fe088edb1934"
      },
      "execution_count": null,
      "outputs": [
        {
          "output_type": "stream",
          "name": "stdout",
          "text": [
            "1.0\n",
            "0.15504658886073064\n"
          ]
        }
      ]
    },
    {
      "cell_type": "code",
      "source": [
        "#Vamos a tratar de ajustar el max_depth con la finalidad de mejorar el modelo \n",
        "\n",
        "# Lista de valores a probar para max_depth:\n",
        "max_depth_range = list(range(5, 25))# will try every value between 2 and 25\n",
        "# Lista para almacenar la puntuación para cada valor de max_depth:\n",
        "r2 = []\n",
        "for depth in max_depth_range:\n",
        "    dec_tree = DecisionTreeRegressor(max_depth = depth, \n",
        "                             random_state = 42)\n",
        "    dec_tree.fit(X_train_processed, y_train)\n",
        "    score = dec_tree.score(X_test_processed, y_test)\n",
        "    r2.append(score)"
      ],
      "metadata": {
        "id": "5gal06Ehpdm0"
      },
      "execution_count": null,
      "outputs": []
    },
    {
      "cell_type": "code",
      "source": [
        "#El gráfico muestra que el max_depth tiene un mejor R2 \n",
        "#cuando este toma el valor de 5 \n",
        "import matplotlib.pyplot as plt\n",
        "plt.plot(max_depth_range, r2)\n",
        "plt.xlabel('max_depth')\n",
        "plt.ylabel('R2');\n"
      ],
      "metadata": {
        "id": "Cwn35xdOpkti",
        "colab": {
          "base_uri": "https://localhost:8080/",
          "height": 285
        },
        "outputId": "edf69dc8-8ecd-4987-a1eb-ecf2b3b5607a"
      },
      "execution_count": null,
      "outputs": [
        {
          "output_type": "display_data",
          "data": {
            "text/plain": [
              "<Figure size 432x288 with 1 Axes>"
            ],
            "image/png": "[encoded data removed]"
          },
          "metadata": {}
        }
      ]
    },
    {
      "cell_type": "code",
      "source": [
        "#Al cambiar el max_depth a 5 el R2 toma valores de 0.60 para los datos de entrenamientos \n",
        "#y 0.61 para los datos de test \n",
        "dec_tree_5 = DecisionTreeRegressor(max_depth = 5, random_state = 42)\n",
        "dec_tree_5.fit(X_train_processed, y_train)\n",
        "train_5_score = dec_tree_5.score(X_train_processed, y_train)\n",
        "test_5_score = dec_tree_5.score(X_test_processed, y_test)\n",
        "print(train_5_score)\n",
        "print(test_5_score)"
      ],
      "metadata": {
        "id": "qXUXqUDIpvUS",
        "colab": {
          "base_uri": "https://localhost:8080/"
        },
        "outputId": "c9c0e126-f094-454c-b8ad-d4068c9acd0c"
      },
      "execution_count": null,
      "outputs": [
        {
          "output_type": "stream",
          "name": "stdout",
          "text": [
            "0.6022534362136622\n",
            "0.6137706359844946\n"
          ]
        }
      ]
    },
    {
      "cell_type": "code",
      "source": [
        "t_train_preds = dec_tree_5.predict(X_train_processed)\n",
        "t_test_preds = dec_tree_5.predict(X_test_processed)"
      ],
      "metadata": {
        "id": "dAptJuUdgp5y"
      },
      "execution_count": null,
      "outputs": []
    },
    {
      "cell_type": "code",
      "source": [
        "##El error medio absoluto en el entrenamiento arrojo un resultado  de 757 indicando que en algunos casos el valor predicho se desvia en promedio 757 del valor real,\n",
        "#el error medio absoluto para los datos de test disminuye un poco y toma el valor de 728 \n",
        "mae_train = mean_absolute_error(y_train, t_train_preds)\n",
        "mae_test = mean_absolute_error(y_test, t_test_preds)\n",
        "print(mae_train)\n",
        "print(mae_test)"
      ],
      "metadata": {
        "colab": {
          "base_uri": "https://localhost:8080/"
        },
        "id": "tXBSA3rzgpb_",
        "outputId": "e68ab339-1535-4759-f535-6593f9cbaecd"
      },
      "execution_count": null,
      "outputs": [
        {
          "output_type": "stream",
          "name": "stdout",
          "text": [
            "757.0754153928174\n",
            "728.2873664679028\n"
          ]
        }
      ]
    },
    {
      "cell_type": "code",
      "source": [
        "#DataFrame de los valores reales y los valores predichos por el modelo\n",
        "t_preds = pd.DataFrame({'real_values':y_test, 'predictions':t_test_preds})\n",
        "t_preds\n",
        "\n",
        "#Este DataFrame nos muesta que para algunos valores el valor predicho varia  con respecto \n",
        "#al valor real, indicando que el modelo no es lo suficientemente bueno. "
      ],
      "metadata": {
        "colab": {
          "base_uri": "https://localhost:8080/",
          "height": 423
        },
        "id": "jNlymbTo6clx",
        "outputId": "8a8be3be-a971-46fb-e93a-98263c9e662a"
      },
      "execution_count": null,
      "outputs": [
        {
          "output_type": "execute_result",
          "data": {
            "text/plain": [
              "      real_values  predictions\n",
              "7503    1743.0644  1071.091186\n",
              "2957     356.8688   696.871576\n",
              "7031     377.5086   696.871576\n",
              "1084    5778.4782  4822.645477\n",
              "856     2356.9320  2993.680429\n",
              "...           ...          ...\n",
              "7118    7190.6400  3939.567014\n",
              "7364    3894.9300  2487.705376\n",
              "4128    2428.8384  2487.705376\n",
              "6440    1113.2176   696.871576\n",
              "2688    1860.2452  1524.581275\n",
              "\n",
              "[853 rows x 2 columns]"
            ],
            "text/html": [
              "\n",
              "  <div id=\"df-840a0165-5ea9-4d55-ba3d-e3a66d17140b\">\n",
              "    <div class=\"colab-df-container\">\n",
              "      <div>\n",
              "<style scoped>\n",
              "    .dataframe tbody tr th:only-of-type {\n",
              "        vertical-align: middle;\n",
              "    }\n",
              "\n",
              "    .dataframe tbody tr th {\n",
              "        vertical-align: top;\n",
              "    }\n",
              "\n",
              "    .dataframe thead th {\n",
              "        text-align: right;\n",
              "    }\n",
              "</style>\n",
              "<table border=\"1\" class=\"dataframe\">\n",
              "  <thead>\n",
              "    <tr style=\"text-align: right;\">\n",
              "      <th></th>\n",
              "      <th>real_values</th>\n",
              "      <th>predictions</th>\n",
              "    </tr>\n",
              "  </thead>\n",
              "  <tbody>\n",
              "    <tr>\n",
              "      <th>7503</th>\n",
              "      <td>1743.0644</td>\n",
              "      <td>1071.091186</td>\n",
              "    </tr>\n",
              "    <tr>\n",
              "      <th>2957</th>\n",
              "      <td>356.8688</td>\n",
              "      <td>696.871576</td>\n",
              "    </tr>\n",
              "    <tr>\n",
              "      <th>7031</th>\n",
              "      <td>377.5086</td>\n",
              "      <td>696.871576</td>\n",
              "    </tr>\n",
              "    <tr>\n",
              "      <th>1084</th>\n",
              "      <td>5778.4782</td>\n",
              "      <td>4822.645477</td>\n",
              "    </tr>\n",
              "    <tr>\n",
              "      <th>856</th>\n",
              "      <td>2356.9320</td>\n",
              "      <td>2993.680429</td>\n",
              "    </tr>\n",
              "    <tr>\n",
              "      <th>...</th>\n",
              "      <td>...</td>\n",
              "      <td>...</td>\n",
              "    </tr>\n",
              "    <tr>\n",
              "      <th>7118</th>\n",
              "      <td>7190.6400</td>\n",
              "      <td>3939.567014</td>\n",
              "    </tr>\n",
              "    <tr>\n",
              "      <th>7364</th>\n",
              "      <td>3894.9300</td>\n",
              "      <td>2487.705376</td>\n",
              "    </tr>\n",
              "    <tr>\n",
              "      <th>4128</th>\n",
              "      <td>2428.8384</td>\n",
              "      <td>2487.705376</td>\n",
              "    </tr>\n",
              "    <tr>\n",
              "      <th>6440</th>\n",
              "      <td>1113.2176</td>\n",
              "      <td>696.871576</td>\n",
              "    </tr>\n",
              "    <tr>\n",
              "      <th>2688</th>\n",
              "      <td>1860.2452</td>\n",
              "      <td>1524.581275</td>\n",
              "    </tr>\n",
              "  </tbody>\n",
              "</table>\n",
              "<p>853 rows × 2 columns</p>\n",
              "</div>\n",
              "      <button class=\"colab-df-convert\" onclick=\"convertToInteractive('df-840a0165-5ea9-4d55-ba3d-e3a66d17140b')\"\n",
              "              title=\"Convert this dataframe to an interactive table.\"\n",
              "              style=\"display:none;\">\n",
              "        \n",
              "  <svg xmlns=\"http://www.w3.org/2000/svg\" height=\"24px\"viewBox=\"0 0 24 24\"\n",
              "       width=\"24px\">\n",
              "    <path d=\"M0 0h24v24H0V0z\" fill=\"none\"/>\n",
              "    <path d=\"M18.56 5.44l.94 2.06.94-2.06 2.06-.94-2.06-.94-.94-2.06-.94 2.06-2.06.94zm-11 1L8.5 8.5l.94-2.06 2.06-.94-2.06-.94L8.5 2.5l-.94 2.06-2.06.94zm10 10l.94 2.06.94-2.06 2.06-.94-2.06-.94-.94-2.06-.94 2.06-2.06.94z\"/><path d=\"M17.41 7.96l-1.37-1.37c-.4-.4-.92-.59-1.43-.59-.52 0-1.04.2-1.43.59L10.3 9.45l-7.72 7.72c-.78.78-.78 2.05 0 2.83L4 21.41c.39.39.9.59 1.41.59.51 0 1.02-.2 1.41-.59l7.78-7.78 2.81-2.81c.8-.78.8-2.07 0-2.86zM5.41 20L4 18.59l7.72-7.72 1.47 1.35L5.41 20z\"/>\n",
              "  </svg>\n",
              "      </button>\n",
              "      \n",
              "  <style>\n",
              "    .colab-df-container {\n",
              "      display:flex;\n",
              "      flex-wrap:wrap;\n",
              "      gap: 12px;\n",
              "    }\n",
              "\n",
              "    .colab-df-convert {\n",
              "      background-color: #E8F0FE;\n",
              "      border: none;\n",
              "      border-radius: 50%;\n",
              "      cursor: pointer;\n",
              "      display: none;\n",
              "      fill: #1967D2;\n",
              "      height: 32px;\n",
              "      padding: 0 0 0 0;\n",
              "      width: 32px;\n",
              "    }\n",
              "\n",
              "    .colab-df-convert:hover {\n",
              "      background-color: #E2EBFA;\n",
              "      box-shadow: 0px 1px 2px rgba(60, 64, 67, 0.3), 0px 1px 3px 1px rgba(60, 64, 67, 0.15);\n",
              "      fill: #174EA6;\n",
              "    }\n",
              "\n",
              "    [theme=dark] .colab-df-convert {\n",
              "      background-color: #3B4455;\n",
              "      fill: #D2E3FC;\n",
              "    }\n",
              "\n",
              "    [theme=dark] .colab-df-convert:hover {\n",
              "      background-color: #434B5C;\n",
              "      box-shadow: 0px 1px 3px 1px rgba(0, 0, 0, 0.15);\n",
              "      filter: drop-shadow(0px 1px 2px rgba(0, 0, 0, 0.3));\n",
              "      fill: #FFFFFF;\n",
              "    }\n",
              "  </style>\n",
              "\n",
              "      <script>\n",
              "        const buttonEl =\n",
              "          document.querySelector('#df-840a0165-5ea9-4d55-ba3d-e3a66d17140b button.colab-df-convert');\n",
              "        buttonEl.style.display =\n",
              "          google.colab.kernel.accessAllowed ? 'block' : 'none';\n",
              "\n",
              "        async function convertToInteractive(key) {\n",
              "          const element = document.querySelector('#df-840a0165-5ea9-4d55-ba3d-e3a66d17140b');\n",
              "          const dataTable =\n",
              "            await google.colab.kernel.invokeFunction('convertToInteractive',\n",
              "                                                     [key], {});\n",
              "          if (!dataTable) return;\n",
              "\n",
              "          const docLinkHtml = 'Like what you see? Visit the ' +\n",
              "            '<a target=\"_blank\" href=https://colab.research.google.com/notebooks/data_table.ipynb>data table notebook</a>'\n",
              "            + ' to learn more about interactive tables.';\n",
              "          element.innerHTML = '';\n",
              "          dataTable['output_type'] = 'display_data';\n",
              "          await google.colab.output.renderOutput(dataTable, element);\n",
              "          const docLink = document.createElement('div');\n",
              "          docLink.innerHTML = docLinkHtml;\n",
              "          element.appendChild(docLink);\n",
              "        }\n",
              "      </script>\n",
              "    </div>\n",
              "  </div>\n",
              "  "
            ]
          },
          "metadata": {},
          "execution_count": 203
        }
      ]
    },
    {
      "cell_type": "code",
      "source": [
        "t_preds= t_preds.head(25)"
      ],
      "metadata": {
        "id": "tagEvSK-_fXn"
      },
      "execution_count": null,
      "outputs": []
    },
    {
      "cell_type": "code",
      "source": [
        "#En este gráfico podemos ver de forma mas visual los valores reales vs las predicciones hechas por el modelo,\n",
        "#algunos puntos los logra predecir bien o aproximadamente bien, sim embargo mucho otros varian mucho respecto al valor real \n",
        "\n",
        "sns.set_theme(style=\"ticks\", palette=\"pastel\")\n",
        "plt.show()\n",
        "t_preds.plot(kind='bar',figsize=(18,8), color=('deepskyblue','darkorchid'))\n",
        "plt.grid(linewidth='2')\n",
        "plt.grid(linewidth='2')\n",
        "plt.grid(None)\n",
        "plt.show()"
      ],
      "metadata": {
        "colab": {
          "base_uri": "https://localhost:8080/",
          "height": 396
        },
        "id": "OeEqE68t_kfB",
        "outputId": "5c391787-fc20-450b-ac3c-e7200b120151"
      },
      "execution_count": null,
      "outputs": [
        {
          "output_type": "display_data",
          "data": {
            "text/plain": [
              "<Figure size 1296x576 with 1 Axes>"
            ],
            "image/png": "[encoded data removed]"
          },
          "metadata": {}
        }
      ]
    },
    {
      "cell_type": "markdown",
      "source": [
        "# Random Forest"
      ],
      "metadata": {
        "id": "FFM0b3Cq_NM_"
      }
    },
    {
      "cell_type": "code",
      "source": [
        "from sklearn.ensemble import RandomForestRegressor\n",
        "rf=RandomForestRegressor(n_estimators=400,max_depth=6, min_samples_leaf=76,n_jobs=4)"
      ],
      "metadata": {
        "id": "GszYdie-_P0t"
      },
      "execution_count": null,
      "outputs": []
    },
    {
      "cell_type": "code",
      "source": [
        "rf.fit(X_train_processed, y_train)"
      ],
      "metadata": {
        "id": "KeOlPYuA_2Jd",
        "colab": {
          "base_uri": "https://localhost:8080/",
          "height": 92
        },
        "outputId": "a84e319a-0645-4eb2-fc90-858b3549a78b"
      },
      "execution_count": null,
      "outputs": [
        {
          "output_type": "execute_result",
          "data": {
            "text/plain": [
              "RandomForestRegressor(max_depth=6, min_samples_leaf=76, n_estimators=400,\n",
              "                      n_jobs=4)"
            ],
            "text/html": [
              "<style>#sk-ffe3b075-03ac-4509-a889-7020cb6a6800 {color: black;background-color: white;}#sk-ffe3b075-03ac-4509-a889-7020cb6a6800 pre{padding: 0;}#sk-ffe3b075-03ac-4509-a889-7020cb6a6800 div.sk-toggleable {background-color: white;}#sk-ffe3b075-03ac-4509-a889-7020cb6a6800 label.sk-toggleable__label {cursor: pointer;display: block;width: 100%;margin-bottom: 0;padding: 0.3em;box-sizing: border-box;text-align: center;}#sk-ffe3b075-03ac-4509-a889-7020cb6a6800 label.sk-toggleable__label-arrow:before {content: \"▸\";float: left;margin-right: 0.25em;color: #696969;}#sk-ffe3b075-03ac-4509-a889-7020cb6a6800 label.sk-toggleable__label-arrow:hover:before {color: black;}#sk-ffe3b075-03ac-4509-a889-7020cb6a6800 div.sk-estimator:hover label.sk-toggleable__label-arrow:before {color: black;}#sk-ffe3b075-03ac-4509-a889-7020cb6a6800 div.sk-toggleable__content {max-height: 0;max-width: 0;overflow: hidden;text-align: left;background-color: #f0f8ff;}#sk-ffe3b075-03ac-4509-a889-7020cb6a6800 div.sk-toggleable__content pre {margin: 0.2em;color: black;border-radius: 0.25em;background-color: #f0f8ff;}#sk-ffe3b075-03ac-4509-a889-7020cb6a6800 input.sk-toggleable__control:checked~div.sk-toggleable__content {max-height: 200px;max-width: 100%;overflow: auto;}#sk-ffe3b075-03ac-4509-a889-7020cb6a6800 input.sk-toggleable__control:checked~label.sk-toggleable__label-arrow:before {content: \"▾\";}#sk-ffe3b075-03ac-4509-a889-7020cb6a6800 div.sk-estimator input.sk-toggleable__control:checked~label.sk-toggleable__label {background-color: #d4ebff;}#sk-ffe3b075-03ac-4509-a889-7020cb6a6800 div.sk-label input.sk-toggleable__control:checked~label.sk-toggleable__label {background-color: #d4ebff;}#sk-ffe3b075-03ac-4509-a889-7020cb6a6800 input.sk-hidden--visually {border: 0;clip: rect(1px 1px 1px 1px);clip: rect(1px, 1px, 1px, 1px);height: 1px;margin: -1px;overflow: hidden;padding: 0;position: absolute;width: 1px;}#sk-ffe3b075-03ac-4509-a889-7020cb6a6800 div.sk-estimator {font-family: monospace;background-color: #f0f8ff;border: 1px dotted black;border-radius: 0.25em;box-sizing: border-box;margin-bottom: 0.5em;}#sk-ffe3b075-03ac-4509-a889-7020cb6a6800 div.sk-estimator:hover {background-color: #d4ebff;}#sk-ffe3b075-03ac-4509-a889-7020cb6a6800 div.sk-parallel-item::after {content: \"\";width: 100%;border-bottom: 1px solid gray;flex-grow: 1;}#sk-ffe3b075-03ac-4509-a889-7020cb6a6800 div.sk-label:hover label.sk-toggleable__label {background-color: #d4ebff;}#sk-ffe3b075-03ac-4509-a889-7020cb6a6800 div.sk-serial::before {content: \"\";position: absolute;border-left: 1px solid gray;box-sizing: border-box;top: 2em;bottom: 0;left: 50%;}#sk-ffe3b075-03ac-4509-a889-7020cb6a6800 div.sk-serial {display: flex;flex-direction: column;align-items: center;background-color: white;padding-right: 0.2em;padding-left: 0.2em;}#sk-ffe3b075-03ac-4509-a889-7020cb6a6800 div.sk-item {z-index: 1;}#sk-ffe3b075-03ac-4509-a889-7020cb6a6800 div.sk-parallel {display: flex;align-items: stretch;justify-content: center;background-color: white;}#sk-ffe3b075-03ac-4509-a889-7020cb6a6800 div.sk-parallel::before {content: \"\";position: absolute;border-left: 1px solid gray;box-sizing: border-box;top: 2em;bottom: 0;left: 50%;}#sk-ffe3b075-03ac-4509-a889-7020cb6a6800 div.sk-parallel-item {display: flex;flex-direction: column;position: relative;background-color: white;}#sk-ffe3b075-03ac-4509-a889-7020cb6a6800 div.sk-parallel-item:first-child::after {align-self: flex-end;width: 50%;}#sk-ffe3b075-03ac-4509-a889-7020cb6a6800 div.sk-parallel-item:last-child::after {align-self: flex-start;width: 50%;}#sk-ffe3b075-03ac-4509-a889-7020cb6a6800 div.sk-parallel-item:only-child::after {width: 0;}#sk-ffe3b075-03ac-4509-a889-7020cb6a6800 div.sk-dashed-wrapped {border: 1px dashed gray;margin: 0 0.4em 0.5em 0.4em;box-sizing: border-box;padding-bottom: 0.4em;background-color: white;position: relative;}#sk-ffe3b075-03ac-4509-a889-7020cb6a6800 div.sk-label label {font-family: monospace;font-weight: bold;background-color: white;display: inline-block;line-height: 1.2em;}#sk-ffe3b075-03ac-4509-a889-7020cb6a6800 div.sk-label-container {position: relative;z-index: 2;text-align: center;}#sk-ffe3b075-03ac-4509-a889-7020cb6a6800 div.sk-container {/* jupyter's `normalize.less` sets `[hidden] { display: none; }` but bootstrap.min.css set `[hidden] { display: none !important; }` so we also need the `!important` here to be able to override the default hidden behavior on the sphinx rendered scikit-learn.org. See: https://github.com/scikit-learn/scikit-learn/issues/21755 */display: inline-block !important;position: relative;}#sk-ffe3b075-03ac-4509-a889-7020cb6a6800 div.sk-text-repr-fallback {display: none;}</style><div id=\"sk-ffe3b075-03ac-4509-a889-7020cb6a6800\" class=\"sk-top-container\"><div class=\"sk-text-repr-fallback\"><pre>RandomForestRegressor(max_depth=6, min_samples_leaf=76, n_estimators=400,\n",
              "                      n_jobs=4)</pre><b>Please rerun this cell to show the HTML repr or trust the notebook.</b></div><div class=\"sk-container\" hidden><div class=\"sk-item\"><div class=\"sk-estimator sk-toggleable\"><input class=\"sk-toggleable__control sk-hidden--visually\" id=\"97a0469c-246e-4a85-8546-c9e63a7faa89\" type=\"checkbox\" checked><label for=\"97a0469c-246e-4a85-8546-c9e63a7faa89\" class=\"sk-toggleable__label sk-toggleable__label-arrow\">RandomForestRegressor</label><div class=\"sk-toggleable__content\"><pre>RandomForestRegressor(max_depth=6, min_samples_leaf=76, n_estimators=400,\n",
              "                      n_jobs=4)</pre></div></div></div></div></div>"
            ]
          },
          "metadata": {},
          "execution_count": 207
        }
      ]
    },
    {
      "cell_type": "code",
      "source": [
        "rf.predict(X_test_processed)"
      ],
      "metadata": {
        "id": "Kiv3PHP4AdeR",
        "colab": {
          "base_uri": "https://localhost:8080/"
        },
        "outputId": "afd8943e-54df-45a5-ab2d-06c0605c5aff"
      },
      "execution_count": null,
      "outputs": [
        {
          "output_type": "execute_result",
          "data": {
            "text/plain": [
              "array([1274.05786842,  672.26272677,  667.67415641, 4589.22778731,\n",
              "       3098.6121586 ,  595.90622497, 5920.54389945, 2048.60200479,\n",
              "       1589.19154276, 2982.18162278,  225.97807268,  583.4368268 ,\n",
              "       4026.47343319,  719.13698289,  809.65456422, 4234.18506036,\n",
              "       1880.16621706, 1638.63879187, 2051.63337015, 3102.9057904 ,\n",
              "       3088.02660599, 2601.14989111, 3132.35939897, 2422.7202351 ,\n",
              "       4153.68123857, 1247.99451135,  350.75934638, 3862.2178692 ,\n",
              "       3076.23871766, 3872.90583887,  721.33856487, 2858.82190843,\n",
              "       2139.13355274, 3133.41267144,  358.97803402, 1348.6720065 ,\n",
              "        721.19850041, 2064.81875381, 1290.13856211, 3156.56426497,\n",
              "        180.16796496, 2078.05545503, 1408.07377152, 1462.59165593,\n",
              "       2471.90469185, 1390.42917016,  792.3634346 ,  883.79926882,\n",
              "       4125.87865951, 2077.90864945,  735.57662438, 2122.03419157,\n",
              "        869.12560972,  123.40200833,  598.84457394, 1883.17626218,\n",
              "       3105.50897116, 2067.69951479,  634.92945609, 3995.67885078,\n",
              "        884.37860917,  392.86431662, 2447.61096269, 1951.8118676 ,\n",
              "       3150.25601718, 2596.63817244,  594.46820606, 3770.94449174,\n",
              "        650.34381035, 4225.18525304,  912.38721309,  350.75468199,\n",
              "       4143.91389721, 2080.7875149 , 1567.85734833, 1281.50108475,\n",
              "       2424.7812801 , 1440.06004421, 2843.0071347 , 2874.58694656,\n",
              "        854.04236326, 3878.61886912, 3962.89089422, 2310.48162942,\n",
              "       2947.89171112, 2457.66100832, 3717.99199628, 1401.14653035,\n",
              "       3644.2388738 , 2552.24199519, 5978.99895582, 1007.935552  ,\n",
              "        849.53582974, 2453.44766653,  720.04270691,  720.37217861,\n",
              "        921.85263671,  672.68546952, 1515.57591496,  123.21255314,\n",
              "       2470.48054391, 3935.63333371, 3725.6303492 ,  716.57892206,\n",
              "       2460.99069806,  956.19222206, 1050.95815622, 2976.2135804 ,\n",
              "        723.91382018, 1636.77273852,  595.18428797, 2450.4236615 ,\n",
              "       1442.74705292, 2424.7812801 ,  467.75578511,  653.60121168,\n",
              "       5985.11703315,  567.22332927, 1656.28739854, 2948.68125813,\n",
              "       2372.86997709, 3884.96448841, 2469.67592989,  932.31367893,\n",
              "       3155.41156203, 1699.40920442,  225.84396722, 2855.71240497,\n",
              "        671.95256706, 4235.67364821,  567.03510713, 1183.3618115 ,\n",
              "       2068.25067461, 3220.35389646, 1863.04767432, 1368.90427989,\n",
              "       2058.87623387, 3114.49565124, 2943.47964285, 3836.30411962,\n",
              "       5516.41241001, 4210.58114399, 1811.35179208, 2615.33613419,\n",
              "       2454.49234306, 2846.15684307, 2099.44409066, 3215.12576365,\n",
              "       3135.38183784, 1697.86182034,  468.211492  ,  598.16658412,\n",
              "       1358.88184196, 3079.95267944,  219.40144355, 2654.12937926,\n",
              "        154.68575711, 3937.5162358 , 2084.01264401, 2718.30428607,\n",
              "        123.21255314, 1549.06244777, 2117.79911183, 2059.65546823,\n",
              "       2660.94708394,  663.16409971, 4846.9243521 , 1447.55799948,\n",
              "       1973.70459158, 1877.97873156, 2471.37868148, 1713.05191936,\n",
              "       2377.20547533,  583.24602091, 3113.1809262 , 2701.31480365,\n",
              "       1587.70777862, 3095.40870215, 3848.36198227,  719.29440156,\n",
              "        583.33428171,  127.56721591, 1567.7226127 , 2549.58986378,\n",
              "       1778.23759798, 2662.11876435,  467.26897132,  629.92375237,\n",
              "       3878.61886912,  600.63108316, 1391.8649347 , 2473.47516133,\n",
              "       3116.48873115,  721.33856487, 1639.58994192, 1637.9162053 ,\n",
              "       2466.50093828, 1562.61107062, 2874.21706782, 1688.59217599,\n",
              "       2524.02005313, 1561.86054433, 3679.46093563, 2661.54423743,\n",
              "       1639.63717765, 2130.99272608,  629.92375237, 1296.11685813,\n",
              "       1467.0052035 , 2918.16066675, 3116.12603152, 1374.07395219,\n",
              "       1389.4245634 , 1991.86939756, 1277.97081186,  225.103788  ,\n",
              "       4245.88369287, 3913.61949652, 1855.31951842, 3878.61886912,\n",
              "       2055.23172976, 3637.46785632, 3282.49673961,  720.03989272,\n",
              "       1575.23627605, 5850.57756311, 2931.66977715, 3104.95373848,\n",
              "       1423.08228414, 4344.91419594, 3650.84822951, 1639.39996943,\n",
              "       2450.1216879 ,  596.15397651, 4229.7283799 , 1893.22937346,\n",
              "       1642.14804343, 2369.08445378, 2164.68444315, 2758.27614003,\n",
              "       2048.12965583, 2072.20971526, 2395.31867394,  568.1089193 ,\n",
              "       3095.67859128, 3067.58049562, 2444.13407108,  123.21255314,\n",
              "       2421.69862292,  594.17519618,  884.53243246, 2839.32945976,\n",
              "       4207.03646284, 1096.33558213, 2448.28804178, 3047.95737085,\n",
              "       4161.63831955,  571.18346799, 1465.07548751,  234.84593466,\n",
              "       3078.15763345, 3961.88404968, 3155.80427718,  491.12268541,\n",
              "       1994.89458757,  715.88821479, 1604.79141494, 2500.73265681,\n",
              "       3100.00323781, 2700.74027673, 2440.463451  , 1222.08958633,\n",
              "       3919.1619049 ,  123.21255314, 2409.66979346, 2792.22146933,\n",
              "        349.91160369, 2826.60274564, 2871.23307217,  646.77561034,\n",
              "       4125.83072135, 3724.77860502, 3246.39108982, 1590.68489121,\n",
              "       3519.80213334, 1640.62448571,  582.54942268, 2061.02257376,\n",
              "        888.27039372, 2463.92468474, 4158.4195531 , 1175.09599009,\n",
              "       5986.69702404, 1640.54902272, 2084.63285531, 3113.09970138,\n",
              "        257.44122352, 2582.07570414,  254.5057476 , 1389.293346  ,\n",
              "        264.58703033, 1401.38852836, 3878.61886912, 2959.74063056,\n",
              "       2482.0864531 , 2856.9151461 ,  493.77017834,  673.81500159,\n",
              "       1688.46174958,  394.95343976, 3892.91631106, 2423.69855525,\n",
              "        494.22977483,  571.35375234,  289.73155374, 1869.88456295,\n",
              "       3130.38930135,  883.53358172, 1642.20807713, 1630.2466929 ,\n",
              "       3038.96506011,  130.51444475,  572.42161501, 2425.22344376,\n",
              "       1802.77392869, 2471.95320841, 2687.268877  , 3887.3879822 ,\n",
              "       1639.95704677, 1175.09599009,  360.67397534, 4665.23763881,\n",
              "        887.82324441, 2048.36142419,  431.74342147, 1903.13217835,\n",
              "       2095.0108951 , 4227.83074215,  194.0437108 , 5985.11703315,\n",
              "       3543.55311695, 2059.36570455,  913.852921  ,  682.30984782,\n",
              "       4215.19649702, 3102.54337706, 4154.61387784,  596.88443722,\n",
              "       4593.77988379,  722.20992755,  914.2426764 , 2432.8452274 ,\n",
              "        884.08528315, 1405.89935372, 2064.00342878,  274.82469995,\n",
              "       1153.8548858 ,  135.15122589, 2132.40361945, 1447.17657265,\n",
              "        583.24602091, 1654.55739083,  633.25043018, 2465.84116099,\n",
              "       1630.12078383, 1801.78165914, 3878.61886912,  272.07936365,\n",
              "       5985.11703315, 3216.29773717, 3854.56568221, 1527.95024096,\n",
              "       1281.58496629, 2069.01169995, 1639.99684036, 1531.97846051,\n",
              "       2589.24095983, 2945.77791935, 1640.57923198, 3133.0370452 ,\n",
              "       3093.87042985, 2514.6655627 , 3619.01834765, 5985.11703315,\n",
              "       3101.83195882,  887.09369272, 4102.5370157 , 3229.36256369,\n",
              "       1243.94377267, 2364.86223553,  714.83899034,  723.81007976,\n",
              "       2947.37683967, 1284.80603182, 4245.50014676, 2098.55636171,\n",
              "       3229.98951985, 4080.51085004,  123.21255314, 2466.57071677,\n",
              "       1160.99472854, 2507.37624042, 1379.45091616,  584.69560267,\n",
              "        123.21255314, 2858.83843271,  123.21255314, 3979.37874105,\n",
              "       1684.31677749, 2964.37393606, 2085.85473989, 2780.30068128,\n",
              "       1400.07589715,  883.69713136, 2847.88055529, 3131.49738635,\n",
              "       2753.60863413, 3528.5336364 , 5111.05446483, 3931.75394428,\n",
              "       3650.20895229, 4102.23041472, 1036.68387   ,  471.55052404,\n",
              "        586.65279085, 2977.74211491, 1561.28235024,  731.35834751,\n",
              "        730.09683119, 3969.47328939, 2493.29050172, 1888.87887849,\n",
              "       4007.75355131, 3155.86800834,  585.3922009 , 1267.4445867 ,\n",
              "       5433.28296117, 2145.6603974 ,  508.41678043, 4012.08537714,\n",
              "       1217.35376188, 2470.32839159,  123.73318894, 1943.91577024,\n",
              "       4860.34335329,  598.36387094,  684.27658576,  123.21255314,\n",
              "       2063.51705912,  602.97571865, 2000.5338739 , 1887.17647674,\n",
              "       5125.3702871 , 2706.57187912, 3101.92907447, 1778.7229553 ,\n",
              "       5985.11703315, 3126.29263664,  349.92692905, 2102.84908028,\n",
              "        123.21255314,  673.80221714, 2470.07482262, 2949.13313303,\n",
              "       3161.84120877, 1640.54902272, 1284.28775649, 2860.17627945,\n",
              "       1906.92914276, 2412.66839168, 3208.97167815, 1640.57923198,\n",
              "       1393.7828153 , 2853.15653335, 3070.98741948, 4192.5646154 ,\n",
              "        653.65429311,  973.70782053, 4081.44820617, 3101.2346292 ,\n",
              "        238.82186607, 1277.82100785,  681.72597154,  185.30778995,\n",
              "       1354.363844  , 3635.97016107, 3489.96339485, 3829.32394475,\n",
              "        717.76071706, 1003.59009144, 1981.48763073, 1271.30017238,\n",
              "       3881.63593325, 3110.00053185, 3101.15638372,  786.8916317 ,\n",
              "       2092.68641946, 3065.21983029, 3492.50785471, 2742.9741186 ,\n",
              "       4026.69836863, 2933.59695097, 2383.6943651 , 2977.92044646,\n",
              "       1867.67173111,  123.21255314, 1401.53215568,  868.5771746 ,\n",
              "       1691.16358795,  238.11067811, 1403.73760221, 1688.35115283,\n",
              "        641.29546383, 2445.22464539,  689.41595722, 1373.53503639,\n",
              "       1435.43672924, 2038.68454058,  226.19298638, 1238.46200657,\n",
              "       1636.20539907, 1654.51653057, 5985.11703315, 2670.04878994,\n",
              "       4015.69997255, 1409.08123173, 2444.75484519, 3133.61157213,\n",
              "       2134.24724619, 2101.80665897, 2450.22513834, 3907.06003423,\n",
              "        123.21255314, 5986.69702404, 1429.28159294, 2080.71219401,\n",
              "        421.65356866, 1646.62016667, 1263.29580408, 2990.27970001,\n",
              "       2450.0895227 , 3084.94490655, 1412.49889429,  181.3487023 ,\n",
              "       3530.1888705 , 1639.8709887 , 1552.00067434, 3093.82788376,\n",
              "       2857.99976567, 2417.29835581, 2080.57150091,  580.6939133 ,\n",
              "       2397.84166983,  966.12419552,  348.26547005,  887.50515793,\n",
              "       3927.64767661, 1042.75143891, 1392.8257604 , 2431.43492128,\n",
              "       2425.35638234, 2866.34419967, 1406.89519759, 4153.27996057,\n",
              "       3628.36089047, 3959.2369488 , 2520.49683976, 2075.62980586,\n",
              "       1891.21741054, 3153.88599709, 2506.27980846,  392.82479097,\n",
              "        247.65680076, 1872.07744551,  484.45599727, 1876.88202532,\n",
              "        869.52711495, 3245.90787259,  474.68132268, 3075.55072684,\n",
              "       3656.65358871,  898.41101672,  873.89320774, 4229.20530662,\n",
              "       5111.05446483, 3496.00549446, 3514.66343148,  297.4288083 ,\n",
              "       2560.06223647, 3676.21944612, 2530.54732427, 2078.68554682,\n",
              "       1433.90280075, 5985.11703315,  842.38975131,  674.07055717,\n",
              "       2467.04136076, 2448.23343226, 2073.62091664, 2412.44099613,\n",
              "       1096.33558213, 5109.47447395,  583.70972413, 2459.35999491,\n",
              "       3104.2958842 , 1639.96751934, 2625.93857537, 2092.2871109 ,\n",
              "       1657.49430672, 2450.75675861,  718.28008435, 3976.48863404,\n",
              "        597.74184441, 3065.90086722, 2617.26465055, 2935.30195461,\n",
              "        123.21255314, 2066.01235425, 1393.7828153 , 3058.17158141,\n",
              "       3677.39701084, 3096.7439072 , 1883.43505863, 1170.00739478,\n",
              "       2084.9232543 , 3107.04695449, 2366.75571216, 1561.00794181,\n",
              "       3455.04134768, 3057.56524589, 3845.95718769, 1028.62478383,\n",
              "       1390.42917016, 1588.09478434, 3482.42184462, 1589.33662377,\n",
              "       1637.3542419 ,  629.31697733,  585.3922009 ,  155.93898126,\n",
              "       2968.78297385,  186.90502255, 2617.83085882, 5985.11703315,\n",
              "        288.497985  , 1601.88572864, 4064.82243146,  220.52335404,\n",
              "        123.21255314, 2095.54827884, 3966.06651516, 1638.06923269,\n",
              "       1525.41803866, 3084.79257812,  630.18566065, 1250.46557116,\n",
              "       2396.92402612, 1723.60598673, 3752.29803445,  671.66241023,\n",
              "        134.96785575, 5109.47447395, 1682.52813797, 2073.52267479,\n",
              "       1388.78516286, 1805.81390533, 1569.27540317, 2108.2144347 ,\n",
              "       1653.81889101,  672.26272677,  375.64293647,  378.45971065,\n",
              "       2518.50344766, 1298.31503783, 4658.54567757, 2458.43705607,\n",
              "        503.31084567, 1973.7635336 , 1870.53414562, 3138.23293018,\n",
              "       2649.03855186, 2860.01791004, 1640.69661725, 1551.41917095,\n",
              "       3878.61886912, 1884.6186971 , 1372.77605929, 2422.27314984,\n",
              "       1880.077999  , 2108.42668758,  284.61031334, 2914.34107551,\n",
              "       2480.60728366,  214.14851642, 1574.29849506,  883.35573146,\n",
              "       3132.80498247, 3218.04098916, 1767.52139076, 3060.31613056,\n",
              "       2089.39872077, 3160.30360091, 3555.88282494, 2080.89670841,\n",
              "       3136.40632534,  284.59075285, 1694.16140109, 1394.015017  ,\n",
              "        169.01422032,  648.70915351, 1615.87384554,  595.18428797,\n",
              "        913.40759378, 5675.70411423, 2907.6225594 , 3456.20075583,\n",
              "        912.93765901, 1319.9742244 ,  714.50670445, 1642.17786786,\n",
              "       2878.01049629, 2454.6066669 , 3756.48426543,  725.46654625,\n",
              "        271.02307406, 1133.06654273, 4110.625342  , 1880.03243506,\n",
              "       2089.39872077, 2084.92907424, 1869.90993801, 5986.69702404,\n",
              "       1631.55483617, 5988.20615292, 2037.98283241, 2056.02149065,\n",
              "        183.03991195, 3150.10033784, 2076.38033704,  472.73049505,\n",
              "        225.97807268, 4166.3544597 , 4858.83422441,  288.85641911,\n",
              "        391.06142962, 3069.32896632, 3001.30142585, 1250.41070494,\n",
              "       3090.06857413, 1568.37387701, 1200.33344833, 5111.05446483,\n",
              "       1419.06260406, 3681.25955376, 2044.16027984,  134.33337458,\n",
              "       2461.92053751, 3076.22577888, 3074.65670394,  505.56435416,\n",
              "       3102.5490635 , 1492.80616165, 4123.96608842, 2072.30795711,\n",
              "       1560.42902595, 1870.1767185 ,  718.09300295, 2123.96646813,\n",
              "       5986.69702404,  508.90683241, 1626.40406093, 5685.4061734 ,\n",
              "       2081.12735389, 1593.46307719, 3456.59987557, 1191.32759226,\n",
              "       2855.66750083,  422.12329639,  868.28103818,  645.29015303,\n",
              "       1231.35204662, 2830.24294423, 3083.89031136,  300.95037546,\n",
              "       1885.28805694, 1292.20035849, 3882.46624944, 1405.39016049,\n",
              "       1527.50538254, 2490.08298778, 2068.49535549, 1037.77166268,\n",
              "       1600.10273769, 1939.93181803, 5985.11703315, 4663.8308194 ,\n",
              "        123.21255314, 3912.23113656,  214.17592414,  296.27441009,\n",
              "        363.40837645, 5449.12193703, 2130.57709646, 3762.39929658,\n",
              "       2099.86932123, 3080.68784103, 2414.9554545 ,  230.83495751,\n",
              "       3939.43409717, 3907.06003423,  285.94122158, 2862.4403171 ,\n",
              "        583.47913213, 3989.4800762 , 1876.69247613, 1393.34637886,\n",
              "       4217.54648649, 2617.74484429, 4187.39138727, 3051.0223909 ,\n",
              "       1373.77579414, 1903.68335572, 2490.80147103, 1436.21581496,\n",
              "       1552.00067434, 1616.07247464, 2092.67835373,  937.03767604,\n",
              "       1033.06532173,  285.37303165, 2421.69862292, 1447.55799948,\n",
              "        153.69476954, 1592.88157381, 3077.01271842, 3120.13137047,\n",
              "       1409.73296406,  600.75890073, 2587.99045523, 1283.47681927,\n",
              "        674.1631515 , 2075.82357571,  581.28883273,  360.03849656,\n",
              "       4265.82765079,  729.99114607, 4168.21883484, 3753.85979496,\n",
              "       3917.58997695, 2434.46594435, 2395.72856914,  865.92490418,\n",
              "       1374.49267919])"
            ]
          },
          "metadata": {},
          "execution_count": 208
        }
      ]
    },
    {
      "cell_type": "code",
      "source": [
        "rf_train_preds = rf.predict(X_train_processed)\n",
        "rf_test_preds = rf.predict(X_test_processed)"
      ],
      "metadata": {
        "id": "ocDcrDHCAsPN"
      },
      "execution_count": null,
      "outputs": []
    },
    {
      "cell_type": "code",
      "source": [
        "train_score = rf.score(X_train_processed, y_train)\n",
        "test_score = rf.score(X_test_processed, y_test)\n",
        "print(train_score)\n",
        "print(test_score)"
      ],
      "metadata": {
        "id": "YGVRfg-jA8pF",
        "colab": {
          "base_uri": "https://localhost:8080/"
        },
        "outputId": "03791060-079a-4ab4-81e9-0613a6c09611"
      },
      "execution_count": null,
      "outputs": [
        {
          "output_type": "stream",
          "name": "stdout",
          "text": [
            "0.6079598806025992\n",
            "0.6215053499069114\n"
          ]
        }
      ]
    },
    {
      "cell_type": "code",
      "source": [
        "##El error medio absoluto en el entrenamiento arrojo un resultado  de 750 indicando que en algunos casos el valor predicho se desvia en promedio 757 del valor real,\n",
        "#el error medio absoluto para los datos de test disminuye un poco y toma el valor de 721 \n",
        "mae_train = mean_absolute_error(y_train, rf_train_preds)\n",
        "mae_test = mean_absolute_error(y_test, rf_test_preds)\n",
        "print(mae_train)\n",
        "print(mae_test)"
      ],
      "metadata": {
        "colab": {
          "base_uri": "https://localhost:8080/"
        },
        "id": "lIYZGydkA01w",
        "outputId": "d020de1d-bae7-466d-a3fd-355f9ded9e47"
      },
      "execution_count": null,
      "outputs": [
        {
          "output_type": "stream",
          "name": "stdout",
          "text": [
            "750.3166157232815\n",
            "721.0366912813463\n"
          ]
        }
      ]
    },
    {
      "cell_type": "code",
      "source": [
        "#DataFrame de los valores reales y los valores predichos por el modelo\n",
        "rf_preds = pd.DataFrame({'real_values':y_test, 'predictions':rf_test_preds})\n",
        "rf_preds\n",
        "\n",
        "#Este DataFrame nos muesta que para algunos valores el valor predicho varia  con respecto \n",
        "#al valor real, indicando que el modelo no es lo suficientemente bueno"
      ],
      "metadata": {
        "colab": {
          "base_uri": "https://localhost:8080/",
          "height": 423
        },
        "id": "_PSXoNFaAkX3",
        "outputId": "15ee1185-e8a4-4ccf-e550-c1dbd4ef3cba"
      },
      "execution_count": null,
      "outputs": [
        {
          "output_type": "execute_result",
          "data": {
            "text/plain": [
              "      real_values  predictions\n",
              "7503    1743.0644  1274.057868\n",
              "2957     356.8688   672.262727\n",
              "7031     377.5086   667.674156\n",
              "1084    5778.4782  4589.227787\n",
              "856     2356.9320  3098.612159\n",
              "...           ...          ...\n",
              "7118    7190.6400  3917.589977\n",
              "7364    3894.9300  2434.465944\n",
              "4128    2428.8384  2395.728569\n",
              "6440    1113.2176   865.924904\n",
              "2688    1860.2452  1374.492679\n",
              "\n",
              "[853 rows x 2 columns]"
            ],
            "text/html": [
              "\n",
              "  <div id=\"df-4c53cbd8-07fd-4ac0-86e0-6498006f2b0e\">\n",
              "    <div class=\"colab-df-container\">\n",
              "      <div>\n",
              "<style scoped>\n",
              "    .dataframe tbody tr th:only-of-type {\n",
              "        vertical-align: middle;\n",
              "    }\n",
              "\n",
              "    .dataframe tbody tr th {\n",
              "        vertical-align: top;\n",
              "    }\n",
              "\n",
              "    .dataframe thead th {\n",
              "        text-align: right;\n",
              "    }\n",
              "</style>\n",
              "<table border=\"1\" class=\"dataframe\">\n",
              "  <thead>\n",
              "    <tr style=\"text-align: right;\">\n",
              "      <th></th>\n",
              "      <th>real_values</th>\n",
              "      <th>predictions</th>\n",
              "    </tr>\n",
              "  </thead>\n",
              "  <tbody>\n",
              "    <tr>\n",
              "      <th>7503</th>\n",
              "      <td>1743.0644</td>\n",
              "      <td>1274.057868</td>\n",
              "    </tr>\n",
              "    <tr>\n",
              "      <th>2957</th>\n",
              "      <td>356.8688</td>\n",
              "      <td>672.262727</td>\n",
              "    </tr>\n",
              "    <tr>\n",
              "      <th>7031</th>\n",
              "      <td>377.5086</td>\n",
              "      <td>667.674156</td>\n",
              "    </tr>\n",
              "    <tr>\n",
              "      <th>1084</th>\n",
              "      <td>5778.4782</td>\n",
              "      <td>4589.227787</td>\n",
              "    </tr>\n",
              "    <tr>\n",
              "      <th>856</th>\n",
              "      <td>2356.9320</td>\n",
              "      <td>3098.612159</td>\n",
              "    </tr>\n",
              "    <tr>\n",
              "      <th>...</th>\n",
              "      <td>...</td>\n",
              "      <td>...</td>\n",
              "    </tr>\n",
              "    <tr>\n",
              "      <th>7118</th>\n",
              "      <td>7190.6400</td>\n",
              "      <td>3917.589977</td>\n",
              "    </tr>\n",
              "    <tr>\n",
              "      <th>7364</th>\n",
              "      <td>3894.9300</td>\n",
              "      <td>2434.465944</td>\n",
              "    </tr>\n",
              "    <tr>\n",
              "      <th>4128</th>\n",
              "      <td>2428.8384</td>\n",
              "      <td>2395.728569</td>\n",
              "    </tr>\n",
              "    <tr>\n",
              "      <th>6440</th>\n",
              "      <td>1113.2176</td>\n",
              "      <td>865.924904</td>\n",
              "    </tr>\n",
              "    <tr>\n",
              "      <th>2688</th>\n",
              "      <td>1860.2452</td>\n",
              "      <td>1374.492679</td>\n",
              "    </tr>\n",
              "  </tbody>\n",
              "</table>\n",
              "<p>853 rows × 2 columns</p>\n",
              "</div>\n",
              "      <button class=\"colab-df-convert\" onclick=\"convertToInteractive('df-4c53cbd8-07fd-4ac0-86e0-6498006f2b0e')\"\n",
              "              title=\"Convert this dataframe to an interactive table.\"\n",
              "              style=\"display:none;\">\n",
              "        \n",
              "  <svg xmlns=\"http://www.w3.org/2000/svg\" height=\"24px\"viewBox=\"0 0 24 24\"\n",
              "       width=\"24px\">\n",
              "    <path d=\"M0 0h24v24H0V0z\" fill=\"none\"/>\n",
              "    <path d=\"M18.56 5.44l.94 2.06.94-2.06 2.06-.94-2.06-.94-.94-2.06-.94 2.06-2.06.94zm-11 1L8.5 8.5l.94-2.06 2.06-.94-2.06-.94L8.5 2.5l-.94 2.06-2.06.94zm10 10l.94 2.06.94-2.06 2.06-.94-2.06-.94-.94-2.06-.94 2.06-2.06.94z\"/><path d=\"M17.41 7.96l-1.37-1.37c-.4-.4-.92-.59-1.43-.59-.52 0-1.04.2-1.43.59L10.3 9.45l-7.72 7.72c-.78.78-.78 2.05 0 2.83L4 21.41c.39.39.9.59 1.41.59.51 0 1.02-.2 1.41-.59l7.78-7.78 2.81-2.81c.8-.78.8-2.07 0-2.86zM5.41 20L4 18.59l7.72-7.72 1.47 1.35L5.41 20z\"/>\n",
              "  </svg>\n",
              "      </button>\n",
              "      \n",
              "  <style>\n",
              "    .colab-df-container {\n",
              "      display:flex;\n",
              "      flex-wrap:wrap;\n",
              "      gap: 12px;\n",
              "    }\n",
              "\n",
              "    .colab-df-convert {\n",
              "      background-color: #E8F0FE;\n",
              "      border: none;\n",
              "      border-radius: 50%;\n",
              "      cursor: pointer;\n",
              "      display: none;\n",
              "      fill: #1967D2;\n",
              "      height: 32px;\n",
              "      padding: 0 0 0 0;\n",
              "      width: 32px;\n",
              "    }\n",
              "\n",
              "    .colab-df-convert:hover {\n",
              "      background-color: #E2EBFA;\n",
              "      box-shadow: 0px 1px 2px rgba(60, 64, 67, 0.3), 0px 1px 3px 1px rgba(60, 64, 67, 0.15);\n",
              "      fill: #174EA6;\n",
              "    }\n",
              "\n",
              "    [theme=dark] .colab-df-convert {\n",
              "      background-color: #3B4455;\n",
              "      fill: #D2E3FC;\n",
              "    }\n",
              "\n",
              "    [theme=dark] .colab-df-convert:hover {\n",
              "      background-color: #434B5C;\n",
              "      box-shadow: 0px 1px 3px 1px rgba(0, 0, 0, 0.15);\n",
              "      filter: drop-shadow(0px 1px 2px rgba(0, 0, 0, 0.3));\n",
              "      fill: #FFFFFF;\n",
              "    }\n",
              "  </style>\n",
              "\n",
              "      <script>\n",
              "        const buttonEl =\n",
              "          document.querySelector('#df-4c53cbd8-07fd-4ac0-86e0-6498006f2b0e button.colab-df-convert');\n",
              "        buttonEl.style.display =\n",
              "          google.colab.kernel.accessAllowed ? 'block' : 'none';\n",
              "\n",
              "        async function convertToInteractive(key) {\n",
              "          const element = document.querySelector('#df-4c53cbd8-07fd-4ac0-86e0-6498006f2b0e');\n",
              "          const dataTable =\n",
              "            await google.colab.kernel.invokeFunction('convertToInteractive',\n",
              "                                                     [key], {});\n",
              "          if (!dataTable) return;\n",
              "\n",
              "          const docLinkHtml = 'Like what you see? Visit the ' +\n",
              "            '<a target=\"_blank\" href=https://colab.research.google.com/notebooks/data_table.ipynb>data table notebook</a>'\n",
              "            + ' to learn more about interactive tables.';\n",
              "          element.innerHTML = '';\n",
              "          dataTable['output_type'] = 'display_data';\n",
              "          await google.colab.output.renderOutput(dataTable, element);\n",
              "          const docLink = document.createElement('div');\n",
              "          docLink.innerHTML = docLinkHtml;\n",
              "          element.appendChild(docLink);\n",
              "        }\n",
              "      </script>\n",
              "    </div>\n",
              "  </div>\n",
              "  "
            ]
          },
          "metadata": {},
          "execution_count": 212
        }
      ]
    },
    {
      "cell_type": "code",
      "source": [
        "rf_preds= rf_preds.head(25)"
      ],
      "metadata": {
        "id": "L-Sp4F_FBDWo"
      },
      "execution_count": null,
      "outputs": []
    },
    {
      "cell_type": "code",
      "source": [
        "#En este gráfico podemos ver de forma mas visual los valores reales vs las predicciones hechas por el modelo,\n",
        "#algunos puntos los logra predecir bien o aproximadamente bien, sim embargo mucho otros varian mucho respecto al valor real \n",
        "\n",
        "sns.set_theme(style=\"ticks\", palette=\"pastel\")\n",
        "plt.show()\n",
        "rf_preds.plot(kind='bar',figsize=(18,8), color=('pink','blue'))\n",
        "plt.grid(linewidth='2')\n",
        "plt.grid(linewidth='2')\n",
        "plt.grid(None)\n",
        "plt.show()"
      ],
      "metadata": {
        "colab": {
          "base_uri": "https://localhost:8080/",
          "height": 396
        },
        "id": "Ki5eghumBH8M",
        "outputId": "297efdef-6262-4e9e-ba08-4a9e1bf118a9"
      },
      "execution_count": null,
      "outputs": [
        {
          "output_type": "display_data",
          "data": {
            "text/plain": [
              "<Figure size 1296x576 with 1 Axes>"
            ],
            "image/png": "[encoded data removed]"
          },
          "metadata": {}
        }
      ]
    },
    {
      "cell_type": "markdown",
      "source": [
        "# Conclusiones"
      ],
      "metadata": {
        "id": "Gaf9UNNT62Rh"
      }
    },
    {
      "cell_type": "markdown",
      "source": [
        "Debido a que el objetivo de un modelo de regresión es minimizar el error cuadratico medio, es decir intentar predecir los valores de manera que este error sea el minimo posible; de los tres modelos propuestos el que mejor logra esto es el Random Forest ya que el error medio absoluto en este fue de 721, lo cual indica que en promedio el valor predicho se aleja del valor real en 721 unidades.\n",
        "\n",
        "Cabe resaltar que el R2 y el error medio absoluto para los tres modelos no vario mucho y en general, esto puede deberse a que la naturaleza de los datos no es la mejor.\n",
        "\n"
      ],
      "metadata": {
        "id": "FAIxS022698C"
      }
    }
  ]
}